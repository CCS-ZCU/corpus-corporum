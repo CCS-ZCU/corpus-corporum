{
 "cells": [
  {
   "cell_type": "code",
   "id": "e5cf4f793895fc64",
   "metadata": {
    "collapsed": false,
    "jupyter": {
     "outputs_hidden": false
    },
    "ExecuteTime": {
     "end_time": "2024-11-11T17:18:45.548990Z",
     "start_time": "2024-11-11T17:18:45.543923Z"
    }
   },
   "source": [
    "import os\n",
    "import pandas as pd\n",
    "import re\n",
    "import tempun\n",
    "import matplotlib.pyplot as plt\n",
    "import json\n",
    "\n",
    "import gspread\n",
    "from gspread_dataframe import get_as_dataframe, set_with_dataframe\n",
    "from google.oauth2 import service_account # based on google-auth library"
   ],
   "outputs": [],
   "execution_count": 40
  },
  {
   "cell_type": "code",
   "id": "37d85ef50f9bdb21",
   "metadata": {
    "collapsed": false,
    "jupyter": {
     "outputs_hidden": false
    },
    "ExecuteTime": {
     "end_time": "2024-11-07T11:12:27.424465Z",
     "start_time": "2024-11-07T11:12:24.667926Z"
    }
   },
   "source": [
    "service_accounts_key_path = \"../../../ServiceAccountsKey.json\" # change to fit your location\n",
    "file_data = json.load(open(service_accounts_key_path))\n",
    "# (2) transform the content into crendentials object\n",
    "credentials = service_account.Credentials.from_service_account_info(file_data)\n",
    "# (3) specify your usage of the credentials\n",
    "scoped_credentials = credentials.with_scopes(\n",
    "    ['https://spreadsheets.google.com/feeds', 'https://www.googleapis.com/auth/drive'])\n",
    "# (4) use the constrained credentials for authentication of gspread package\n",
    "gc = gspread.Client(auth=scoped_credentials)\n",
    "\n",
    "noscemus_gs = gc.open_by_url(\n",
    "    \"https://docs.google.com/spreadsheets/d/1ekf9RBfd4yqy0p0IWJ4SDk1kUT70hnoIVX1H6KPdIts/edit?usp=sharing\")"
   ],
   "outputs": [],
   "execution_count": 2
  },
  {
   "cell_type": "markdown",
   "id": "6791f803-220e-4b16-a44f-047b9e4f07bd",
   "metadata": {},
   "source": [
    "The raw data for Corpus Corporum have been downloaded in terminal using these two commands:\n",
    "* `sudo curl -L -o /srv/data/corpus-corporum/latin_raw.csv \"https://huggingface.co/datasets/Fece228/latin-literature-dataset-170M/resolve/main/latin_raw.csv?download=true\"`\n",
    "* `sudo curl -L -o /srv/data/corpus-corporum/latin_lemmas.csv \"https://huggingface.co/datasets/Fece228/latin-literature-dataset-170M/resolve/main/latin_lemmas.csv?download=true\"`"
   ]
  },
  {
   "cell_type": "code",
   "id": "2be0c36d857a1447",
   "metadata": {
    "collapsed": false,
    "jupyter": {
     "outputs_hidden": false
    },
    "ExecuteTime": {
     "end_time": "2024-11-07T11:12:56.823238Z",
     "start_time": "2024-11-07T11:12:28.846107Z"
    }
   },
   "source": [
    "cc_raw = pd.read_csv('/srv/data/corpus-corporum/latin_raw.csv')"
   ],
   "outputs": [],
   "execution_count": 3
  },
  {
   "cell_type": "code",
   "id": "a397d0a9-00e6-460d-935e-1e383007021a",
   "metadata": {
    "ExecuteTime": {
     "end_time": "2024-11-07T11:12:56.853078Z",
     "start_time": "2024-11-07T11:12:56.845552Z"
    }
   },
   "source": [
    "cc_raw.head(5)"
   ],
   "outputs": [
    {
     "data": {
      "text/plain": [
       "             Unnamed: 0                         title  \\\n",
       "0     latin_xmls\\10.xml  De facto Ungarie magne1236\\n   \n",
       "1    latin_xmls\\100.xml                  De trinitate   \n",
       "2  latin_xmls\\10000.xml         De quadratura circuli   \n",
       "3  latin_xmls\\10001.xml       Epistola ad Berengarium   \n",
       "4  latin_xmls\\10002.xml                     Diplomata   \n",
       "\n",
       "                                                text  \\\n",
       "0  \\n\\nDe facto Ungarie magne\\n\\na fratre Riccard...   \n",
       "1  \\n\\n        ARGUMENTUM.\\n\\n\\n #Dividitur tract...   \n",
       "2  \\n\\n\\n          NOTA.\\nDiximus falso videri Be...   \n",
       "3  \\n\\n        Epistola ad Berengarium\\n\\nDomino ...   \n",
       "4  \\n\\n        I. #Charta fundationis seu restitu...   \n",
       "\n",
       "                         author       year  \n",
       "0                 Riccardus OFM    fl.1236  \n",
       "1                    Novatianus    fl. 260  \n",
       "2            Franco Leodiensis         NaN  \n",
       "3    Frollandus Sylvanectensis         NaN  \n",
       "4  Gervasius Remensis1055-1067   1055-1067  "
      ],
      "text/html": [
       "<div>\n",
       "<style scoped>\n",
       "    .dataframe tbody tr th:only-of-type {\n",
       "        vertical-align: middle;\n",
       "    }\n",
       "\n",
       "    .dataframe tbody tr th {\n",
       "        vertical-align: top;\n",
       "    }\n",
       "\n",
       "    .dataframe thead th {\n",
       "        text-align: right;\n",
       "    }\n",
       "</style>\n",
       "<table border=\"1\" class=\"dataframe\">\n",
       "  <thead>\n",
       "    <tr style=\"text-align: right;\">\n",
       "      <th></th>\n",
       "      <th>Unnamed: 0</th>\n",
       "      <th>title</th>\n",
       "      <th>text</th>\n",
       "      <th>author</th>\n",
       "      <th>year</th>\n",
       "    </tr>\n",
       "  </thead>\n",
       "  <tbody>\n",
       "    <tr>\n",
       "      <th>0</th>\n",
       "      <td>latin_xmls\\10.xml</td>\n",
       "      <td>De facto Ungarie magne1236\\n</td>\n",
       "      <td>\\n\\nDe facto Ungarie magne\\n\\na fratre Riccard...</td>\n",
       "      <td>Riccardus OFM</td>\n",
       "      <td>fl.1236</td>\n",
       "    </tr>\n",
       "    <tr>\n",
       "      <th>1</th>\n",
       "      <td>latin_xmls\\100.xml</td>\n",
       "      <td>De trinitate</td>\n",
       "      <td>\\n\\n        ARGUMENTUM.\\n\\n\\n #Dividitur tract...</td>\n",
       "      <td>Novatianus</td>\n",
       "      <td>fl. 260</td>\n",
       "    </tr>\n",
       "    <tr>\n",
       "      <th>2</th>\n",
       "      <td>latin_xmls\\10000.xml</td>\n",
       "      <td>De quadratura circuli</td>\n",
       "      <td>\\n\\n\\n          NOTA.\\nDiximus falso videri Be...</td>\n",
       "      <td>Franco Leodiensis</td>\n",
       "      <td>NaN</td>\n",
       "    </tr>\n",
       "    <tr>\n",
       "      <th>3</th>\n",
       "      <td>latin_xmls\\10001.xml</td>\n",
       "      <td>Epistola ad Berengarium</td>\n",
       "      <td>\\n\\n        Epistola ad Berengarium\\n\\nDomino ...</td>\n",
       "      <td>Frollandus Sylvanectensis</td>\n",
       "      <td>NaN</td>\n",
       "    </tr>\n",
       "    <tr>\n",
       "      <th>4</th>\n",
       "      <td>latin_xmls\\10002.xml</td>\n",
       "      <td>Diplomata</td>\n",
       "      <td>\\n\\n        I. #Charta fundationis seu restitu...</td>\n",
       "      <td>Gervasius Remensis1055-1067</td>\n",
       "      <td>1055-1067</td>\n",
       "    </tr>\n",
       "  </tbody>\n",
       "</table>\n",
       "</div>"
      ]
     },
     "execution_count": 4,
     "metadata": {},
     "output_type": "execute_result"
    }
   ],
   "execution_count": 4
  },
  {
   "cell_type": "code",
   "id": "b551521f-7507-4dad-8266-85ddbd490c27",
   "metadata": {
    "ExecuteTime": {
     "end_time": "2024-11-07T11:12:56.883616Z",
     "start_time": "2024-11-07T11:12:56.879854Z"
    }
   },
   "source": [
    "len(cc_raw)"
   ],
   "outputs": [
    {
     "data": {
      "text/plain": [
       "7819"
      ]
     },
     "execution_count": 5,
     "metadata": {},
     "output_type": "execute_result"
    }
   ],
   "execution_count": 5
  },
  {
   "cell_type": "code",
   "id": "eca75cba-13d8-4d87-8252-37aef5bd3154",
   "metadata": {
    "ExecuteTime": {
     "end_time": "2024-11-07T11:12:56.934259Z",
     "start_time": "2024-11-07T11:12:56.927159Z"
    }
   },
   "source": [
    "# let's use the numeric component from \"Unnamed: 0\" as a source for a Corpus Corporum ID\n",
    "cc_raw[\"cc_id\"] = cc_raw[\"Unnamed: 0\"].apply(lambda x: x.rpartition(\"\\\\\")[2].replace(\".xml\", \"\"))"
   ],
   "outputs": [],
   "execution_count": 6
  },
  {
   "cell_type": "code",
   "id": "b73463ca-7602-40fa-8d68-bba6a631964f",
   "metadata": {
    "ExecuteTime": {
     "end_time": "2024-11-07T11:12:56.985600Z",
     "start_time": "2024-11-07T11:12:56.979282Z"
    }
   },
   "source": [
    "# check that we have identical number of IDs as the number of works\n",
    "len(set(cc_raw[\"cc_id\"]))"
   ],
   "outputs": [
    {
     "data": {
      "text/plain": [
       "7819"
      ]
     },
     "execution_count": 7,
     "metadata": {},
     "output_type": "execute_result"
    }
   ],
   "execution_count": 7
  },
  {
   "cell_type": "code",
   "id": "e4b109a2-78c2-4760-8d1d-a3eea04631d4",
   "metadata": {
    "ExecuteTime": {
     "end_time": "2024-11-07T11:12:57.034822Z",
     "start_time": "2024-11-07T11:12:57.030449Z"
    }
   },
   "source": [
    "cc_raw.set_index(\"cc_id\", inplace=True)"
   ],
   "outputs": [],
   "execution_count": 8
  },
  {
   "cell_type": "code",
   "id": "37a8dabe530c72b0",
   "metadata": {
    "collapsed": false,
    "jupyter": {
     "outputs_hidden": false
    },
    "ExecuteTime": {
     "end_time": "2024-11-07T11:13:17.635813Z",
     "start_time": "2024-11-07T11:12:57.079436Z"
    }
   },
   "source": [
    "cc_raw[\"word_count\"] = cc_raw[\"text\"].apply(lambda x: len(x.split()))"
   ],
   "outputs": [],
   "execution_count": 9
  },
  {
   "cell_type": "code",
   "id": "1d8904b2a4fb6124",
   "metadata": {
    "collapsed": false,
    "jupyter": {
     "outputs_hidden": false
    },
    "ExecuteTime": {
     "end_time": "2024-11-07T11:13:17.646675Z",
     "start_time": "2024-11-07T11:13:17.643014Z"
    }
   },
   "source": [
    "cc_raw[\"word_count\"].sum()"
   ],
   "outputs": [
    {
     "data": {
      "text/plain": [
       "470180378"
      ]
     },
     "execution_count": 10,
     "metadata": {},
     "output_type": "execute_result"
    }
   ],
   "execution_count": 10
  },
  {
   "cell_type": "code",
   "id": "4840e8c379f68201",
   "metadata": {
    "collapsed": false,
    "jupyter": {
     "outputs_hidden": false
    },
    "ExecuteTime": {
     "end_time": "2024-11-07T11:13:17.695690Z",
     "start_time": "2024-11-07T11:13:17.690753Z"
    }
   },
   "source": [
    "cc_raw.shape"
   ],
   "outputs": [
    {
     "data": {
      "text/plain": [
       "(7819, 6)"
      ]
     },
     "execution_count": 11,
     "metadata": {},
     "output_type": "execute_result"
    }
   ],
   "execution_count": 11
  },
  {
   "cell_type": "code",
   "execution_count": 27,
   "id": "cba82cc1-9368-44e7-8d42-4e978154a663",
   "metadata": {},
   "outputs": [],
   "source": [
    "source_path = \"/srv/data/corpus-corporum/cc_rawtexts/\"\n",
    "try:\n",
    "    os.mkdir(source_path)\n",
    "except:\n",
    "    pass"
   ]
  },
  {
   "cell_type": "code",
   "execution_count": 28,
   "id": "1f02a313-65a2-4bf4-aac8-eb21a8890f9d",
   "metadata": {},
   "outputs": [
    {
     "data": {
      "text/plain": [
       "['latin_lemmas.csv', 'cc_rawtexts', 'latin_raw.csv']"
      ]
     },
     "execution_count": 28,
     "metadata": {},
     "output_type": "execute_result"
    }
   ],
   "source": [
    "os.listdir(\"/srv/data/corpus-corporum\")"
   ]
  },
  {
   "cell_type": "code",
   "execution_count": 30,
   "id": "778dda71-eb2a-460c-bee2-fd8cb25a91d2",
   "metadata": {},
   "outputs": [
    {
     "data": {
      "text/plain": [
       "0       None\n",
       "1       None\n",
       "2       None\n",
       "3       None\n",
       "4       None\n",
       "        ... \n",
       "7814    None\n",
       "7815    None\n",
       "7816    None\n",
       "7817    None\n",
       "7818    None\n",
       "Length: 7819, dtype: object"
      ]
     },
     "execution_count": 30,
     "metadata": {},
     "output_type": "execute_result"
    }
   ],
   "source": [
    "# save the raw texts into independent files...\n",
    "\n",
    "def save_text_to_file(row, path=source_path):\n",
    "    text = row[\"text\"]\n",
    "    filename = row[\"cc_id\"] + \".txt\"\n",
    "    full_path = os.path.join(path, filename)\n",
    "    with open(full_path, \"w\") as f:\n",
    "        f.write(text)\n",
    "\n",
    "cc_raw.apply(lambda row: save_text_to_file(row), axis=1)"
   ]
  },
  {
   "cell_type": "code",
   "execution_count": 31,
   "id": "bd20a0cd-7881-4a3b-b3fa-830e34923527",
   "metadata": {},
   "outputs": [
    {
     "data": {
      "text/plain": [
       "['11862.txt',\n",
       " '15393.txt',\n",
       " '8089.txt',\n",
       " '20102.txt',\n",
       " '7275.txt',\n",
       " '10052.txt',\n",
       " '10765.txt',\n",
       " '7562.txt',\n",
       " '11896.txt',\n",
       " '9411.txt']"
      ]
     },
     "execution_count": 31,
     "metadata": {},
     "output_type": "execute_result"
    }
   ],
   "source": [
    "# look at what we got...\n",
    "os.listdir(source_path)[:10]"
   ]
  },
  {
   "cell_type": "code",
   "execution_count": 32,
   "id": "df1ec1d5-c5b2-43a8-9ef6-11f4d3a7e28e",
   "metadata": {},
   "outputs": [
    {
     "data": {
      "text/plain": [
       "7819"
      ]
     },
     "execution_count": 32,
     "metadata": {},
     "output_type": "execute_result"
    }
   ],
   "source": [
    "len(os.listdir(source_path))"
   ]
  },
  {
   "cell_type": "code",
   "id": "3165eb6ee0304609",
   "metadata": {
    "collapsed": false,
    "jupyter": {
     "outputs_hidden": false
    },
    "ExecuteTime": {
     "end_time": "2024-11-07T11:13:17.743663Z",
     "start_time": "2024-11-07T11:13:17.738953Z"
    }
   },
   "source": [
    "# drop the textual column from actual table\n",
    "cc_raw.drop([\"text\", \"Unnamed: 0\"], axis=1, inplace=True)"
   ],
   "outputs": [],
   "execution_count": 12
  },
  {
   "cell_type": "code",
   "id": "4fae72b2f4bc2a05",
   "metadata": {
    "collapsed": false,
    "jupyter": {
     "outputs_hidden": false
    },
    "ExecuteTime": {
     "end_time": "2024-11-07T11:13:17.790804Z",
     "start_time": "2024-11-07T11:13:17.784857Z"
    }
   },
   "source": [
    "cc_raw.head(5)"
   ],
   "outputs": [
    {
     "data": {
      "text/plain": [
       "                              title                        author       year  \\\n",
       "cc_id                                                                          \n",
       "10     De facto Ungarie magne1236\\n                 Riccardus OFM    fl.1236   \n",
       "100                    De trinitate                    Novatianus    fl. 260   \n",
       "10000         De quadratura circuli            Franco Leodiensis         NaN   \n",
       "10001       Epistola ad Berengarium    Frollandus Sylvanectensis         NaN   \n",
       "10002                     Diplomata  Gervasius Remensis1055-1067   1055-1067   \n",
       "\n",
       "       word_count  \n",
       "cc_id              \n",
       "10           3340  \n",
       "100         44792  \n",
       "10000        1648  \n",
       "10001         518  \n",
       "10002        1532  "
      ],
      "text/html": [
       "<div>\n",
       "<style scoped>\n",
       "    .dataframe tbody tr th:only-of-type {\n",
       "        vertical-align: middle;\n",
       "    }\n",
       "\n",
       "    .dataframe tbody tr th {\n",
       "        vertical-align: top;\n",
       "    }\n",
       "\n",
       "    .dataframe thead th {\n",
       "        text-align: right;\n",
       "    }\n",
       "</style>\n",
       "<table border=\"1\" class=\"dataframe\">\n",
       "  <thead>\n",
       "    <tr style=\"text-align: right;\">\n",
       "      <th></th>\n",
       "      <th>title</th>\n",
       "      <th>author</th>\n",
       "      <th>year</th>\n",
       "      <th>word_count</th>\n",
       "    </tr>\n",
       "    <tr>\n",
       "      <th>cc_id</th>\n",
       "      <th></th>\n",
       "      <th></th>\n",
       "      <th></th>\n",
       "      <th></th>\n",
       "    </tr>\n",
       "  </thead>\n",
       "  <tbody>\n",
       "    <tr>\n",
       "      <th>10</th>\n",
       "      <td>De facto Ungarie magne1236\\n</td>\n",
       "      <td>Riccardus OFM</td>\n",
       "      <td>fl.1236</td>\n",
       "      <td>3340</td>\n",
       "    </tr>\n",
       "    <tr>\n",
       "      <th>100</th>\n",
       "      <td>De trinitate</td>\n",
       "      <td>Novatianus</td>\n",
       "      <td>fl. 260</td>\n",
       "      <td>44792</td>\n",
       "    </tr>\n",
       "    <tr>\n",
       "      <th>10000</th>\n",
       "      <td>De quadratura circuli</td>\n",
       "      <td>Franco Leodiensis</td>\n",
       "      <td>NaN</td>\n",
       "      <td>1648</td>\n",
       "    </tr>\n",
       "    <tr>\n",
       "      <th>10001</th>\n",
       "      <td>Epistola ad Berengarium</td>\n",
       "      <td>Frollandus Sylvanectensis</td>\n",
       "      <td>NaN</td>\n",
       "      <td>518</td>\n",
       "    </tr>\n",
       "    <tr>\n",
       "      <th>10002</th>\n",
       "      <td>Diplomata</td>\n",
       "      <td>Gervasius Remensis1055-1067</td>\n",
       "      <td>1055-1067</td>\n",
       "      <td>1532</td>\n",
       "    </tr>\n",
       "  </tbody>\n",
       "</table>\n",
       "</div>"
      ]
     },
     "execution_count": 13,
     "metadata": {},
     "output_type": "execute_result"
    }
   ],
   "execution_count": 13
  },
  {
   "cell_type": "code",
   "id": "137cfd7dc1cfaff0",
   "metadata": {
    "collapsed": false,
    "jupyter": {
     "outputs_hidden": false
    },
    "ExecuteTime": {
     "end_time": "2024-11-07T11:13:37.888570Z",
     "start_time": "2024-11-07T11:13:37.882093Z"
    }
   },
   "source": [
    "# TO-DO\n",
    "cc_raw[\"year\"].apply(lambda x: \"post\" in str(x)).sum()"
   ],
   "outputs": [
    {
     "data": {
      "text/plain": [
       "3"
      ]
     },
     "execution_count": 14,
     "metadata": {},
     "output_type": "execute_result"
    }
   ],
   "execution_count": 14
  },
  {
   "cell_type": "code",
   "id": "ee28f2133cb9866c",
   "metadata": {
    "collapsed": false,
    "jupyter": {
     "outputs_hidden": false
    },
    "ExecuteTime": {
     "end_time": "2024-11-07T11:13:38.788921Z",
     "start_time": "2024-11-07T11:13:38.782499Z"
    }
   },
   "source": [
    "d = \"c. 123\"\n",
    "dates_raw = [el for el in re.findall(\"(\\d+)(BC)?\", d)]\n",
    "dates = []\n",
    "for tup in dates_raw:\n",
    "    if tup[1] == \"BC\":\n",
    "        dates.append(int(tup[0]) * -1)\n",
    "    else:\n",
    "        dates.append(int(tup[0]))\n",
    "dates"
   ],
   "outputs": [
    {
     "data": {
      "text/plain": [
       "[123]"
      ]
     },
     "execution_count": 15,
     "metadata": {},
     "output_type": "execute_result"
    }
   ],
   "execution_count": 15
  },
  {
   "cell_type": "code",
   "id": "7fd8bec99c798c53",
   "metadata": {
    "collapsed": false,
    "jupyter": {
     "outputs_hidden": false
    },
    "ExecuteTime": {
     "end_time": "2024-11-07T11:13:39.939380Z",
     "start_time": "2024-11-07T11:13:39.934181Z"
    }
   },
   "source": [
    "# clean the dates into an interval, deliminated by \"not_before\" and \"not_after\"\n",
    "def get_dates(d):\n",
    "    date_dict = {}\n",
    "    try:\n",
    "        dates_raw = [el for el in re.findall(\"(\\d+)(BC)?\", d)]\n",
    "        dates = []\n",
    "        for tup in dates_raw:\n",
    "            if tup[1] == \"BC\":\n",
    "                dates.append(int(tup[0]) * -1)\n",
    "            else:\n",
    "                dates.append(int(tup[0]))\n",
    "    except:\n",
    "        dates = []\n",
    "    if len(dates)==1:\n",
    "        dates = [dates[0], dates[0]]\n",
    "    if len(dates)==2:\n",
    "        date_dict = {\"not_before\" : dates[0], \"not_after\" : dates[1]}\n",
    "    else:\n",
    "        date_dict = {\"not_before\" : None, \"not_after\" : None}\n",
    "    return date_dict   "
   ],
   "outputs": [],
   "execution_count": 16
  },
  {
   "cell_type": "code",
   "id": "4cd48177b28d33f0",
   "metadata": {
    "collapsed": false,
    "jupyter": {
     "outputs_hidden": false
    },
    "ExecuteTime": {
     "end_time": "2024-11-07T11:13:43.655420Z",
     "start_time": "2024-11-07T11:13:43.643813Z"
    }
   },
   "source": [
    "# look at texts from before the common era\n",
    "cc_raw[cc_raw[\"year\"].apply(lambda x: \"BC\" in str(x))]"
   ],
   "outputs": [
    {
     "data": {
      "text/plain": [
       "                      title       author           year  word_count\n",
       "cc_id                                                              \n",
       "12144        De agricultura        Varro     116BC-27BC      106464\n",
       "12146       De bello Africo    Ps-Caesar         c.50BC       26406\n",
       "12147  De bello Alexandrino    Ps-Caesar         c.50BC       21196\n",
       "12148  De bello Hispaniensi    Ps-Caesar         c.50BC       12368\n",
       "12157            De legibus        icero     106BC–43BC       56574\n",
       "...                     ...          ...            ...         ...\n",
       "21315            Theaetetus        Plato  c.425BC–347BC       71198\n",
       "21316               Theages        Plato  c.425BC–347BC       10973\n",
       "21317             Theogonia     Hesiodus     fl.c.700BC       14234\n",
       "21318               Timaeus        Plato  c.425BC–347BC       71756\n",
       "21319                Topica  Aristoteles    384BC–322BC      132864\n",
       "\n",
       "[195 rows x 4 columns]"
      ],
      "text/html": [
       "<div>\n",
       "<style scoped>\n",
       "    .dataframe tbody tr th:only-of-type {\n",
       "        vertical-align: middle;\n",
       "    }\n",
       "\n",
       "    .dataframe tbody tr th {\n",
       "        vertical-align: top;\n",
       "    }\n",
       "\n",
       "    .dataframe thead th {\n",
       "        text-align: right;\n",
       "    }\n",
       "</style>\n",
       "<table border=\"1\" class=\"dataframe\">\n",
       "  <thead>\n",
       "    <tr style=\"text-align: right;\">\n",
       "      <th></th>\n",
       "      <th>title</th>\n",
       "      <th>author</th>\n",
       "      <th>year</th>\n",
       "      <th>word_count</th>\n",
       "    </tr>\n",
       "    <tr>\n",
       "      <th>cc_id</th>\n",
       "      <th></th>\n",
       "      <th></th>\n",
       "      <th></th>\n",
       "      <th></th>\n",
       "    </tr>\n",
       "  </thead>\n",
       "  <tbody>\n",
       "    <tr>\n",
       "      <th>12144</th>\n",
       "      <td>De agricultura</td>\n",
       "      <td>Varro</td>\n",
       "      <td>116BC-27BC</td>\n",
       "      <td>106464</td>\n",
       "    </tr>\n",
       "    <tr>\n",
       "      <th>12146</th>\n",
       "      <td>De bello Africo</td>\n",
       "      <td>Ps-Caesar</td>\n",
       "      <td>c.50BC</td>\n",
       "      <td>26406</td>\n",
       "    </tr>\n",
       "    <tr>\n",
       "      <th>12147</th>\n",
       "      <td>De bello Alexandrino</td>\n",
       "      <td>Ps-Caesar</td>\n",
       "      <td>c.50BC</td>\n",
       "      <td>21196</td>\n",
       "    </tr>\n",
       "    <tr>\n",
       "      <th>12148</th>\n",
       "      <td>De bello Hispaniensi</td>\n",
       "      <td>Ps-Caesar</td>\n",
       "      <td>c.50BC</td>\n",
       "      <td>12368</td>\n",
       "    </tr>\n",
       "    <tr>\n",
       "      <th>12157</th>\n",
       "      <td>De legibus</td>\n",
       "      <td>icero</td>\n",
       "      <td>106BC–43BC</td>\n",
       "      <td>56574</td>\n",
       "    </tr>\n",
       "    <tr>\n",
       "      <th>...</th>\n",
       "      <td>...</td>\n",
       "      <td>...</td>\n",
       "      <td>...</td>\n",
       "      <td>...</td>\n",
       "    </tr>\n",
       "    <tr>\n",
       "      <th>21315</th>\n",
       "      <td>Theaetetus</td>\n",
       "      <td>Plato</td>\n",
       "      <td>c.425BC–347BC</td>\n",
       "      <td>71198</td>\n",
       "    </tr>\n",
       "    <tr>\n",
       "      <th>21316</th>\n",
       "      <td>Theages</td>\n",
       "      <td>Plato</td>\n",
       "      <td>c.425BC–347BC</td>\n",
       "      <td>10973</td>\n",
       "    </tr>\n",
       "    <tr>\n",
       "      <th>21317</th>\n",
       "      <td>Theogonia</td>\n",
       "      <td>Hesiodus</td>\n",
       "      <td>fl.c.700BC</td>\n",
       "      <td>14234</td>\n",
       "    </tr>\n",
       "    <tr>\n",
       "      <th>21318</th>\n",
       "      <td>Timaeus</td>\n",
       "      <td>Plato</td>\n",
       "      <td>c.425BC–347BC</td>\n",
       "      <td>71756</td>\n",
       "    </tr>\n",
       "    <tr>\n",
       "      <th>21319</th>\n",
       "      <td>Topica</td>\n",
       "      <td>Aristoteles</td>\n",
       "      <td>384BC–322BC</td>\n",
       "      <td>132864</td>\n",
       "    </tr>\n",
       "  </tbody>\n",
       "</table>\n",
       "<p>195 rows × 4 columns</p>\n",
       "</div>"
      ]
     },
     "execution_count": 17,
     "metadata": {},
     "output_type": "execute_result"
    }
   ],
   "execution_count": 17
  },
  {
   "cell_type": "code",
   "id": "4224c426c4b833ed",
   "metadata": {
    "collapsed": false,
    "jupyter": {
     "outputs_hidden": false
    },
    "ExecuteTime": {
     "end_time": "2024-11-07T11:13:47.414835Z",
     "start_time": "2024-11-07T11:13:47.392598Z"
    }
   },
   "source": [
    "cc_raw[\"dates_dict\"] = cc_raw[\"year\"].apply(get_dates)\n",
    "cc_raw[\"not_before\"] =  cc_raw[\"dates_dict\"].apply(lambda x: x[\"not_before\"])\n",
    "cc_raw[\"not_after\"] =  cc_raw[\"dates_dict\"].apply(lambda x: x[\"not_after\"])\n",
    "cc_raw.drop([\"dates_dict\"], axis=1, inplace=True)"
   ],
   "outputs": [],
   "execution_count": 18
  },
  {
   "cell_type": "code",
   "id": "7eb38088be98805b",
   "metadata": {
    "collapsed": false,
    "jupyter": {
     "outputs_hidden": false
    },
    "ExecuteTime": {
     "end_time": "2024-11-07T11:13:49.832857Z",
     "start_time": "2024-11-07T11:13:49.823558Z"
    }
   },
   "source": [
    "cc_raw.head()"
   ],
   "outputs": [
    {
     "data": {
      "text/plain": [
       "                              title                        author       year  \\\n",
       "cc_id                                                                          \n",
       "10     De facto Ungarie magne1236\\n                 Riccardus OFM    fl.1236   \n",
       "100                    De trinitate                    Novatianus    fl. 260   \n",
       "10000         De quadratura circuli            Franco Leodiensis         NaN   \n",
       "10001       Epistola ad Berengarium    Frollandus Sylvanectensis         NaN   \n",
       "10002                     Diplomata  Gervasius Remensis1055-1067   1055-1067   \n",
       "\n",
       "       word_count  not_before  not_after  \n",
       "cc_id                                     \n",
       "10           3340      1236.0     1236.0  \n",
       "100         44792       260.0      260.0  \n",
       "10000        1648         NaN        NaN  \n",
       "10001         518         NaN        NaN  \n",
       "10002        1532      1055.0     1067.0  "
      ],
      "text/html": [
       "<div>\n",
       "<style scoped>\n",
       "    .dataframe tbody tr th:only-of-type {\n",
       "        vertical-align: middle;\n",
       "    }\n",
       "\n",
       "    .dataframe tbody tr th {\n",
       "        vertical-align: top;\n",
       "    }\n",
       "\n",
       "    .dataframe thead th {\n",
       "        text-align: right;\n",
       "    }\n",
       "</style>\n",
       "<table border=\"1\" class=\"dataframe\">\n",
       "  <thead>\n",
       "    <tr style=\"text-align: right;\">\n",
       "      <th></th>\n",
       "      <th>title</th>\n",
       "      <th>author</th>\n",
       "      <th>year</th>\n",
       "      <th>word_count</th>\n",
       "      <th>not_before</th>\n",
       "      <th>not_after</th>\n",
       "    </tr>\n",
       "    <tr>\n",
       "      <th>cc_id</th>\n",
       "      <th></th>\n",
       "      <th></th>\n",
       "      <th></th>\n",
       "      <th></th>\n",
       "      <th></th>\n",
       "      <th></th>\n",
       "    </tr>\n",
       "  </thead>\n",
       "  <tbody>\n",
       "    <tr>\n",
       "      <th>10</th>\n",
       "      <td>De facto Ungarie magne1236\\n</td>\n",
       "      <td>Riccardus OFM</td>\n",
       "      <td>fl.1236</td>\n",
       "      <td>3340</td>\n",
       "      <td>1236.0</td>\n",
       "      <td>1236.0</td>\n",
       "    </tr>\n",
       "    <tr>\n",
       "      <th>100</th>\n",
       "      <td>De trinitate</td>\n",
       "      <td>Novatianus</td>\n",
       "      <td>fl. 260</td>\n",
       "      <td>44792</td>\n",
       "      <td>260.0</td>\n",
       "      <td>260.0</td>\n",
       "    </tr>\n",
       "    <tr>\n",
       "      <th>10000</th>\n",
       "      <td>De quadratura circuli</td>\n",
       "      <td>Franco Leodiensis</td>\n",
       "      <td>NaN</td>\n",
       "      <td>1648</td>\n",
       "      <td>NaN</td>\n",
       "      <td>NaN</td>\n",
       "    </tr>\n",
       "    <tr>\n",
       "      <th>10001</th>\n",
       "      <td>Epistola ad Berengarium</td>\n",
       "      <td>Frollandus Sylvanectensis</td>\n",
       "      <td>NaN</td>\n",
       "      <td>518</td>\n",
       "      <td>NaN</td>\n",
       "      <td>NaN</td>\n",
       "    </tr>\n",
       "    <tr>\n",
       "      <th>10002</th>\n",
       "      <td>Diplomata</td>\n",
       "      <td>Gervasius Remensis1055-1067</td>\n",
       "      <td>1055-1067</td>\n",
       "      <td>1532</td>\n",
       "      <td>1055.0</td>\n",
       "      <td>1067.0</td>\n",
       "    </tr>\n",
       "  </tbody>\n",
       "</table>\n",
       "</div>"
      ]
     },
     "execution_count": 19,
     "metadata": {},
     "output_type": "execute_result"
    }
   ],
   "execution_count": 19
  },
  {
   "cell_type": "code",
   "id": "6bbea9ac701f10b8",
   "metadata": {
    "collapsed": false,
    "jupyter": {
     "outputs_hidden": false
    },
    "ExecuteTime": {
     "end_time": "2024-11-07T11:13:53.309071Z",
     "start_time": "2024-11-07T11:13:53.304244Z"
    }
   },
   "source": [
    "cc_raw[\"is_earlymodern\"] = ((cc_raw[\"not_after\"]>=1501)\n",
    " & (cc_raw[\"not_before\"]<=1800))"
   ],
   "outputs": [],
   "execution_count": 20
  },
  {
   "cell_type": "code",
   "id": "7896ebfc10516f96",
   "metadata": {
    "collapsed": false,
    "jupyter": {
     "outputs_hidden": false
    },
    "ExecuteTime": {
     "end_time": "2024-11-07T11:13:53.963502Z",
     "start_time": "2024-11-07T11:13:53.958221Z"
    }
   },
   "source": [
    "cc_raw[\"is_earlymodern\"].sum()"
   ],
   "outputs": [
    {
     "data": {
      "text/plain": [
       "702"
      ]
     },
     "execution_count": 21,
     "metadata": {},
     "output_type": "execute_result"
    }
   ],
   "execution_count": 21
  },
  {
   "cell_type": "code",
   "id": "da8e16242ffddf38",
   "metadata": {
    "collapsed": false,
    "jupyter": {
     "outputs_hidden": false
    },
    "ExecuteTime": {
     "end_time": "2024-11-07T11:13:55.720102Z",
     "start_time": "2024-11-07T11:13:55.713465Z"
    }
   },
   "source": [
    "cc_raw[cc_raw[\"is_earlymodern\"]][\"word_count\"].sum()"
   ],
   "outputs": [
    {
     "data": {
      "text/plain": [
       "62656530"
      ]
     },
     "execution_count": 22,
     "metadata": {},
     "output_type": "execute_result"
    }
   ],
   "execution_count": 22
  },
  {
   "cell_type": "code",
   "id": "3294aeb99b8e4159",
   "metadata": {
    "collapsed": false,
    "jupyter": {
     "outputs_hidden": false
    },
    "ExecuteTime": {
     "end_time": "2024-11-07T11:13:56.839998Z",
     "start_time": "2024-11-07T11:13:56.832143Z"
    }
   },
   "source": [
    "\"; \".join(list(cc_raw[cc_raw[\"is_earlymodern\"]][\"author\"].unique()))"
   ],
   "outputs": [
    {
     "data": {
      "text/plain": [
       "\"Thomas Morus; Cartesius, Renatus; Desiderius Erasmus; Maurolycus, Franciscus; Kircher, Athanasius; Eberhard Schleusinger; Vesalius, Andreas; Leibniz, Gottfried Wilhelm; Copernicus, Nicolaus; Lavater, Ludwig; Cardanus, Hieronymus; Cantemir, Demetrius; Franciscus Suarez; Bene, Franz von; Benedictus Spinoza; Giambattista della Porta; Francis Bacon; Galilei, Galileo; Johannes Kepler; Kepler, Iohannes; Giordano Bruno; Gianni Battista Cantalicio; Baldassarre Castiglione; Giacomo Leopardi; Giambattista Giraldi Cinzio; Antonio Maria Conti; Gianfrancesco Pico della Mirandola; Uberto Foglietta; Lilio Gregorio Giraldi; Sannazaro, Iacopo; Ugolino Verino; Ugo Foscolo; Ludovico Ariosto; Torquato Tasso; Ludovico Carbone; Anonymus ; Andronicus, Parthenius Tranquillus; Cunichius, Raymondus; Leuakouicz, Raphael; Marulus Spalatensis, Marcus; Gradius, Stephanus; Verantius, Michael; Skerletz, Nicolaus; Pridojevich, Iohannes; Cibel, Valentin; Eborensis, Iacobus Flavius; Ritter, Paulus; Verhovac, Maximilianus; Tolimerius, Aelius; Kercselich, Balthasar Adam; Razmilovich, Bonaventura; Cervinus, Aelius Lampridius; Verantius, Antonius; Garbitius, Matthias; Gondola, Francischus Lucianus; Bernardinus de Frangepanibus; Cerva, Seraphinus Maria; Brodericus, Stephanus; Matthiasaevius Caramanaeus, Antonius; De Restiis, Iunius Antonius; Natalis, Franciscus; Pascalis, Ludovicus; Rosaneus, Antonius ; Palmotta, Junius; Verantius, Faustus; Niger, Thomas; Chistophorus de Frangepanibus; Flacius Illyricus, Matthias; Cervarius Tubero, Ludovicus; Brezovacki, Titus; Duditius, Andreas; Sorgo, Michael; Benessa, Damianus; Benignus, Georgius; Bonus Racusaeus, Iacobus; Sisgoreus, Georgius; Boscovichius, Rogerius Iosephus; Bona de Boliris, Ioannes; Ciobarnich Macarskensis, Iosephus; Kitonich, Iohannes; Slavatus, Vincentius; Barichevich, Adamus Aloysius; Stepanich, Nicolaus; Ferrich, Georgius; Puteus, Carolus; Gotius, Iohannes; Georgius episcopus Varadiensis; Georgius, Ignatius; Zigerius, Emerik; Auctores varii; Zamagna, Bernardus; Palmotta, Georgius; Difnicus, Gerorgius; Banisius, Jacobus; Bocignolus, Michael; Benessa, Petrus; Severitanus, Iohannes Policarpus; Franciscus de Frangepanibus; Katancic, Matthias Petrus; Crusich, Petrus; Diphnicus, Iohannes Baptista; Tranquillus, Nicolaus; Vicich, Caietanus; Cippicus, Aloisius; Micatius, Nicolaus; Staphileus, Iohannes; Priboevius, Vincentius; Possidarski, Stephanus; Petraeus, Nicolaus; Stay, Benedictus; Ghetaldus, Marinus; Rogacci, Benedictus; Rattkay, Iohannes; Chrysogonus, Federicus; Barits, Adamus Adalbertus; Stulli, Lucas; Jellachich de Buzin, Ludovicu; Patricius, Franciscus; Vossius, Gerardus Johannes; Masenius, Jacobus; Atrocianus, Johannes; Lemnius, Simon; Melanchthon, Philippus; Sennert, Daniel; Du Cange, Charles du Fresne; Neugebauer, Salomon; Orlandini, Nicola; Thuanus, Jacobus Augustus; Hofmann, Johann Jacob; Conradus Celtis; Gwalther, Rudolf; Balde, Iacob; Furstenberg, Ferdinandus de; Lipsius, Justus; Castellio, Sebastianus; Gian Vittorio Rossi; Augustinus Niphus; Franciscus Vicomercatus; Ioachimus Perionius; Iulius Pacius; Marcus Antonius Sabellicus; Aulus Ianus Parrhasius; Stolle, Conradus; Gauss, Carl Friedrich; Vieta, Franciscus; Newton, Isaac; Euler, Leonhard; Theodor Bibliander; Amaseo, Girolamo; Avanzi, Girolamo; Negri, Francesco; Uberti, Francesco; Crinito, Pietro; Andrelino, Fausto; Mantovano, Battista; Resch, Joseph; Aleandro, Gerolamo; Folengo, Teofilo; Cruceio, Annibale; Fracastoro, Girolamo; Naldi, Naldo; Braccesi, Alessandro; Varchi, Benedetto; Astemio, Giovanni Pietro; Boni, Rocco; Cantalicio; Strozzi, Tito Vespasiano; Bologni, Gerolamo; Darcio, Giovanni; Verino, Ugolino; Anselmi, Giorgio; Collenuccio, Pandolfo; Fedele, Cassandra; Valeriano, Pietro; Vitelli, Cornelio; Fonzio, Bartolomeo; Pontico, Ludovico; Della Croce, Gian Giacomo; Sasso, Panfilo; Angulo, Andrea; Bagatto, Ottavio; Bonzi, Lelio; Flaminghio, Lorenzo; Giovio, Paolo; Lenzi, Lorenzo; Mendoza, Francesco; Nicolucesi, Lorenzo; Prospero, Orazio; Ranieri, Anton Francesco; Seroni, Giovanni Antonio; Minervi, Severo; Altilio, Gabriele; Amalteo, Cornelio Paolo; Ammonio, Andrea; Ariosto, Ludovico; Balbi, Girolamo; Bargeo; Bembo, Pietro; Berni, Francesco; Bonomo, Pietro; Canale, Matteo; Carbone, Girolamo; Casellio, Aurelio; Castiglione, Baldassarre; Cichino, Giorgio; Cotta, Giovanni; Della Casa, Giovanni; Di Natale, Francesco; Epicuro, Marcantonio; Flaminio, Marco Antonio; Geraldini, Alessandro; Gerolamo da Este; Luisini, Francesco; Luisini, Riccardo; Manuzio, Aldo; Michaelis Hospitalis; Molza, Francesco Maria; Molza, Tarquinia; Paolini, Alessandro; Sbruglio, Riccardo; Serarrighi, Cristofano; Sisgoreo, Giorgio; Sporeni, Giuseppe; Piatti, Pietro Antonio; Gadio, Giorgio; Stufa, Giulio; Vidroscio, Lorenzo; Rapicio, Andrea; Blosio, Palladio; Cancianini, Gian Domenico; Pontano, Giovanni Gioviano; Tilesio, Antonio; Augurelli, Giovanni Aurelio; Corsini, Amerigo; Calenzio, Elisio; Gambara, Lorenzo; Bon, Giacomo; Perisauli, Faustino; Zamberti, Bartolomeo; Rota, Berardino; Scaligero, Giulio Cesare; Beroaldo, Filippo; Parrasio, Paolo; Calcagnini, Celio; Veterano, Federico; Hercolani de Sarti, Gioanni; Pittiani, Francesco; Bencio, Trifone; Angeriano, Girolamo; Barignani, Fabio; Muzio, Girolamo; Ferreri, Zaccaria; Navagero, Andrea; Pico, Giovanni Francesco; D'Arco, Nicolò; Flaminio, Giannantonio; Pigna, Giovanni Battista; Johannes Leo Placentius; Landivar, Raphael; Vida, Marco Girolamo; Marso, Giovanni Armonio; Palingenio Stellato, Marcello; Intorcetta, Prospero; Ricci, Matteo; Boym, Michał Piotr; Couplet, Philippe; Martini, Martinus S.J; Noël, François; Ludvig Holberg; Theologi Duacenses1617 \""
      ]
     },
     "execution_count": 23,
     "metadata": {},
     "output_type": "execute_result"
    }
   ],
   "execution_count": 23
  },
  {
   "cell_type": "code",
   "id": "e94512f2a2b50128",
   "metadata": {
    "collapsed": false,
    "jupyter": {
     "outputs_hidden": false
    },
    "ExecuteTime": {
     "end_time": "2024-11-07T11:14:06.393153Z",
     "start_time": "2024-11-07T11:14:04.505056Z"
    }
   },
   "source": [
    "cc_raw[\"random_dates\"] = cc_raw.apply(lambda row: tempun.model_date(row[\"not_before\"], row[\"not_after\"], size=100), axis=1)"
   ],
   "outputs": [],
   "execution_count": 24
  },
  {
   "cell_type": "code",
   "id": "4bb8cc2aac759578",
   "metadata": {
    "collapsed": false,
    "jupyter": {
     "outputs_hidden": false
    },
    "ExecuteTime": {
     "end_time": "2024-11-07T11:14:06.719879Z",
     "start_time": "2024-11-07T11:14:06.400552Z"
    }
   },
   "source": [
    "tempun.timeblocksplot_from_randoms(cc_raw[\"random_dates\"])"
   ],
   "outputs": [
    {
     "data": {
      "text/plain": [
       "[[<matplotlib.patches.Polygon at 0x75b72e94b520>],\n",
       " [<matplotlib.patches.Polygon at 0x75b72e948dc0>]]"
      ]
     },
     "execution_count": 25,
     "metadata": {},
     "output_type": "execute_result"
    },
    {
     "data": {
      "text/plain": [
       "<Figure size 640x480 with 1 Axes>"
      ],
      "image/png": "[encoded data removed]"
     },
     "metadata": {},
     "output_type": "display_data"
    }
   ],
   "execution_count": 25
  },
  {
   "cell_type": "markdown",
   "id": "57d882d8-2085-4d63-ae0d-5efaf4f33d99",
   "metadata": {},
   "source": [
    "### Explore wordcount distributions"
   ]
  },
  {
   "cell_type": "code",
   "id": "adcabb11f7e7a16d",
   "metadata": {
    "collapsed": false,
    "jupyter": {
     "outputs_hidden": false
    },
    "ExecuteTime": {
     "end_time": "2024-11-07T11:14:17.404890Z",
     "start_time": "2024-11-07T11:14:15.810038Z"
    }
   },
   "source": [
    "def wordcount(timeblock_df, column=\"word_count\"):\n",
    "    \"\"\"number of words in inscriptions within timeblock\"\"\"\n",
    "    return timeblock_df[column].sum()\n",
    "wordcounts_data = tempun.sim_data_by_function(cc_raw, 100, [-200, 1900, 50], wordcount)"
   ],
   "outputs": [],
   "execution_count": 26
  },
  {
   "cell_type": "code",
   "id": "e00e96c248b4fed4",
   "metadata": {
    "ExecuteTime": {
     "end_time": "2024-11-07T11:14:17.415640Z",
     "start_time": "2024-11-07T11:14:17.411365Z"
    }
   },
   "source": [
    "cc_raw[\"late-ant\"] = ((cc_raw[\"not_after\"]>=250)\n",
    "                            & (cc_raw[\"not_before\"]<=450))"
   ],
   "outputs": [],
   "execution_count": 27
  },
  {
   "cell_type": "code",
   "id": "bf95a43d69fa7631",
   "metadata": {
    "ExecuteTime": {
     "end_time": "2024-11-07T11:14:17.469971Z",
     "start_time": "2024-11-07T11:14:17.461031Z"
    }
   },
   "source": [
    "cc_raw[cc_raw[\"late-ant\"]].groupby(\"author\").size().sort_values(ascending=False)"
   ],
   "outputs": [
    {
     "data": {
      "text/plain": [
       "author\n",
       "Augustinus Hipponensis             199\n",
       "Hieronymus Stridonensis             99\n",
       "Ambrosius Mediolanensis             53\n",
       "Ausonius Burdigalensis              45\n",
       "Hilarius Pictaviensis               26\n",
       "                                  ... \n",
       "Victor Vitensis430-484               1\n",
       "Iulius Victor                        1\n",
       "Julianus Pomerius430-490             1\n",
       "Julius Firmicus Maternusfl.337       1\n",
       "Iulius Exuperantius                  1\n",
       "Length: 188, dtype: int64"
      ]
     },
     "execution_count": 28,
     "metadata": {},
     "output_type": "execute_result"
    }
   ],
   "execution_count": 28
  },
  {
   "cell_type": "code",
   "id": "9ac4583265fadd60",
   "metadata": {
    "ExecuteTime": {
     "end_time": "2024-11-07T11:14:18.273044Z",
     "start_time": "2024-11-07T11:14:18.242911Z"
    }
   },
   "source": [
    "cc_raw[cc_raw[\"title\"].str.contains(\"Homili\")]"
   ],
   "outputs": [
    {
     "data": {
      "text/plain": [
       "                                                 title  \\\n",
       "cc_id                                                    \n",
       "10558                                         Homiliae   \n",
       "10622                        Homiliae et exhortationes   \n",
       "10703                   Homilia de villico iniquitatis   \n",
       "11042                             Homiliae dominicales   \n",
       "11043                              Homiliae festivales   \n",
       "11044            Homiliae in diversos locos Scripturae   \n",
       "11065                         Homiliae in Ecclesiasten   \n",
       "11383                 Homiliae de Maria Virginea Matre   \n",
       "11446                Homilia de natalitio martyris die   \n",
       "16830                                         Homiliae   \n",
       "21411                                         Homiliae   \n",
       "21412                           Homiliae in Ezechielem   \n",
       "7182   Translatio Homiliarum in Jeremiam et Ezechielem   \n",
       "7192                       Translatio XXXIX Homiliarum   \n",
       "7264                               Homilia ad monachos   \n",
       "7511                   Homilia in Dominica II Adventus   \n",
       "7550                                          Homiliae   \n",
       "7599                                          Homiliae   \n",
       "7647                                          Homiliae   \n",
       "7652                                          Homiliae   \n",
       "7657                                           Homilia   \n",
       "7692                           Homilia de rogationibus   \n",
       "7695                        Homilia de passione Domini   \n",
       "7837                                          Homiliae   \n",
       "7969                       Homilia in laudem ecclesiae   \n",
       "7987                              Homilia de epiphania   \n",
       "8053                             Homiliae in Evangelia   \n",
       "8274                                          Homiliae   \n",
       "8349                Homilia in transfiguratione Domini   \n",
       "8509                                          Homiliae   \n",
       "8525                               Homiliae de Sanctis   \n",
       "8526                               Homiliae de tempore   \n",
       "8536                                          Homiliae   \n",
       "8716                                          Homiliae   \n",
       "8913                                          Homiliae   \n",
       "9019          Homilia in initium Evangelii S. Matthaei   \n",
       "9048                                           Homilia   \n",
       "9086                                          Homiliae   \n",
       "9101               Homiliae in solemnitate S. Wigberti   \n",
       "9182    Homilia in prologum Evangelii secundum Joannem   \n",
       "9298                  Homilia de decimis et de jejunio   \n",
       "9350                                          Homiliae   \n",
       "9509            Homilia in natale S. Alexi confessoris   \n",
       "9847   Homilia de octo beatitudinibus et S. Emmerammo.   \n",
       "\n",
       "                                          author         year  word_count  \\\n",
       "cc_id                                                                       \n",
       "10558                    Radulfus Ardens-c.1200       -c.1200      388054   \n",
       "10622                     Anselmus Cantuariensis    1033-1109       75062   \n",
       "10703                     Odo Cameracensis-1113         -1113        4268   \n",
       "11042               Godefridus Admontensis-1165         -1165      507076   \n",
       "11043               Godefridus Admontensis-1165         -1165      348548   \n",
       "11044               Godefridus Admontensis-1165         -1165       61134   \n",
       "11065                         Hugo de S. Victore        -1141      123390   \n",
       "11383             Amedeus Lausannensis1144-1159     1144-1159       35440   \n",
       "11446                 Herbertus de Boseham-1186         -1186        7956   \n",
       "16830                             Alcimus Avitus   ca.450-518       57140   \n",
       "21411                   Bruno Astensis1047–1123     1047–1123      146456   \n",
       "21412                        Gregorius I540-604       540-604      335500   \n",
       "7182   Origenes; Hieronymus Stridonensis340-420       340-420      153676   \n",
       "7192   Origenes; Hieronymus Stridonensis340-420       340-420       65836   \n",
       "7264                            Auctor incertus           NaN        6182   \n",
       "7511                      Augustinus Hipponensis      354-430        1918   \n",
       "7550           Eucherius Lugdunensisc.380–c.449   c.380–c.449       26772   \n",
       "7599               Valerianus Cemeliensisfl.450        fl.450       78431   \n",
       "7647     Auctor incertus (Maximus Taurinensis?)           NaN        5758   \n",
       "7652                  Maximus Taurinensis-c.420        -c.420      311541   \n",
       "7657         Auctor incertus (Victor Vitensis?)           NaN        1135   \n",
       "7692                   Avitus Viennensis460-518       460-518        3002   \n",
       "7695                        Faustinusfl.368-384    fl.368-384        1974   \n",
       "7837                      Laurentius Novariensis      fl. 540       31900   \n",
       "7969                       Leandrus Hispalensis           NaN        2980   \n",
       "7987                        Sedatus Bitterensis           NaN        2424   \n",
       "8053                                 Gregorius I      540-604      266846   \n",
       "8274                         Eligius Noviomensis      fl. 659       52480   \n",
       "8349                        Ambrosius Autpertus           NaN       19056   \n",
       "8509                                        Beda      672-735      484528   \n",
       "8525                             Auctores varii           NaN       90662   \n",
       "8526                             Auctores varii           NaN      250700   \n",
       "8536                Paulus Vinfridusc.725-c.799   c.725-c.799       15172   \n",
       "8716                Auctor incertus (Alcuinus?)           NaN        8256   \n",
       "8913                              Rabanus Maurus      780-856      381836   \n",
       "9019                           Walafridus Strabo      808-849        8298   \n",
       "9048                                     Leo IV           NaN        7614   \n",
       "9086                       Haymo Halberstatensis         -853      704436   \n",
       "9101              Lupus Ferrariensisc.805-c.862   c.805-c.862        3894   \n",
       "9182                      Joannes Scotus Erigena      810-877       10842   \n",
       "9298                            Auctor incertus           NaN         954   \n",
       "9350         Remigius Antissiodorensisc.841–908     c.841–908       57716   \n",
       "9509                Adalbertus Pragensis956-996       956-996        1726   \n",
       "9847                     Arnoldus Emmerammensis           NaN        3342   \n",
       "\n",
       "       not_before  not_after  is_earlymodern  \\\n",
       "cc_id                                          \n",
       "10558      1200.0     1200.0           False   \n",
       "10622      1033.0     1109.0           False   \n",
       "10703      1113.0     1113.0           False   \n",
       "11042      1165.0     1165.0           False   \n",
       "11043      1165.0     1165.0           False   \n",
       "11044      1165.0     1165.0           False   \n",
       "11065      1141.0     1141.0           False   \n",
       "11383      1144.0     1159.0           False   \n",
       "11446      1186.0     1186.0           False   \n",
       "16830       450.0      518.0           False   \n",
       "21411      1047.0     1123.0           False   \n",
       "21412       540.0      604.0           False   \n",
       "7182        340.0      420.0           False   \n",
       "7192        340.0      420.0           False   \n",
       "7264          NaN        NaN           False   \n",
       "7511        354.0      430.0           False   \n",
       "7550        380.0      449.0           False   \n",
       "7599        450.0      450.0           False   \n",
       "7647          NaN        NaN           False   \n",
       "7652        420.0      420.0           False   \n",
       "7657          NaN        NaN           False   \n",
       "7692        460.0      518.0           False   \n",
       "7695        368.0      384.0           False   \n",
       "7837        540.0      540.0           False   \n",
       "7969          NaN        NaN           False   \n",
       "7987          NaN        NaN           False   \n",
       "8053        540.0      604.0           False   \n",
       "8274        659.0      659.0           False   \n",
       "8349          NaN        NaN           False   \n",
       "8509        672.0      735.0           False   \n",
       "8525          NaN        NaN           False   \n",
       "8526          NaN        NaN           False   \n",
       "8536        725.0      799.0           False   \n",
       "8716          NaN        NaN           False   \n",
       "8913        780.0      856.0           False   \n",
       "9019        808.0      849.0           False   \n",
       "9048          NaN        NaN           False   \n",
       "9086        853.0      853.0           False   \n",
       "9101        805.0      862.0           False   \n",
       "9182        810.0      877.0           False   \n",
       "9298          NaN        NaN           False   \n",
       "9350        841.0      908.0           False   \n",
       "9509        956.0      996.0           False   \n",
       "9847          NaN        NaN           False   \n",
       "\n",
       "                                            random_dates  late-ant  \n",
       "cc_id                                                               \n",
       "10558  [1200, 1200, 1200, 1200, 1200, 1200, 1200, 120...     False  \n",
       "10622  [1074, 1083, 1072, 1041, 1054, 1053, 1076, 105...     False  \n",
       "10703  [1113, 1113, 1113, 1113, 1113, 1113, 1113, 111...     False  \n",
       "11042  [1165, 1165, 1165, 1165, 1165, 1165, 1165, 116...     False  \n",
       "11043  [1165, 1165, 1165, 1165, 1165, 1165, 1165, 116...     False  \n",
       "11044  [1165, 1165, 1165, 1165, 1165, 1165, 1165, 116...     False  \n",
       "11065  [1141, 1141, 1141, 1141, 1141, 1141, 1141, 114...     False  \n",
       "11383  [1154, 1156, 1150, 1150, 1158, 1145, 1154, 115...     False  \n",
       "11446  [1186, 1186, 1186, 1186, 1186, 1186, 1186, 118...     False  \n",
       "16830  [461, 451, 501, 457, 472, 465, 485, 509, 513, ...      True  \n",
       "21411  [1062, 1087, 1049, 1067, 1069, 1086, 1071, 106...     False  \n",
       "21412  [587, 592, 572, 570, 581, 548, 576, 575, 580, ...     False  \n",
       "7182   [384, 387, 358, 371, 417, 409, 383, 362, 368, ...      True  \n",
       "7192   [341, 359, 404, 407, 358, 380, 392, 419, 382, ...      True  \n",
       "7264                                                None     False  \n",
       "7511   [384, 402, 424, 418, 390, 355, 392, 388, 416, ...      True  \n",
       "7550   [446, 406, 408, 393, 381, 429, 449, 383, 423, ...      True  \n",
       "7599   [450, 450, 450, 450, 450, 450, 450, 450, 450, ...      True  \n",
       "7647                                                None     False  \n",
       "7652   [420, 420, 420, 420, 420, 420, 420, 420, 420, ...      True  \n",
       "7657                                                None     False  \n",
       "7692   [481, 474, 503, 516, 494, 482, 482, 500, 491, ...     False  \n",
       "7695   [373, 376, 370, 377, 378, 370, 369, 372, 379, ...      True  \n",
       "7837   [540, 540, 540, 540, 540, 540, 540, 540, 540, ...     False  \n",
       "7969                                                None     False  \n",
       "7987                                                None     False  \n",
       "8053   [553, 546, 603, 603, 544, 545, 577, 545, 559, ...     False  \n",
       "8274   [659, 659, 659, 659, 659, 659, 659, 659, 659, ...     False  \n",
       "8349                                                None     False  \n",
       "8509   [677, 675, 689, 733, 732, 706, 728, 721, 694, ...     False  \n",
       "8525                                                None     False  \n",
       "8526                                                None     False  \n",
       "8536   [794, 767, 764, 744, 771, 789, 764, 790, 764, ...     False  \n",
       "8716                                                None     False  \n",
       "8913   [819, 805, 832, 853, 854, 836, 817, 843, 799, ...     False  \n",
       "9019   [848, 849, 843, 814, 847, 838, 843, 827, 818, ...     False  \n",
       "9048                                                None     False  \n",
       "9086   [853, 853, 853, 853, 853, 853, 853, 853, 853, ...     False  \n",
       "9101   [840, 834, 861, 831, 828, 846, 817, 812, 820, ...     False  \n",
       "9182   [856, 824, 830, 835, 829, 817, 858, 815, 831, ...     False  \n",
       "9298                                                None     False  \n",
       "9350   [889, 847, 902, 865, 902, 864, 891, 905, 907, ...     False  \n",
       "9509   [990, 991, 959, 965, 983, 978, 991, 986, 992, ...     False  \n",
       "9847                                                None     False  "
      ],
      "text/html": [
       "<div>\n",
       "<style scoped>\n",
       "    .dataframe tbody tr th:only-of-type {\n",
       "        vertical-align: middle;\n",
       "    }\n",
       "\n",
       "    .dataframe tbody tr th {\n",
       "        vertical-align: top;\n",
       "    }\n",
       "\n",
       "    .dataframe thead th {\n",
       "        text-align: right;\n",
       "    }\n",
       "</style>\n",
       "<table border=\"1\" class=\"dataframe\">\n",
       "  <thead>\n",
       "    <tr style=\"text-align: right;\">\n",
       "      <th></th>\n",
       "      <th>title</th>\n",
       "      <th>author</th>\n",
       "      <th>year</th>\n",
       "      <th>word_count</th>\n",
       "      <th>not_before</th>\n",
       "      <th>not_after</th>\n",
       "      <th>is_earlymodern</th>\n",
       "      <th>random_dates</th>\n",
       "      <th>late-ant</th>\n",
       "    </tr>\n",
       "    <tr>\n",
       "      <th>cc_id</th>\n",
       "      <th></th>\n",
       "      <th></th>\n",
       "      <th></th>\n",
       "      <th></th>\n",
       "      <th></th>\n",
       "      <th></th>\n",
       "      <th></th>\n",
       "      <th></th>\n",
       "      <th></th>\n",
       "    </tr>\n",
       "  </thead>\n",
       "  <tbody>\n",
       "    <tr>\n",
       "      <th>10558</th>\n",
       "      <td>Homiliae</td>\n",
       "      <td>Radulfus Ardens-c.1200</td>\n",
       "      <td>-c.1200</td>\n",
       "      <td>388054</td>\n",
       "      <td>1200.0</td>\n",
       "      <td>1200.0</td>\n",
       "      <td>False</td>\n",
       "      <td>[1200, 1200, 1200, 1200, 1200, 1200, 1200, 120...</td>\n",
       "      <td>False</td>\n",
       "    </tr>\n",
       "    <tr>\n",
       "      <th>10622</th>\n",
       "      <td>Homiliae et exhortationes</td>\n",
       "      <td>Anselmus Cantuariensis</td>\n",
       "      <td>1033-1109</td>\n",
       "      <td>75062</td>\n",
       "      <td>1033.0</td>\n",
       "      <td>1109.0</td>\n",
       "      <td>False</td>\n",
       "      <td>[1074, 1083, 1072, 1041, 1054, 1053, 1076, 105...</td>\n",
       "      <td>False</td>\n",
       "    </tr>\n",
       "    <tr>\n",
       "      <th>10703</th>\n",
       "      <td>Homilia de villico iniquitatis</td>\n",
       "      <td>Odo Cameracensis-1113</td>\n",
       "      <td>-1113</td>\n",
       "      <td>4268</td>\n",
       "      <td>1113.0</td>\n",
       "      <td>1113.0</td>\n",
       "      <td>False</td>\n",
       "      <td>[1113, 1113, 1113, 1113, 1113, 1113, 1113, 111...</td>\n",
       "      <td>False</td>\n",
       "    </tr>\n",
       "    <tr>\n",
       "      <th>11042</th>\n",
       "      <td>Homiliae dominicales</td>\n",
       "      <td>Godefridus Admontensis-1165</td>\n",
       "      <td>-1165</td>\n",
       "      <td>507076</td>\n",
       "      <td>1165.0</td>\n",
       "      <td>1165.0</td>\n",
       "      <td>False</td>\n",
       "      <td>[1165, 1165, 1165, 1165, 1165, 1165, 1165, 116...</td>\n",
       "      <td>False</td>\n",
       "    </tr>\n",
       "    <tr>\n",
       "      <th>11043</th>\n",
       "      <td>Homiliae festivales</td>\n",
       "      <td>Godefridus Admontensis-1165</td>\n",
       "      <td>-1165</td>\n",
       "      <td>348548</td>\n",
       "      <td>1165.0</td>\n",
       "      <td>1165.0</td>\n",
       "      <td>False</td>\n",
       "      <td>[1165, 1165, 1165, 1165, 1165, 1165, 1165, 116...</td>\n",
       "      <td>False</td>\n",
       "    </tr>\n",
       "    <tr>\n",
       "      <th>11044</th>\n",
       "      <td>Homiliae in diversos locos Scripturae</td>\n",
       "      <td>Godefridus Admontensis-1165</td>\n",
       "      <td>-1165</td>\n",
       "      <td>61134</td>\n",
       "      <td>1165.0</td>\n",
       "      <td>1165.0</td>\n",
       "      <td>False</td>\n",
       "      <td>[1165, 1165, 1165, 1165, 1165, 1165, 1165, 116...</td>\n",
       "      <td>False</td>\n",
       "    </tr>\n",
       "    <tr>\n",
       "      <th>11065</th>\n",
       "      <td>Homiliae in Ecclesiasten</td>\n",
       "      <td>Hugo de S. Victore</td>\n",
       "      <td>-1141</td>\n",
       "      <td>123390</td>\n",
       "      <td>1141.0</td>\n",
       "      <td>1141.0</td>\n",
       "      <td>False</td>\n",
       "      <td>[1141, 1141, 1141, 1141, 1141, 1141, 1141, 114...</td>\n",
       "      <td>False</td>\n",
       "    </tr>\n",
       "    <tr>\n",
       "      <th>11383</th>\n",
       "      <td>Homiliae de Maria Virginea Matre</td>\n",
       "      <td>Amedeus Lausannensis1144-1159</td>\n",
       "      <td>1144-1159</td>\n",
       "      <td>35440</td>\n",
       "      <td>1144.0</td>\n",
       "      <td>1159.0</td>\n",
       "      <td>False</td>\n",
       "      <td>[1154, 1156, 1150, 1150, 1158, 1145, 1154, 115...</td>\n",
       "      <td>False</td>\n",
       "    </tr>\n",
       "    <tr>\n",
       "      <th>11446</th>\n",
       "      <td>Homilia de natalitio martyris die</td>\n",
       "      <td>Herbertus de Boseham-1186</td>\n",
       "      <td>-1186</td>\n",
       "      <td>7956</td>\n",
       "      <td>1186.0</td>\n",
       "      <td>1186.0</td>\n",
       "      <td>False</td>\n",
       "      <td>[1186, 1186, 1186, 1186, 1186, 1186, 1186, 118...</td>\n",
       "      <td>False</td>\n",
       "    </tr>\n",
       "    <tr>\n",
       "      <th>16830</th>\n",
       "      <td>Homiliae</td>\n",
       "      <td>Alcimus Avitus</td>\n",
       "      <td>ca.450-518</td>\n",
       "      <td>57140</td>\n",
       "      <td>450.0</td>\n",
       "      <td>518.0</td>\n",
       "      <td>False</td>\n",
       "      <td>[461, 451, 501, 457, 472, 465, 485, 509, 513, ...</td>\n",
       "      <td>True</td>\n",
       "    </tr>\n",
       "    <tr>\n",
       "      <th>21411</th>\n",
       "      <td>Homiliae</td>\n",
       "      <td>Bruno Astensis1047–1123</td>\n",
       "      <td>1047–1123</td>\n",
       "      <td>146456</td>\n",
       "      <td>1047.0</td>\n",
       "      <td>1123.0</td>\n",
       "      <td>False</td>\n",
       "      <td>[1062, 1087, 1049, 1067, 1069, 1086, 1071, 106...</td>\n",
       "      <td>False</td>\n",
       "    </tr>\n",
       "    <tr>\n",
       "      <th>21412</th>\n",
       "      <td>Homiliae in Ezechielem</td>\n",
       "      <td>Gregorius I540-604</td>\n",
       "      <td>540-604</td>\n",
       "      <td>335500</td>\n",
       "      <td>540.0</td>\n",
       "      <td>604.0</td>\n",
       "      <td>False</td>\n",
       "      <td>[587, 592, 572, 570, 581, 548, 576, 575, 580, ...</td>\n",
       "      <td>False</td>\n",
       "    </tr>\n",
       "    <tr>\n",
       "      <th>7182</th>\n",
       "      <td>Translatio Homiliarum in Jeremiam et Ezechielem</td>\n",
       "      <td>Origenes; Hieronymus Stridonensis340-420</td>\n",
       "      <td>340-420</td>\n",
       "      <td>153676</td>\n",
       "      <td>340.0</td>\n",
       "      <td>420.0</td>\n",
       "      <td>False</td>\n",
       "      <td>[384, 387, 358, 371, 417, 409, 383, 362, 368, ...</td>\n",
       "      <td>True</td>\n",
       "    </tr>\n",
       "    <tr>\n",
       "      <th>7192</th>\n",
       "      <td>Translatio XXXIX Homiliarum</td>\n",
       "      <td>Origenes; Hieronymus Stridonensis340-420</td>\n",
       "      <td>340-420</td>\n",
       "      <td>65836</td>\n",
       "      <td>340.0</td>\n",
       "      <td>420.0</td>\n",
       "      <td>False</td>\n",
       "      <td>[341, 359, 404, 407, 358, 380, 392, 419, 382, ...</td>\n",
       "      <td>True</td>\n",
       "    </tr>\n",
       "    <tr>\n",
       "      <th>7264</th>\n",
       "      <td>Homilia ad monachos</td>\n",
       "      <td>Auctor incertus</td>\n",
       "      <td>NaN</td>\n",
       "      <td>6182</td>\n",
       "      <td>NaN</td>\n",
       "      <td>NaN</td>\n",
       "      <td>False</td>\n",
       "      <td>None</td>\n",
       "      <td>False</td>\n",
       "    </tr>\n",
       "    <tr>\n",
       "      <th>7511</th>\n",
       "      <td>Homilia in Dominica II Adventus</td>\n",
       "      <td>Augustinus Hipponensis</td>\n",
       "      <td>354-430</td>\n",
       "      <td>1918</td>\n",
       "      <td>354.0</td>\n",
       "      <td>430.0</td>\n",
       "      <td>False</td>\n",
       "      <td>[384, 402, 424, 418, 390, 355, 392, 388, 416, ...</td>\n",
       "      <td>True</td>\n",
       "    </tr>\n",
       "    <tr>\n",
       "      <th>7550</th>\n",
       "      <td>Homiliae</td>\n",
       "      <td>Eucherius Lugdunensisc.380–c.449</td>\n",
       "      <td>c.380–c.449</td>\n",
       "      <td>26772</td>\n",
       "      <td>380.0</td>\n",
       "      <td>449.0</td>\n",
       "      <td>False</td>\n",
       "      <td>[446, 406, 408, 393, 381, 429, 449, 383, 423, ...</td>\n",
       "      <td>True</td>\n",
       "    </tr>\n",
       "    <tr>\n",
       "      <th>7599</th>\n",
       "      <td>Homiliae</td>\n",
       "      <td>Valerianus Cemeliensisfl.450</td>\n",
       "      <td>fl.450</td>\n",
       "      <td>78431</td>\n",
       "      <td>450.0</td>\n",
       "      <td>450.0</td>\n",
       "      <td>False</td>\n",
       "      <td>[450, 450, 450, 450, 450, 450, 450, 450, 450, ...</td>\n",
       "      <td>True</td>\n",
       "    </tr>\n",
       "    <tr>\n",
       "      <th>7647</th>\n",
       "      <td>Homiliae</td>\n",
       "      <td>Auctor incertus (Maximus Taurinensis?)</td>\n",
       "      <td>NaN</td>\n",
       "      <td>5758</td>\n",
       "      <td>NaN</td>\n",
       "      <td>NaN</td>\n",
       "      <td>False</td>\n",
       "      <td>None</td>\n",
       "      <td>False</td>\n",
       "    </tr>\n",
       "    <tr>\n",
       "      <th>7652</th>\n",
       "      <td>Homiliae</td>\n",
       "      <td>Maximus Taurinensis-c.420</td>\n",
       "      <td>-c.420</td>\n",
       "      <td>311541</td>\n",
       "      <td>420.0</td>\n",
       "      <td>420.0</td>\n",
       "      <td>False</td>\n",
       "      <td>[420, 420, 420, 420, 420, 420, 420, 420, 420, ...</td>\n",
       "      <td>True</td>\n",
       "    </tr>\n",
       "    <tr>\n",
       "      <th>7657</th>\n",
       "      <td>Homilia</td>\n",
       "      <td>Auctor incertus (Victor Vitensis?)</td>\n",
       "      <td>NaN</td>\n",
       "      <td>1135</td>\n",
       "      <td>NaN</td>\n",
       "      <td>NaN</td>\n",
       "      <td>False</td>\n",
       "      <td>None</td>\n",
       "      <td>False</td>\n",
       "    </tr>\n",
       "    <tr>\n",
       "      <th>7692</th>\n",
       "      <td>Homilia de rogationibus</td>\n",
       "      <td>Avitus Viennensis460-518</td>\n",
       "      <td>460-518</td>\n",
       "      <td>3002</td>\n",
       "      <td>460.0</td>\n",
       "      <td>518.0</td>\n",
       "      <td>False</td>\n",
       "      <td>[481, 474, 503, 516, 494, 482, 482, 500, 491, ...</td>\n",
       "      <td>False</td>\n",
       "    </tr>\n",
       "    <tr>\n",
       "      <th>7695</th>\n",
       "      <td>Homilia de passione Domini</td>\n",
       "      <td>Faustinusfl.368-384</td>\n",
       "      <td>fl.368-384</td>\n",
       "      <td>1974</td>\n",
       "      <td>368.0</td>\n",
       "      <td>384.0</td>\n",
       "      <td>False</td>\n",
       "      <td>[373, 376, 370, 377, 378, 370, 369, 372, 379, ...</td>\n",
       "      <td>True</td>\n",
       "    </tr>\n",
       "    <tr>\n",
       "      <th>7837</th>\n",
       "      <td>Homiliae</td>\n",
       "      <td>Laurentius Novariensis</td>\n",
       "      <td>fl. 540</td>\n",
       "      <td>31900</td>\n",
       "      <td>540.0</td>\n",
       "      <td>540.0</td>\n",
       "      <td>False</td>\n",
       "      <td>[540, 540, 540, 540, 540, 540, 540, 540, 540, ...</td>\n",
       "      <td>False</td>\n",
       "    </tr>\n",
       "    <tr>\n",
       "      <th>7969</th>\n",
       "      <td>Homilia in laudem ecclesiae</td>\n",
       "      <td>Leandrus Hispalensis</td>\n",
       "      <td>NaN</td>\n",
       "      <td>2980</td>\n",
       "      <td>NaN</td>\n",
       "      <td>NaN</td>\n",
       "      <td>False</td>\n",
       "      <td>None</td>\n",
       "      <td>False</td>\n",
       "    </tr>\n",
       "    <tr>\n",
       "      <th>7987</th>\n",
       "      <td>Homilia de epiphania</td>\n",
       "      <td>Sedatus Bitterensis</td>\n",
       "      <td>NaN</td>\n",
       "      <td>2424</td>\n",
       "      <td>NaN</td>\n",
       "      <td>NaN</td>\n",
       "      <td>False</td>\n",
       "      <td>None</td>\n",
       "      <td>False</td>\n",
       "    </tr>\n",
       "    <tr>\n",
       "      <th>8053</th>\n",
       "      <td>Homiliae in Evangelia</td>\n",
       "      <td>Gregorius I</td>\n",
       "      <td>540-604</td>\n",
       "      <td>266846</td>\n",
       "      <td>540.0</td>\n",
       "      <td>604.0</td>\n",
       "      <td>False</td>\n",
       "      <td>[553, 546, 603, 603, 544, 545, 577, 545, 559, ...</td>\n",
       "      <td>False</td>\n",
       "    </tr>\n",
       "    <tr>\n",
       "      <th>8274</th>\n",
       "      <td>Homiliae</td>\n",
       "      <td>Eligius Noviomensis</td>\n",
       "      <td>fl. 659</td>\n",
       "      <td>52480</td>\n",
       "      <td>659.0</td>\n",
       "      <td>659.0</td>\n",
       "      <td>False</td>\n",
       "      <td>[659, 659, 659, 659, 659, 659, 659, 659, 659, ...</td>\n",
       "      <td>False</td>\n",
       "    </tr>\n",
       "    <tr>\n",
       "      <th>8349</th>\n",
       "      <td>Homilia in transfiguratione Domini</td>\n",
       "      <td>Ambrosius Autpertus</td>\n",
       "      <td>NaN</td>\n",
       "      <td>19056</td>\n",
       "      <td>NaN</td>\n",
       "      <td>NaN</td>\n",
       "      <td>False</td>\n",
       "      <td>None</td>\n",
       "      <td>False</td>\n",
       "    </tr>\n",
       "    <tr>\n",
       "      <th>8509</th>\n",
       "      <td>Homiliae</td>\n",
       "      <td>Beda</td>\n",
       "      <td>672-735</td>\n",
       "      <td>484528</td>\n",
       "      <td>672.0</td>\n",
       "      <td>735.0</td>\n",
       "      <td>False</td>\n",
       "      <td>[677, 675, 689, 733, 732, 706, 728, 721, 694, ...</td>\n",
       "      <td>False</td>\n",
       "    </tr>\n",
       "    <tr>\n",
       "      <th>8525</th>\n",
       "      <td>Homiliae de Sanctis</td>\n",
       "      <td>Auctores varii</td>\n",
       "      <td>NaN</td>\n",
       "      <td>90662</td>\n",
       "      <td>NaN</td>\n",
       "      <td>NaN</td>\n",
       "      <td>False</td>\n",
       "      <td>None</td>\n",
       "      <td>False</td>\n",
       "    </tr>\n",
       "    <tr>\n",
       "      <th>8526</th>\n",
       "      <td>Homiliae de tempore</td>\n",
       "      <td>Auctores varii</td>\n",
       "      <td>NaN</td>\n",
       "      <td>250700</td>\n",
       "      <td>NaN</td>\n",
       "      <td>NaN</td>\n",
       "      <td>False</td>\n",
       "      <td>None</td>\n",
       "      <td>False</td>\n",
       "    </tr>\n",
       "    <tr>\n",
       "      <th>8536</th>\n",
       "      <td>Homiliae</td>\n",
       "      <td>Paulus Vinfridusc.725-c.799</td>\n",
       "      <td>c.725-c.799</td>\n",
       "      <td>15172</td>\n",
       "      <td>725.0</td>\n",
       "      <td>799.0</td>\n",
       "      <td>False</td>\n",
       "      <td>[794, 767, 764, 744, 771, 789, 764, 790, 764, ...</td>\n",
       "      <td>False</td>\n",
       "    </tr>\n",
       "    <tr>\n",
       "      <th>8716</th>\n",
       "      <td>Homiliae</td>\n",
       "      <td>Auctor incertus (Alcuinus?)</td>\n",
       "      <td>NaN</td>\n",
       "      <td>8256</td>\n",
       "      <td>NaN</td>\n",
       "      <td>NaN</td>\n",
       "      <td>False</td>\n",
       "      <td>None</td>\n",
       "      <td>False</td>\n",
       "    </tr>\n",
       "    <tr>\n",
       "      <th>8913</th>\n",
       "      <td>Homiliae</td>\n",
       "      <td>Rabanus Maurus</td>\n",
       "      <td>780-856</td>\n",
       "      <td>381836</td>\n",
       "      <td>780.0</td>\n",
       "      <td>856.0</td>\n",
       "      <td>False</td>\n",
       "      <td>[819, 805, 832, 853, 854, 836, 817, 843, 799, ...</td>\n",
       "      <td>False</td>\n",
       "    </tr>\n",
       "    <tr>\n",
       "      <th>9019</th>\n",
       "      <td>Homilia in initium Evangelii S. Matthaei</td>\n",
       "      <td>Walafridus Strabo</td>\n",
       "      <td>808-849</td>\n",
       "      <td>8298</td>\n",
       "      <td>808.0</td>\n",
       "      <td>849.0</td>\n",
       "      <td>False</td>\n",
       "      <td>[848, 849, 843, 814, 847, 838, 843, 827, 818, ...</td>\n",
       "      <td>False</td>\n",
       "    </tr>\n",
       "    <tr>\n",
       "      <th>9048</th>\n",
       "      <td>Homilia</td>\n",
       "      <td>Leo IV</td>\n",
       "      <td>NaN</td>\n",
       "      <td>7614</td>\n",
       "      <td>NaN</td>\n",
       "      <td>NaN</td>\n",
       "      <td>False</td>\n",
       "      <td>None</td>\n",
       "      <td>False</td>\n",
       "    </tr>\n",
       "    <tr>\n",
       "      <th>9086</th>\n",
       "      <td>Homiliae</td>\n",
       "      <td>Haymo Halberstatensis</td>\n",
       "      <td>-853</td>\n",
       "      <td>704436</td>\n",
       "      <td>853.0</td>\n",
       "      <td>853.0</td>\n",
       "      <td>False</td>\n",
       "      <td>[853, 853, 853, 853, 853, 853, 853, 853, 853, ...</td>\n",
       "      <td>False</td>\n",
       "    </tr>\n",
       "    <tr>\n",
       "      <th>9101</th>\n",
       "      <td>Homiliae in solemnitate S. Wigberti</td>\n",
       "      <td>Lupus Ferrariensisc.805-c.862</td>\n",
       "      <td>c.805-c.862</td>\n",
       "      <td>3894</td>\n",
       "      <td>805.0</td>\n",
       "      <td>862.0</td>\n",
       "      <td>False</td>\n",
       "      <td>[840, 834, 861, 831, 828, 846, 817, 812, 820, ...</td>\n",
       "      <td>False</td>\n",
       "    </tr>\n",
       "    <tr>\n",
       "      <th>9182</th>\n",
       "      <td>Homilia in prologum Evangelii secundum Joannem</td>\n",
       "      <td>Joannes Scotus Erigena</td>\n",
       "      <td>810-877</td>\n",
       "      <td>10842</td>\n",
       "      <td>810.0</td>\n",
       "      <td>877.0</td>\n",
       "      <td>False</td>\n",
       "      <td>[856, 824, 830, 835, 829, 817, 858, 815, 831, ...</td>\n",
       "      <td>False</td>\n",
       "    </tr>\n",
       "    <tr>\n",
       "      <th>9298</th>\n",
       "      <td>Homilia de decimis et de jejunio</td>\n",
       "      <td>Auctor incertus</td>\n",
       "      <td>NaN</td>\n",
       "      <td>954</td>\n",
       "      <td>NaN</td>\n",
       "      <td>NaN</td>\n",
       "      <td>False</td>\n",
       "      <td>None</td>\n",
       "      <td>False</td>\n",
       "    </tr>\n",
       "    <tr>\n",
       "      <th>9350</th>\n",
       "      <td>Homiliae</td>\n",
       "      <td>Remigius Antissiodorensisc.841–908</td>\n",
       "      <td>c.841–908</td>\n",
       "      <td>57716</td>\n",
       "      <td>841.0</td>\n",
       "      <td>908.0</td>\n",
       "      <td>False</td>\n",
       "      <td>[889, 847, 902, 865, 902, 864, 891, 905, 907, ...</td>\n",
       "      <td>False</td>\n",
       "    </tr>\n",
       "    <tr>\n",
       "      <th>9509</th>\n",
       "      <td>Homilia in natale S. Alexi confessoris</td>\n",
       "      <td>Adalbertus Pragensis956-996</td>\n",
       "      <td>956-996</td>\n",
       "      <td>1726</td>\n",
       "      <td>956.0</td>\n",
       "      <td>996.0</td>\n",
       "      <td>False</td>\n",
       "      <td>[990, 991, 959, 965, 983, 978, 991, 986, 992, ...</td>\n",
       "      <td>False</td>\n",
       "    </tr>\n",
       "    <tr>\n",
       "      <th>9847</th>\n",
       "      <td>Homilia de octo beatitudinibus et S. Emmerammo.</td>\n",
       "      <td>Arnoldus Emmerammensis</td>\n",
       "      <td>NaN</td>\n",
       "      <td>3342</td>\n",
       "      <td>NaN</td>\n",
       "      <td>NaN</td>\n",
       "      <td>False</td>\n",
       "      <td>None</td>\n",
       "      <td>False</td>\n",
       "    </tr>\n",
       "  </tbody>\n",
       "</table>\n",
       "</div>"
      ]
     },
     "execution_count": 29,
     "metadata": {},
     "output_type": "execute_result"
    }
   ],
   "execution_count": 29
  },
  {
   "cell_type": "code",
   "id": "a07e00f4b1764267",
   "metadata": {
    "collapsed": false,
    "jupyter": {
     "outputs_hidden": false
    },
    "ExecuteTime": {
     "end_time": "2024-11-07T11:14:24.419406Z",
     "start_time": "2024-11-07T11:14:24.412142Z"
    }
   },
   "source": [
    "wordcounts_data[0]"
   ],
   "outputs": [
    {
     "data": {
      "text/plain": [
       "[((-200, -151), 400903),\n",
       " ((-150, -101), 139427),\n",
       " ((-100, -51), 7079094),\n",
       " ((-50, -1), 2507014),\n",
       " ((1, 50), 2413847),\n",
       " ((51, 100), 3179624),\n",
       " ((101, 150), 751886),\n",
       " ((151, 200), 1779853),\n",
       " ((201, 250), 2665339),\n",
       " ((251, 300), 2779642),\n",
       " ((301, 350), 9017797),\n",
       " ((351, 400), 42027062),\n",
       " ((401, 450), 20130794),\n",
       " ((451, 500), 7393050),\n",
       " ((501, 550), 11834345),\n",
       " ((551, 600), 10370687),\n",
       " ((601, 650), 2522432),\n",
       " ((651, 700), 3211054),\n",
       " ((701, 750), 4292680),\n",
       " ((751, 800), 6740403),\n",
       " ((801, 850), 16131140),\n",
       " ((851, 900), 9691003),\n",
       " ((901, 950), 2530427),\n",
       " ((951, 1000), 4025291),\n",
       " ((1001, 1050), 7004318),\n",
       " ((1051, 1100), 19552163),\n",
       " ((1101, 1150), 39230375),\n",
       " ((1151, 1200), 25798112),\n",
       " ((1201, 1250), 32533982),\n",
       " ((1251, 1300), 20007791),\n",
       " ((1301, 1350), 11366329),\n",
       " ((1351, 1400), 5802197),\n",
       " ((1401, 1450), 3336389),\n",
       " ((1451, 1500), 8917194),\n",
       " ((1501, 1550), 6042694),\n",
       " ((1551, 1600), 27695530),\n",
       " ((1601, 1650), 14775868),\n",
       " ((1651, 1700), 1656890),\n",
       " ((1701, 1750), 2144944),\n",
       " ((1751, 1800), 3168296),\n",
       " ((1801, 1850), 697766),\n",
       " ((1851, 1900), 1648231)]"
      ]
     },
     "execution_count": 30,
     "metadata": {},
     "output_type": "execute_result"
    }
   ],
   "execution_count": 30
  },
  {
   "cell_type": "code",
   "execution_count": 61,
   "id": "a5d9f17ce9e0fd12",
   "metadata": {
    "ExecuteTime": {
     "end_time": "2024-03-04T10:57:52.334586Z",
     "start_time": "2024-03-04T10:57:51.973667Z"
    },
    "collapsed": false,
    "jupyter": {
     "outputs_hidden": false
    }
   },
   "outputs": [
    {
     "data": {
      "text/plain": [
       "[Text(0, 10000000, '10M'),\n",
       " Text(0, 20000000, '20M'),\n",
       " Text(0, 30000000, '30M'),\n",
       " Text(0, 40000000, '40M'),\n",
       " Text(0, 50000000, '50M')]"
      ]
     },
     "execution_count": 61,
     "metadata": {},
     "output_type": "execute_result"
    },
    {
     "data": {
      "image/png": "[encoded data removed]",
      "text/plain": [
       "<Figure size 1560x900 with 1 Axes>"
      ]
     },
     "metadata": {},
     "output_type": "display_data"
    }
   ],
   "source": [
    "fig, ax = plt.subplots(figsize=(5.2, 3), dpi=300, tight_layout=True)\n",
    "tempun.plot_timeblocks_data(wordcounts_data, ax=ax, color=\"darkblue\")\n",
    "ax.set_xticks(range(-200,2000,100))\n",
    "ax.set_xticklabels([str(el) for el in range(-200,2000,100)], rotation=90)\n",
    "ax.set_xlim(-250, 1950)\n",
    "\n",
    "ax.set_ylim(0,55000000)\n",
    "ax.set_yticks(range(10000000, 60000000, 10000000))\n",
    "ax.set_yticklabels([str(el) + \"M\" for el in range(10, 60, 10)])\n"
   ]
  },
  {
   "cell_type": "code",
   "execution_count": 62,
   "id": "bb9e8a42c18a9fc4",
   "metadata": {
    "ExecuteTime": {
     "end_time": "2023-12-08T11:34:54.057834Z",
     "start_time": "2023-12-08T11:34:53.888519Z"
    },
    "collapsed": false,
    "jupyter": {
     "outputs_hidden": false
    }
   },
   "outputs": [],
   "source": [
    "fig.savefig(\"../figures/corpus-corporum_tempdist.png\")"
   ]
  },
  {
   "cell_type": "code",
   "id": "bdc3502ce0af0d0f",
   "metadata": {
    "collapsed": false,
    "jupyter": {
     "outputs_hidden": false
    },
    "ExecuteTime": {
     "end_time": "2024-11-07T11:17:43.660336Z",
     "start_time": "2024-11-07T11:17:43.654038Z"
    }
   },
   "source": "cc_raw.drop([\"random_dates\", \"late-ant\"], axis=1, inplace=True)",
   "outputs": [],
   "execution_count": 37
  },
  {
   "cell_type": "code",
   "id": "db074f3da213f6cf",
   "metadata": {
    "collapsed": false,
    "jupyter": {
     "outputs_hidden": false
    },
    "ExecuteTime": {
     "end_time": "2024-11-07T11:17:50.061062Z",
     "start_time": "2024-11-07T11:17:50.047450Z"
    }
   },
   "source": [
    "cc_raw.head(10)"
   ],
   "outputs": [
    {
     "data": {
      "text/plain": [
       "                                  title                          author  \\\n",
       "cc_id                                                                     \n",
       "10         De facto Ungarie magne1236\\n                   Riccardus OFM   \n",
       "100                        De trinitate                      Novatianus   \n",
       "10000             De quadratura circuli              Franco Leodiensis    \n",
       "10001           Epistola ad Berengarium      Frollandus Sylvanectensis    \n",
       "10002                         Diplomata    Gervasius Remensis1055-1067    \n",
       "10003             Epistola ad Valcherum         Gozechinus Scholasticus   \n",
       "10004  Carmen de conflictu ovis et lini  Hermannus Contractus1013-1054    \n",
       "10005                         Chronicon  Hermannus Contractus1013-1054    \n",
       "10006             De mensura astrolabii  Hermannus Contractus1013-1054    \n",
       "10007        De utilitatibus astrolabii  Hermannus Contractus1013-1054    \n",
       "\n",
       "            year  word_count  not_before  not_after  is_earlymodern  \n",
       "cc_id                                                                \n",
       "10       fl.1236        3340      1236.0     1236.0           False  \n",
       "100      fl. 260       44792       260.0      260.0           False  \n",
       "10000        NaN        1648         NaN        NaN           False  \n",
       "10001        NaN         518         NaN        NaN           False  \n",
       "10002  1055-1067        1532      1055.0     1067.0           False  \n",
       "10003   fl. 1059       26012      1059.0     1059.0           False  \n",
       "10004  1013-1054        8816      1013.0     1054.0           False  \n",
       "10005  1013-1054      161493      1013.0     1054.0           False  \n",
       "10006  1013-1054        9363      1013.0     1054.0           False  \n",
       "10007  1013-1054       24633      1013.0     1054.0           False  "
      ],
      "text/html": [
       "<div>\n",
       "<style scoped>\n",
       "    .dataframe tbody tr th:only-of-type {\n",
       "        vertical-align: middle;\n",
       "    }\n",
       "\n",
       "    .dataframe tbody tr th {\n",
       "        vertical-align: top;\n",
       "    }\n",
       "\n",
       "    .dataframe thead th {\n",
       "        text-align: right;\n",
       "    }\n",
       "</style>\n",
       "<table border=\"1\" class=\"dataframe\">\n",
       "  <thead>\n",
       "    <tr style=\"text-align: right;\">\n",
       "      <th></th>\n",
       "      <th>title</th>\n",
       "      <th>author</th>\n",
       "      <th>year</th>\n",
       "      <th>word_count</th>\n",
       "      <th>not_before</th>\n",
       "      <th>not_after</th>\n",
       "      <th>is_earlymodern</th>\n",
       "    </tr>\n",
       "    <tr>\n",
       "      <th>cc_id</th>\n",
       "      <th></th>\n",
       "      <th></th>\n",
       "      <th></th>\n",
       "      <th></th>\n",
       "      <th></th>\n",
       "      <th></th>\n",
       "      <th></th>\n",
       "    </tr>\n",
       "  </thead>\n",
       "  <tbody>\n",
       "    <tr>\n",
       "      <th>10</th>\n",
       "      <td>De facto Ungarie magne1236\\n</td>\n",
       "      <td>Riccardus OFM</td>\n",
       "      <td>fl.1236</td>\n",
       "      <td>3340</td>\n",
       "      <td>1236.0</td>\n",
       "      <td>1236.0</td>\n",
       "      <td>False</td>\n",
       "    </tr>\n",
       "    <tr>\n",
       "      <th>100</th>\n",
       "      <td>De trinitate</td>\n",
       "      <td>Novatianus</td>\n",
       "      <td>fl. 260</td>\n",
       "      <td>44792</td>\n",
       "      <td>260.0</td>\n",
       "      <td>260.0</td>\n",
       "      <td>False</td>\n",
       "    </tr>\n",
       "    <tr>\n",
       "      <th>10000</th>\n",
       "      <td>De quadratura circuli</td>\n",
       "      <td>Franco Leodiensis</td>\n",
       "      <td>NaN</td>\n",
       "      <td>1648</td>\n",
       "      <td>NaN</td>\n",
       "      <td>NaN</td>\n",
       "      <td>False</td>\n",
       "    </tr>\n",
       "    <tr>\n",
       "      <th>10001</th>\n",
       "      <td>Epistola ad Berengarium</td>\n",
       "      <td>Frollandus Sylvanectensis</td>\n",
       "      <td>NaN</td>\n",
       "      <td>518</td>\n",
       "      <td>NaN</td>\n",
       "      <td>NaN</td>\n",
       "      <td>False</td>\n",
       "    </tr>\n",
       "    <tr>\n",
       "      <th>10002</th>\n",
       "      <td>Diplomata</td>\n",
       "      <td>Gervasius Remensis1055-1067</td>\n",
       "      <td>1055-1067</td>\n",
       "      <td>1532</td>\n",
       "      <td>1055.0</td>\n",
       "      <td>1067.0</td>\n",
       "      <td>False</td>\n",
       "    </tr>\n",
       "    <tr>\n",
       "      <th>10003</th>\n",
       "      <td>Epistola ad Valcherum</td>\n",
       "      <td>Gozechinus Scholasticus</td>\n",
       "      <td>fl. 1059</td>\n",
       "      <td>26012</td>\n",
       "      <td>1059.0</td>\n",
       "      <td>1059.0</td>\n",
       "      <td>False</td>\n",
       "    </tr>\n",
       "    <tr>\n",
       "      <th>10004</th>\n",
       "      <td>Carmen de conflictu ovis et lini</td>\n",
       "      <td>Hermannus Contractus1013-1054</td>\n",
       "      <td>1013-1054</td>\n",
       "      <td>8816</td>\n",
       "      <td>1013.0</td>\n",
       "      <td>1054.0</td>\n",
       "      <td>False</td>\n",
       "    </tr>\n",
       "    <tr>\n",
       "      <th>10005</th>\n",
       "      <td>Chronicon</td>\n",
       "      <td>Hermannus Contractus1013-1054</td>\n",
       "      <td>1013-1054</td>\n",
       "      <td>161493</td>\n",
       "      <td>1013.0</td>\n",
       "      <td>1054.0</td>\n",
       "      <td>False</td>\n",
       "    </tr>\n",
       "    <tr>\n",
       "      <th>10006</th>\n",
       "      <td>De mensura astrolabii</td>\n",
       "      <td>Hermannus Contractus1013-1054</td>\n",
       "      <td>1013-1054</td>\n",
       "      <td>9363</td>\n",
       "      <td>1013.0</td>\n",
       "      <td>1054.0</td>\n",
       "      <td>False</td>\n",
       "    </tr>\n",
       "    <tr>\n",
       "      <th>10007</th>\n",
       "      <td>De utilitatibus astrolabii</td>\n",
       "      <td>Hermannus Contractus1013-1054</td>\n",
       "      <td>1013-1054</td>\n",
       "      <td>24633</td>\n",
       "      <td>1013.0</td>\n",
       "      <td>1054.0</td>\n",
       "      <td>False</td>\n",
       "    </tr>\n",
       "  </tbody>\n",
       "</table>\n",
       "</div>"
      ]
     },
     "execution_count": 38,
     "metadata": {},
     "output_type": "execute_result"
    }
   ],
   "execution_count": 38
  },
  {
   "metadata": {
    "ExecuteTime": {
     "end_time": "2024-11-07T11:19:10.302807Z",
     "start_time": "2024-11-07T11:19:10.292461Z"
    }
   },
   "cell_type": "code",
   "source": "cc_raw.to_json(\"/srv/data/corpus-corporum/cc_metadata.json\")",
   "id": "122e9bf8819b405f",
   "outputs": [],
   "execution_count": 39
  },
  {
   "metadata": {
    "ExecuteTime": {
     "end_time": "2024-11-11T17:19:17.065991Z",
     "start_time": "2024-11-11T17:19:17.035329Z"
    }
   },
   "cell_type": "code",
   "source": "cc_raw = pd.read_json(\"/srv/data/corpus-corporum/cc_metadata.json\")",
   "id": "8a2d5e1d33589346",
   "outputs": [],
   "execution_count": 41
  },
  {
   "metadata": {
    "ExecuteTime": {
     "end_time": "2024-11-11T17:19:53.379462Z",
     "start_time": "2024-11-11T17:19:53.353021Z"
    }
   },
   "cell_type": "code",
   "source": "cc_raw.to_csv(\"../data/cc_metadata.csv\")",
   "id": "6d59f9d1f00e155b",
   "outputs": [],
   "execution_count": 42
  },
  {
   "cell_type": "code",
   "execution_count": 75,
   "id": "9b25f82d1e5dc94e",
   "metadata": {
    "ExecuteTime": {
     "end_time": "2023-12-11T10:50:38.870692Z",
     "start_time": "2023-12-11T10:50:33.086971Z"
    },
    "collapsed": false,
    "jupyter": {
     "outputs_hidden": false
    }
   },
   "outputs": [],
   "source": [
    "set_with_dataframe(noscemus_gs.add_worksheet(\"corpus-corporum\", 1,1), cc_raw)"
   ]
  },
  {
   "cell_type": "code",
   "execution_count": null,
   "id": "4ddf412b68acf702",
   "metadata": {
    "collapsed": false,
    "jupyter": {
     "outputs_hidden": false
    }
   },
   "outputs": [],
   "source": []
  }
 ],
 "metadata": {
  "kernelspec": {
   "display_name": "latin_global_kernel",
   "language": "python",
   "name": "latin_global_kernel"
  },
  "language_info": {
   "codemirror_mode": {
    "name": "ipython",
    "version": 3
   },
   "file_extension": ".py",
   "mimetype": "text/x-python",
   "name": "python",
   "nbconvert_exporter": "python",
   "pygments_lexer": "ipython3",
   "version": "3.10.12"
  }
 },
 "nbformat": 4,
 "nbformat_minor": 5
}
