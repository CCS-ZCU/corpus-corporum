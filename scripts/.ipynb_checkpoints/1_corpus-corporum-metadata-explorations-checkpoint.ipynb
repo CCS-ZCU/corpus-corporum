{
 "cells": [
  {
   "cell_type": "code",
   "execution_count": 3,
   "id": "e5cf4f793895fc64",
   "metadata": {
    "ExecuteTime": {
     "end_time": "2024-03-04T10:56:34.338475Z",
     "start_time": "2024-03-04T10:56:34.182265Z"
    },
    "collapsed": false,
    "jupyter": {
     "outputs_hidden": false
    }
   },
   "outputs": [],
   "source": [
    "import pandas as pd\n",
    "import re\n",
    "import tempun\n",
    "import matplotlib.pyplot as plt\n",
    "import json\n",
    "\n",
    "import gspread\n",
    "from gspread_dataframe import get_as_dataframe, set_with_dataframe\n",
    "from google.oauth2 import service_account # based on google-auth library"
   ]
  },
  {
   "cell_type": "code",
   "execution_count": 7,
   "id": "37d85ef50f9bdb21",
   "metadata": {
    "ExecuteTime": {
     "end_time": "2024-03-04T10:56:37.680567Z",
     "start_time": "2024-03-04T10:56:35.750544Z"
    },
    "collapsed": false,
    "jupyter": {
     "outputs_hidden": false
    }
   },
   "outputs": [],
   "source": [
    "service_accounts_key_path = \"../../../ServiceAccountsKey.json\" # change to fit your location\n",
    "file_data = json.load(open(service_accounts_key_path))\n",
    "# (2) transform the content into crendentials object\n",
    "credentials = service_account.Credentials.from_service_account_info(file_data)\n",
    "# (3) specify your usage of the credentials\n",
    "scoped_credentials = credentials.with_scopes(\n",
    "    ['https://spreadsheets.google.com/feeds', 'https://www.googleapis.com/auth/drive'])\n",
    "# (4) use the constrained credentials for authentication of gspread package\n",
    "gc = gspread.Client(auth=scoped_credentials)\n",
    "\n",
    "noscemus_gs = gc.open_by_url(\n",
    "    \"https://docs.google.com/spreadsheets/d/1ekf9RBfd4yqy0p0IWJ4SDk1kUT70hnoIVX1H6KPdIts/edit?usp=sharing\")"
   ]
  },
  {
   "cell_type": "markdown",
   "id": "6791f803-220e-4b16-a44f-047b9e4f07bd",
   "metadata": {},
   "source": [
    "The raw data for Corpus Corporum have been downloaded in terminal using these two commands:\n",
    "* `sudo curl -L -o /srv/data/corpus-corporum/latin_raw.csv \"https://huggingface.co/datasets/Fece228/latin-literature-dataset-170M/resolve/main/latin_raw.csv?download=true\"`\n",
    "* `sudo curl -L -o /srv/data/corpus-corporum/latin_lemmas.csv \"https://huggingface.co/datasets/Fece228/latin-literature-dataset-170M/resolve/main/latin_lemmas.csv?download=true\"`"
   ]
  },
  {
   "cell_type": "code",
   "execution_count": 8,
   "id": "2be0c36d857a1447",
   "metadata": {
    "ExecuteTime": {
     "end_time": "2024-03-04T10:57:21.920777Z",
     "start_time": "2024-03-04T10:56:38.186713Z"
    },
    "collapsed": false,
    "jupyter": {
     "outputs_hidden": false
    }
   },
   "outputs": [],
   "source": [
    "cc_raw = pd.read_csv('/srv/data/corpus-corporum/latin_raw.csv')"
   ]
  },
  {
   "cell_type": "code",
   "execution_count": 10,
   "id": "a397d0a9-00e6-460d-935e-1e383007021a",
   "metadata": {},
   "outputs": [
    {
     "data": {
      "text/html": [
       "<div>\n",
       "<style scoped>\n",
       "    .dataframe tbody tr th:only-of-type {\n",
       "        vertical-align: middle;\n",
       "    }\n",
       "\n",
       "    .dataframe tbody tr th {\n",
       "        vertical-align: top;\n",
       "    }\n",
       "\n",
       "    .dataframe thead th {\n",
       "        text-align: right;\n",
       "    }\n",
       "</style>\n",
       "<table border=\"1\" class=\"dataframe\">\n",
       "  <thead>\n",
       "    <tr style=\"text-align: right;\">\n",
       "      <th></th>\n",
       "      <th>Unnamed: 0</th>\n",
       "      <th>title</th>\n",
       "      <th>text</th>\n",
       "      <th>author</th>\n",
       "      <th>year</th>\n",
       "      <th>word_count</th>\n",
       "    </tr>\n",
       "  </thead>\n",
       "  <tbody>\n",
       "    <tr>\n",
       "      <th>0</th>\n",
       "      <td>latin_xmls\\10.xml</td>\n",
       "      <td>De facto Ungarie magne1236\\n</td>\n",
       "      <td>\\n\\nDe facto Ungarie magne\\n\\na fratre Riccard...</td>\n",
       "      <td>Riccardus OFM</td>\n",
       "      <td>fl.1236</td>\n",
       "      <td>3340</td>\n",
       "    </tr>\n",
       "    <tr>\n",
       "      <th>1</th>\n",
       "      <td>latin_xmls\\100.xml</td>\n",
       "      <td>De trinitate</td>\n",
       "      <td>\\n\\n        ARGUMENTUM.\\n\\n\\n #Dividitur tract...</td>\n",
       "      <td>Novatianus</td>\n",
       "      <td>fl. 260</td>\n",
       "      <td>44792</td>\n",
       "    </tr>\n",
       "    <tr>\n",
       "      <th>2</th>\n",
       "      <td>latin_xmls\\10000.xml</td>\n",
       "      <td>De quadratura circuli</td>\n",
       "      <td>\\n\\n\\n          NOTA.\\nDiximus falso videri Be...</td>\n",
       "      <td>Franco Leodiensis</td>\n",
       "      <td>NaN</td>\n",
       "      <td>1648</td>\n",
       "    </tr>\n",
       "    <tr>\n",
       "      <th>3</th>\n",
       "      <td>latin_xmls\\10001.xml</td>\n",
       "      <td>Epistola ad Berengarium</td>\n",
       "      <td>\\n\\n        Epistola ad Berengarium\\n\\nDomino ...</td>\n",
       "      <td>Frollandus Sylvanectensis</td>\n",
       "      <td>NaN</td>\n",
       "      <td>518</td>\n",
       "    </tr>\n",
       "    <tr>\n",
       "      <th>4</th>\n",
       "      <td>latin_xmls\\10002.xml</td>\n",
       "      <td>Diplomata</td>\n",
       "      <td>\\n\\n        I. #Charta fundationis seu restitu...</td>\n",
       "      <td>Gervasius Remensis1055-1067</td>\n",
       "      <td>1055-1067</td>\n",
       "      <td>1532</td>\n",
       "    </tr>\n",
       "  </tbody>\n",
       "</table>\n",
       "</div>"
      ],
      "text/plain": [
       "             Unnamed: 0                         title  \\\n",
       "0     latin_xmls\\10.xml  De facto Ungarie magne1236\\n   \n",
       "1    latin_xmls\\100.xml                  De trinitate   \n",
       "2  latin_xmls\\10000.xml         De quadratura circuli   \n",
       "3  latin_xmls\\10001.xml       Epistola ad Berengarium   \n",
       "4  latin_xmls\\10002.xml                     Diplomata   \n",
       "\n",
       "                                                text  \\\n",
       "0  \\n\\nDe facto Ungarie magne\\n\\na fratre Riccard...   \n",
       "1  \\n\\n        ARGUMENTUM.\\n\\n\\n #Dividitur tract...   \n",
       "2  \\n\\n\\n          NOTA.\\nDiximus falso videri Be...   \n",
       "3  \\n\\n        Epistola ad Berengarium\\n\\nDomino ...   \n",
       "4  \\n\\n        I. #Charta fundationis seu restitu...   \n",
       "\n",
       "                         author       year  word_count  \n",
       "0                 Riccardus OFM    fl.1236        3340  \n",
       "1                    Novatianus    fl. 260       44792  \n",
       "2            Franco Leodiensis         NaN        1648  \n",
       "3    Frollandus Sylvanectensis         NaN         518  \n",
       "4  Gervasius Remensis1055-1067   1055-1067        1532  "
      ]
     },
     "execution_count": 10,
     "metadata": {},
     "output_type": "execute_result"
    }
   ],
   "source": [
    "cc_raw.head(5)"
   ]
  },
  {
   "cell_type": "code",
   "execution_count": 19,
   "id": "b551521f-7507-4dad-8266-85ddbd490c27",
   "metadata": {},
   "outputs": [
    {
     "data": {
      "text/plain": [
       "7819"
      ]
     },
     "execution_count": 19,
     "metadata": {},
     "output_type": "execute_result"
    }
   ],
   "source": [
    "len(cc_raw)"
   ]
  },
  {
   "cell_type": "code",
   "execution_count": 20,
   "id": "eca75cba-13d8-4d87-8252-37aef5bd3154",
   "metadata": {},
   "outputs": [],
   "source": [
    "# let's use the numeric component from \"Unnamed: 0\" as a source for a Corpus Corporum ID\n",
    "cc_raw[\"cc_id\"] = cc_raw[\"Unnamed: 0\"].apply(lambda x: x.rpartition(\"\\\\\")[2].replace(\".xml\", \"\"))"
   ]
  },
  {
   "cell_type": "code",
   "execution_count": 21,
   "id": "b73463ca-7602-40fa-8d68-bba6a631964f",
   "metadata": {},
   "outputs": [
    {
     "data": {
      "text/plain": [
       "7819"
      ]
     },
     "execution_count": 21,
     "metadata": {},
     "output_type": "execute_result"
    }
   ],
   "source": [
    "# check that we have identical number of IDs as the number of works\n",
    "len(set(cc_raw[\"cc_id\"]))"
   ]
  },
  {
   "cell_type": "code",
   "execution_count": null,
   "id": "e4b109a2-78c2-4760-8d1d-a3eea04631d4",
   "metadata": {},
   "outputs": [],
   "source": [
    "cc_raw.drop(\"Unnamed: 0\"]."
   ]
  },
  {
   "cell_type": "code",
   "execution_count": 9,
   "id": "37a8dabe530c72b0",
   "metadata": {
    "ExecuteTime": {
     "end_time": "2024-03-04T10:57:46.727626Z",
     "start_time": "2024-03-04T10:57:21.935924Z"
    },
    "collapsed": false,
    "jupyter": {
     "outputs_hidden": false
    }
   },
   "outputs": [],
   "source": [
    "cc_raw[\"word_count\"] = cc_raw[\"text\"].apply(lambda x: len(x.split()))"
   ]
  },
  {
   "cell_type": "code",
   "execution_count": 5,
   "id": "1d8904b2a4fb6124",
   "metadata": {
    "ExecuteTime": {
     "end_time": "2024-03-04T10:57:46.750645Z",
     "start_time": "2024-03-04T10:57:46.731833Z"
    },
    "collapsed": false,
    "jupyter": {
     "outputs_hidden": false
    }
   },
   "outputs": [
    {
     "data": {
      "text/plain": [
       "470180378"
      ]
     },
     "execution_count": 5,
     "metadata": {},
     "output_type": "execute_result"
    }
   ],
   "source": [
    "cc_raw[\"word_count\"].sum()"
   ]
  },
  {
   "cell_type": "code",
   "execution_count": 22,
   "id": "4840e8c379f68201",
   "metadata": {
    "ExecuteTime": {
     "end_time": "2024-03-04T10:57:46.763232Z",
     "start_time": "2024-03-04T10:57:46.757840Z"
    },
    "collapsed": false,
    "jupyter": {
     "outputs_hidden": false
    }
   },
   "outputs": [
    {
     "data": {
      "text/plain": [
       "(7819, 7)"
      ]
     },
     "execution_count": 22,
     "metadata": {},
     "output_type": "execute_result"
    }
   ],
   "source": [
    "cc_raw.shape"
   ]
  },
  {
   "cell_type": "code",
   "execution_count": null,
   "id": "cba82cc1-9368-44e7-8d42-4e978154a663",
   "metadata": {},
   "outputs": [],
   "source": []
  },
  {
   "cell_type": "code",
   "execution_count": null,
   "id": "1f02a313-65a2-4bf4-aac8-eb21a8890f9d",
   "metadata": {},
   "outputs": [],
   "source": []
  },
  {
   "cell_type": "code",
   "execution_count": null,
   "id": "778dda71-eb2a-460c-bee2-fd8cb25a91d2",
   "metadata": {},
   "outputs": [],
   "source": []
  },
  {
   "cell_type": "code",
   "execution_count": 7,
   "id": "3165eb6ee0304609",
   "metadata": {
    "ExecuteTime": {
     "end_time": "2024-03-04T10:57:47.039481Z",
     "start_time": "2024-03-04T10:57:46.774182Z"
    },
    "collapsed": false,
    "jupyter": {
     "outputs_hidden": false
    }
   },
   "outputs": [],
   "source": [
    "cc_raw.drop([\"text\", \"Unnamed: 0\"], axis=1, inplace=True)"
   ]
  },
  {
   "cell_type": "code",
   "execution_count": 8,
   "id": "4fae72b2f4bc2a05",
   "metadata": {
    "ExecuteTime": {
     "end_time": "2024-03-04T10:57:47.067893Z",
     "start_time": "2024-03-04T10:57:47.042737Z"
    },
    "collapsed": false,
    "jupyter": {
     "outputs_hidden": false
    }
   },
   "outputs": [
    {
     "data": {
      "text/html": [
       "<div>\n",
       "<style scoped>\n",
       "    .dataframe tbody tr th:only-of-type {\n",
       "        vertical-align: middle;\n",
       "    }\n",
       "\n",
       "    .dataframe tbody tr th {\n",
       "        vertical-align: top;\n",
       "    }\n",
       "\n",
       "    .dataframe thead th {\n",
       "        text-align: right;\n",
       "    }\n",
       "</style>\n",
       "<table border=\"1\" class=\"dataframe\">\n",
       "  <thead>\n",
       "    <tr style=\"text-align: right;\">\n",
       "      <th></th>\n",
       "      <th>Unnamed: 0</th>\n",
       "      <th>title</th>\n",
       "      <th>author</th>\n",
       "      <th>year</th>\n",
       "      <th>word_count</th>\n",
       "    </tr>\n",
       "  </thead>\n",
       "  <tbody>\n",
       "    <tr>\n",
       "      <th>0</th>\n",
       "      <td>latin_xmls\\10.xml</td>\n",
       "      <td>De facto Ungarie magne1236\\n</td>\n",
       "      <td>Riccardus OFM</td>\n",
       "      <td>fl.1236</td>\n",
       "      <td>3340</td>\n",
       "    </tr>\n",
       "    <tr>\n",
       "      <th>1</th>\n",
       "      <td>latin_xmls\\100.xml</td>\n",
       "      <td>De trinitate</td>\n",
       "      <td>Novatianus</td>\n",
       "      <td>fl. 260</td>\n",
       "      <td>44792</td>\n",
       "    </tr>\n",
       "    <tr>\n",
       "      <th>2</th>\n",
       "      <td>latin_xmls\\10000.xml</td>\n",
       "      <td>De quadratura circuli</td>\n",
       "      <td>Franco Leodiensis</td>\n",
       "      <td>NaN</td>\n",
       "      <td>1648</td>\n",
       "    </tr>\n",
       "    <tr>\n",
       "      <th>3</th>\n",
       "      <td>latin_xmls\\10001.xml</td>\n",
       "      <td>Epistola ad Berengarium</td>\n",
       "      <td>Frollandus Sylvanectensis</td>\n",
       "      <td>NaN</td>\n",
       "      <td>518</td>\n",
       "    </tr>\n",
       "    <tr>\n",
       "      <th>4</th>\n",
       "      <td>latin_xmls\\10002.xml</td>\n",
       "      <td>Diplomata</td>\n",
       "      <td>Gervasius Remensis1055-1067</td>\n",
       "      <td>1055-1067</td>\n",
       "      <td>1532</td>\n",
       "    </tr>\n",
       "  </tbody>\n",
       "</table>\n",
       "</div>"
      ],
      "text/plain": [
       "             Unnamed: 0                         title  \\\n",
       "0     latin_xmls\\10.xml  De facto Ungarie magne1236\\n   \n",
       "1    latin_xmls\\100.xml                  De trinitate   \n",
       "2  latin_xmls\\10000.xml         De quadratura circuli   \n",
       "3  latin_xmls\\10001.xml       Epistola ad Berengarium   \n",
       "4  latin_xmls\\10002.xml                     Diplomata   \n",
       "\n",
       "                         author       year  word_count  \n",
       "0                 Riccardus OFM    fl.1236        3340  \n",
       "1                    Novatianus    fl. 260       44792  \n",
       "2            Franco Leodiensis         NaN        1648  \n",
       "3    Frollandus Sylvanectensis         NaN         518  \n",
       "4  Gervasius Remensis1055-1067   1055-1067        1532  "
      ]
     },
     "execution_count": 8,
     "metadata": {},
     "output_type": "execute_result"
    }
   ],
   "source": [
    "cc_raw.head(5)"
   ]
  },
  {
   "cell_type": "code",
   "execution_count": 9,
   "id": "137cfd7dc1cfaff0",
   "metadata": {
    "ExecuteTime": {
     "end_time": "2024-03-04T10:57:47.092236Z",
     "start_time": "2024-03-04T10:57:47.076731Z"
    },
    "collapsed": false,
    "jupyter": {
     "outputs_hidden": false
    }
   },
   "outputs": [
    {
     "data": {
      "text/plain": [
       "3"
      ]
     },
     "execution_count": 9,
     "metadata": {},
     "output_type": "execute_result"
    }
   ],
   "source": [
    "# TO-DO\n",
    "cc_raw[\"year\"].apply(lambda x: \"post\" in str(x)).sum()"
   ]
  },
  {
   "cell_type": "code",
   "execution_count": 10,
   "id": "ee28f2133cb9866c",
   "metadata": {
    "ExecuteTime": {
     "end_time": "2024-03-04T10:57:47.116091Z",
     "start_time": "2024-03-04T10:57:47.095559Z"
    },
    "collapsed": false,
    "jupyter": {
     "outputs_hidden": false
    }
   },
   "outputs": [
    {
     "data": {
      "text/plain": [
       "[123]"
      ]
     },
     "execution_count": 10,
     "metadata": {},
     "output_type": "execute_result"
    }
   ],
   "source": [
    "d = \"c. 123\"\n",
    "dates_raw = [el for el in re.findall(\"(\\d+)(BC)?\", d)]\n",
    "dates = []\n",
    "for tup in dates_raw:\n",
    "    if tup[1] == \"BC\":\n",
    "        dates.append(int(tup[0]) * -1)\n",
    "    else:\n",
    "        dates.append(int(tup[0]))\n",
    "dates"
   ]
  },
  {
   "cell_type": "code",
   "execution_count": 11,
   "id": "7fd8bec99c798c53",
   "metadata": {
    "ExecuteTime": {
     "end_time": "2024-03-04T10:57:47.129472Z",
     "start_time": "2024-03-04T10:57:47.123835Z"
    },
    "collapsed": false,
    "jupyter": {
     "outputs_hidden": false
    }
   },
   "outputs": [],
   "source": [
    "\n",
    "def get_dates(d):\n",
    "    date_dict = {}\n",
    "    try:\n",
    "        dates_raw = [el for el in re.findall(\"(\\d+)(BC)?\", d)]\n",
    "        dates = []\n",
    "        for tup in dates_raw:\n",
    "            if tup[1] == \"BC\":\n",
    "                dates.append(int(tup[0]) * -1)\n",
    "            else:\n",
    "                dates.append(int(tup[0]))\n",
    "    except:\n",
    "        dates = []\n",
    "    if len(dates)==1:\n",
    "        dates = [dates[0], dates[0]]\n",
    "    if len(dates)==2:\n",
    "        date_dict = {\"not_before\" : dates[0], \"not_after\" : dates[1]}\n",
    "    else:\n",
    "        date_dict = {\"not_before\" : None, \"not_after\" : None}\n",
    "    return date_dict   "
   ]
  },
  {
   "cell_type": "code",
   "execution_count": 12,
   "id": "4cd48177b28d33f0",
   "metadata": {
    "ExecuteTime": {
     "end_time": "2024-03-04T10:57:47.166036Z",
     "start_time": "2024-03-04T10:57:47.139145Z"
    },
    "collapsed": false,
    "jupyter": {
     "outputs_hidden": false
    }
   },
   "outputs": [
    {
     "data": {
      "text/html": [
       "<div>\n",
       "<style scoped>\n",
       "    .dataframe tbody tr th:only-of-type {\n",
       "        vertical-align: middle;\n",
       "    }\n",
       "\n",
       "    .dataframe tbody tr th {\n",
       "        vertical-align: top;\n",
       "    }\n",
       "\n",
       "    .dataframe thead th {\n",
       "        text-align: right;\n",
       "    }\n",
       "</style>\n",
       "<table border=\"1\" class=\"dataframe\">\n",
       "  <thead>\n",
       "    <tr style=\"text-align: right;\">\n",
       "      <th></th>\n",
       "      <th>Unnamed: 0</th>\n",
       "      <th>title</th>\n",
       "      <th>author</th>\n",
       "      <th>year</th>\n",
       "      <th>word_count</th>\n",
       "    </tr>\n",
       "  </thead>\n",
       "  <tbody>\n",
       "    <tr>\n",
       "      <th>2000</th>\n",
       "      <td>latin_xmls\\12144.xml</td>\n",
       "      <td>De agricultura</td>\n",
       "      <td>Varro</td>\n",
       "      <td>116BC-27BC</td>\n",
       "      <td>106464</td>\n",
       "    </tr>\n",
       "    <tr>\n",
       "      <th>2002</th>\n",
       "      <td>latin_xmls\\12146.xml</td>\n",
       "      <td>De bello Africo</td>\n",
       "      <td>Ps-Caesar</td>\n",
       "      <td>c.50BC</td>\n",
       "      <td>26406</td>\n",
       "    </tr>\n",
       "    <tr>\n",
       "      <th>2003</th>\n",
       "      <td>latin_xmls\\12147.xml</td>\n",
       "      <td>De bello Alexandrino</td>\n",
       "      <td>Ps-Caesar</td>\n",
       "      <td>c.50BC</td>\n",
       "      <td>21196</td>\n",
       "    </tr>\n",
       "    <tr>\n",
       "      <th>2004</th>\n",
       "      <td>latin_xmls\\12148.xml</td>\n",
       "      <td>De bello Hispaniensi</td>\n",
       "      <td>Ps-Caesar</td>\n",
       "      <td>c.50BC</td>\n",
       "      <td>12368</td>\n",
       "    </tr>\n",
       "    <tr>\n",
       "      <th>2013</th>\n",
       "      <td>latin_xmls\\12157.xml</td>\n",
       "      <td>De legibus</td>\n",
       "      <td>icero</td>\n",
       "      <td>106BC–43BC</td>\n",
       "      <td>56574</td>\n",
       "    </tr>\n",
       "    <tr>\n",
       "      <th>...</th>\n",
       "      <td>...</td>\n",
       "      <td>...</td>\n",
       "      <td>...</td>\n",
       "      <td>...</td>\n",
       "      <td>...</td>\n",
       "    </tr>\n",
       "    <tr>\n",
       "      <th>4388</th>\n",
       "      <td>latin_xmls\\21315.xml</td>\n",
       "      <td>Theaetetus</td>\n",
       "      <td>Plato</td>\n",
       "      <td>c.425BC–347BC</td>\n",
       "      <td>71198</td>\n",
       "    </tr>\n",
       "    <tr>\n",
       "      <th>4389</th>\n",
       "      <td>latin_xmls\\21316.xml</td>\n",
       "      <td>Theages</td>\n",
       "      <td>Plato</td>\n",
       "      <td>c.425BC–347BC</td>\n",
       "      <td>10973</td>\n",
       "    </tr>\n",
       "    <tr>\n",
       "      <th>4390</th>\n",
       "      <td>latin_xmls\\21317.xml</td>\n",
       "      <td>Theogonia</td>\n",
       "      <td>Hesiodus</td>\n",
       "      <td>fl.c.700BC</td>\n",
       "      <td>14234</td>\n",
       "    </tr>\n",
       "    <tr>\n",
       "      <th>4391</th>\n",
       "      <td>latin_xmls\\21318.xml</td>\n",
       "      <td>Timaeus</td>\n",
       "      <td>Plato</td>\n",
       "      <td>c.425BC–347BC</td>\n",
       "      <td>71756</td>\n",
       "    </tr>\n",
       "    <tr>\n",
       "      <th>4392</th>\n",
       "      <td>latin_xmls\\21319.xml</td>\n",
       "      <td>Topica</td>\n",
       "      <td>Aristoteles</td>\n",
       "      <td>384BC–322BC</td>\n",
       "      <td>132864</td>\n",
       "    </tr>\n",
       "  </tbody>\n",
       "</table>\n",
       "<p>195 rows × 5 columns</p>\n",
       "</div>"
      ],
      "text/plain": [
       "                Unnamed: 0                 title       author           year  \\\n",
       "2000  latin_xmls\\12144.xml        De agricultura        Varro     116BC-27BC   \n",
       "2002  latin_xmls\\12146.xml       De bello Africo    Ps-Caesar         c.50BC   \n",
       "2003  latin_xmls\\12147.xml  De bello Alexandrino    Ps-Caesar         c.50BC   \n",
       "2004  latin_xmls\\12148.xml  De bello Hispaniensi    Ps-Caesar         c.50BC   \n",
       "2013  latin_xmls\\12157.xml            De legibus        icero     106BC–43BC   \n",
       "...                    ...                   ...          ...            ...   \n",
       "4388  latin_xmls\\21315.xml            Theaetetus        Plato  c.425BC–347BC   \n",
       "4389  latin_xmls\\21316.xml               Theages        Plato  c.425BC–347BC   \n",
       "4390  latin_xmls\\21317.xml             Theogonia     Hesiodus     fl.c.700BC   \n",
       "4391  latin_xmls\\21318.xml               Timaeus        Plato  c.425BC–347BC   \n",
       "4392  latin_xmls\\21319.xml                Topica  Aristoteles    384BC–322BC   \n",
       "\n",
       "      word_count  \n",
       "2000      106464  \n",
       "2002       26406  \n",
       "2003       21196  \n",
       "2004       12368  \n",
       "2013       56574  \n",
       "...          ...  \n",
       "4388       71198  \n",
       "4389       10973  \n",
       "4390       14234  \n",
       "4391       71756  \n",
       "4392      132864  \n",
       "\n",
       "[195 rows x 5 columns]"
      ]
     },
     "execution_count": 12,
     "metadata": {},
     "output_type": "execute_result"
    }
   ],
   "source": [
    "cc_raw[cc_raw[\"year\"].apply(lambda x: \"BC\" in str(x))]"
   ]
  },
  {
   "cell_type": "code",
   "execution_count": 13,
   "id": "4224c426c4b833ed",
   "metadata": {
    "ExecuteTime": {
     "end_time": "2024-03-04T10:57:47.193228Z",
     "start_time": "2024-03-04T10:57:47.169038Z"
    },
    "collapsed": false,
    "jupyter": {
     "outputs_hidden": false
    }
   },
   "outputs": [],
   "source": [
    "cc_raw[\"dates_dict\"] = cc_raw[\"year\"].apply(get_dates)\n",
    "cc_raw[\"not_before\"] =  cc_raw[\"dates_dict\"].apply(lambda x: x[\"not_before\"])\n",
    "cc_raw[\"not_after\"] =  cc_raw[\"dates_dict\"].apply(lambda x: x[\"not_after\"])\n",
    "cc_raw.drop([\"dates_dict\"], axis=1, inplace=True)"
   ]
  },
  {
   "cell_type": "code",
   "execution_count": 14,
   "id": "7eb38088be98805b",
   "metadata": {
    "ExecuteTime": {
     "end_time": "2024-03-04T10:57:47.203868Z",
     "start_time": "2024-03-04T10:57:47.196435Z"
    },
    "collapsed": false,
    "jupyter": {
     "outputs_hidden": false
    }
   },
   "outputs": [
    {
     "data": {
      "text/html": [
       "<div>\n",
       "<style scoped>\n",
       "    .dataframe tbody tr th:only-of-type {\n",
       "        vertical-align: middle;\n",
       "    }\n",
       "\n",
       "    .dataframe tbody tr th {\n",
       "        vertical-align: top;\n",
       "    }\n",
       "\n",
       "    .dataframe thead th {\n",
       "        text-align: right;\n",
       "    }\n",
       "</style>\n",
       "<table border=\"1\" class=\"dataframe\">\n",
       "  <thead>\n",
       "    <tr style=\"text-align: right;\">\n",
       "      <th></th>\n",
       "      <th>Unnamed: 0</th>\n",
       "      <th>title</th>\n",
       "      <th>author</th>\n",
       "      <th>year</th>\n",
       "      <th>word_count</th>\n",
       "      <th>not_before</th>\n",
       "      <th>not_after</th>\n",
       "    </tr>\n",
       "  </thead>\n",
       "  <tbody>\n",
       "    <tr>\n",
       "      <th>0</th>\n",
       "      <td>latin_xmls\\10.xml</td>\n",
       "      <td>De facto Ungarie magne1236\\n</td>\n",
       "      <td>Riccardus OFM</td>\n",
       "      <td>fl.1236</td>\n",
       "      <td>3340</td>\n",
       "      <td>1236.0</td>\n",
       "      <td>1236.0</td>\n",
       "    </tr>\n",
       "    <tr>\n",
       "      <th>1</th>\n",
       "      <td>latin_xmls\\100.xml</td>\n",
       "      <td>De trinitate</td>\n",
       "      <td>Novatianus</td>\n",
       "      <td>fl. 260</td>\n",
       "      <td>44792</td>\n",
       "      <td>260.0</td>\n",
       "      <td>260.0</td>\n",
       "    </tr>\n",
       "    <tr>\n",
       "      <th>2</th>\n",
       "      <td>latin_xmls\\10000.xml</td>\n",
       "      <td>De quadratura circuli</td>\n",
       "      <td>Franco Leodiensis</td>\n",
       "      <td>NaN</td>\n",
       "      <td>1648</td>\n",
       "      <td>NaN</td>\n",
       "      <td>NaN</td>\n",
       "    </tr>\n",
       "    <tr>\n",
       "      <th>3</th>\n",
       "      <td>latin_xmls\\10001.xml</td>\n",
       "      <td>Epistola ad Berengarium</td>\n",
       "      <td>Frollandus Sylvanectensis</td>\n",
       "      <td>NaN</td>\n",
       "      <td>518</td>\n",
       "      <td>NaN</td>\n",
       "      <td>NaN</td>\n",
       "    </tr>\n",
       "    <tr>\n",
       "      <th>4</th>\n",
       "      <td>latin_xmls\\10002.xml</td>\n",
       "      <td>Diplomata</td>\n",
       "      <td>Gervasius Remensis1055-1067</td>\n",
       "      <td>1055-1067</td>\n",
       "      <td>1532</td>\n",
       "      <td>1055.0</td>\n",
       "      <td>1067.0</td>\n",
       "    </tr>\n",
       "  </tbody>\n",
       "</table>\n",
       "</div>"
      ],
      "text/plain": [
       "             Unnamed: 0                         title  \\\n",
       "0     latin_xmls\\10.xml  De facto Ungarie magne1236\\n   \n",
       "1    latin_xmls\\100.xml                  De trinitate   \n",
       "2  latin_xmls\\10000.xml         De quadratura circuli   \n",
       "3  latin_xmls\\10001.xml       Epistola ad Berengarium   \n",
       "4  latin_xmls\\10002.xml                     Diplomata   \n",
       "\n",
       "                         author       year  word_count  not_before  not_after  \n",
       "0                 Riccardus OFM    fl.1236        3340      1236.0     1236.0  \n",
       "1                    Novatianus    fl. 260       44792       260.0      260.0  \n",
       "2            Franco Leodiensis         NaN        1648         NaN        NaN  \n",
       "3    Frollandus Sylvanectensis         NaN         518         NaN        NaN  \n",
       "4  Gervasius Remensis1055-1067   1055-1067        1532      1055.0     1067.0  "
      ]
     },
     "execution_count": 14,
     "metadata": {},
     "output_type": "execute_result"
    }
   ],
   "source": [
    "cc_raw.head()"
   ]
  },
  {
   "cell_type": "code",
   "execution_count": 15,
   "id": "6bbea9ac701f10b8",
   "metadata": {
    "ExecuteTime": {
     "end_time": "2024-03-04T10:57:47.208448Z",
     "start_time": "2024-03-04T10:57:47.204952Z"
    },
    "collapsed": false,
    "jupyter": {
     "outputs_hidden": false
    }
   },
   "outputs": [],
   "source": [
    "cc_raw[\"is_earlymodern\"] = ((cc_raw[\"not_after\"]>=1501)\n",
    " & (cc_raw[\"not_before\"]<=1800))"
   ]
  },
  {
   "cell_type": "code",
   "execution_count": 16,
   "id": "7896ebfc10516f96",
   "metadata": {
    "ExecuteTime": {
     "end_time": "2024-03-04T10:57:47.215715Z",
     "start_time": "2024-03-04T10:57:47.210196Z"
    },
    "collapsed": false,
    "jupyter": {
     "outputs_hidden": false
    }
   },
   "outputs": [
    {
     "data": {
      "text/plain": [
       "702"
      ]
     },
     "execution_count": 16,
     "metadata": {},
     "output_type": "execute_result"
    }
   ],
   "source": [
    "cc_raw[\"is_earlymodern\"].sum()"
   ]
  },
  {
   "cell_type": "code",
   "execution_count": 17,
   "id": "da8e16242ffddf38",
   "metadata": {
    "ExecuteTime": {
     "end_time": "2024-03-04T10:57:47.228754Z",
     "start_time": "2024-03-04T10:57:47.218676Z"
    },
    "collapsed": false,
    "jupyter": {
     "outputs_hidden": false
    }
   },
   "outputs": [
    {
     "data": {
      "text/plain": [
       "62656530"
      ]
     },
     "execution_count": 17,
     "metadata": {},
     "output_type": "execute_result"
    }
   ],
   "source": [
    "cc_raw[cc_raw[\"is_earlymodern\"]][\"word_count\"].sum()"
   ]
  },
  {
   "cell_type": "code",
   "execution_count": 18,
   "id": "3294aeb99b8e4159",
   "metadata": {
    "ExecuteTime": {
     "end_time": "2024-03-04T10:57:47.247974Z",
     "start_time": "2024-03-04T10:57:47.238011Z"
    },
    "collapsed": false,
    "jupyter": {
     "outputs_hidden": false
    }
   },
   "outputs": [
    {
     "data": {
      "text/plain": [
       "\"Thomas Morus; Cartesius, Renatus; Desiderius Erasmus; Maurolycus, Franciscus; Kircher, Athanasius; Eberhard Schleusinger; Vesalius, Andreas; Leibniz, Gottfried Wilhelm; Copernicus, Nicolaus; Lavater, Ludwig; Cardanus, Hieronymus; Cantemir, Demetrius; Franciscus Suarez; Bene, Franz von; Benedictus Spinoza; Giambattista della Porta; Francis Bacon; Galilei, Galileo; Johannes Kepler; Kepler, Iohannes; Giordano Bruno; Gianni Battista Cantalicio; Baldassarre Castiglione; Giacomo Leopardi; Giambattista Giraldi Cinzio; Antonio Maria Conti; Gianfrancesco Pico della Mirandola; Uberto Foglietta; Lilio Gregorio Giraldi; Sannazaro, Iacopo; Ugolino Verino; Ugo Foscolo; Ludovico Ariosto; Torquato Tasso; Ludovico Carbone; Anonymus ; Andronicus, Parthenius Tranquillus; Cunichius, Raymondus; Leuakouicz, Raphael; Marulus Spalatensis, Marcus; Gradius, Stephanus; Verantius, Michael; Skerletz, Nicolaus; Pridojevich, Iohannes; Cibel, Valentin; Eborensis, Iacobus Flavius; Ritter, Paulus; Verhovac, Maximilianus; Tolimerius, Aelius; Kercselich, Balthasar Adam; Razmilovich, Bonaventura; Cervinus, Aelius Lampridius; Verantius, Antonius; Garbitius, Matthias; Gondola, Francischus Lucianus; Bernardinus de Frangepanibus; Cerva, Seraphinus Maria; Brodericus, Stephanus; Matthiasaevius Caramanaeus, Antonius; De Restiis, Iunius Antonius; Natalis, Franciscus; Pascalis, Ludovicus; Rosaneus, Antonius ; Palmotta, Junius; Verantius, Faustus; Niger, Thomas; Chistophorus de Frangepanibus; Flacius Illyricus, Matthias; Cervarius Tubero, Ludovicus; Brezovacki, Titus; Duditius, Andreas; Sorgo, Michael; Benessa, Damianus; Benignus, Georgius; Bonus Racusaeus, Iacobus; Sisgoreus, Georgius; Boscovichius, Rogerius Iosephus; Bona de Boliris, Ioannes; Ciobarnich Macarskensis, Iosephus; Kitonich, Iohannes; Slavatus, Vincentius; Barichevich, Adamus Aloysius; Stepanich, Nicolaus; Ferrich, Georgius; Puteus, Carolus; Gotius, Iohannes; Georgius episcopus Varadiensis; Georgius, Ignatius; Zigerius, Emerik; Auctores varii; Zamagna, Bernardus; Palmotta, Georgius; Difnicus, Gerorgius; Banisius, Jacobus; Bocignolus, Michael; Benessa, Petrus; Severitanus, Iohannes Policarpus; Franciscus de Frangepanibus; Katancic, Matthias Petrus; Crusich, Petrus; Diphnicus, Iohannes Baptista; Tranquillus, Nicolaus; Vicich, Caietanus; Cippicus, Aloisius; Micatius, Nicolaus; Staphileus, Iohannes; Priboevius, Vincentius; Possidarski, Stephanus; Petraeus, Nicolaus; Stay, Benedictus; Ghetaldus, Marinus; Rogacci, Benedictus; Rattkay, Iohannes; Chrysogonus, Federicus; Barits, Adamus Adalbertus; Stulli, Lucas; Jellachich de Buzin, Ludovicu; Patricius, Franciscus; Vossius, Gerardus Johannes; Masenius, Jacobus; Atrocianus, Johannes; Lemnius, Simon; Melanchthon, Philippus; Sennert, Daniel; Du Cange, Charles du Fresne; Neugebauer, Salomon; Orlandini, Nicola; Thuanus, Jacobus Augustus; Hofmann, Johann Jacob; Conradus Celtis; Gwalther, Rudolf; Balde, Iacob; Furstenberg, Ferdinandus de; Lipsius, Justus; Castellio, Sebastianus; Gian Vittorio Rossi; Augustinus Niphus; Franciscus Vicomercatus; Ioachimus Perionius; Iulius Pacius; Marcus Antonius Sabellicus; Aulus Ianus Parrhasius; Stolle, Conradus; Gauss, Carl Friedrich; Vieta, Franciscus; Newton, Isaac; Euler, Leonhard; Theodor Bibliander; Amaseo, Girolamo; Avanzi, Girolamo; Negri, Francesco; Uberti, Francesco; Crinito, Pietro; Andrelino, Fausto; Mantovano, Battista; Resch, Joseph; Aleandro, Gerolamo; Folengo, Teofilo; Cruceio, Annibale; Fracastoro, Girolamo; Naldi, Naldo; Braccesi, Alessandro; Varchi, Benedetto; Astemio, Giovanni Pietro; Boni, Rocco; Cantalicio; Strozzi, Tito Vespasiano; Bologni, Gerolamo; Darcio, Giovanni; Verino, Ugolino; Anselmi, Giorgio; Collenuccio, Pandolfo; Fedele, Cassandra; Valeriano, Pietro; Vitelli, Cornelio; Fonzio, Bartolomeo; Pontico, Ludovico; Della Croce, Gian Giacomo; Sasso, Panfilo; Angulo, Andrea; Bagatto, Ottavio; Bonzi, Lelio; Flaminghio, Lorenzo; Giovio, Paolo; Lenzi, Lorenzo; Mendoza, Francesco; Nicolucesi, Lorenzo; Prospero, Orazio; Ranieri, Anton Francesco; Seroni, Giovanni Antonio; Minervi, Severo; Altilio, Gabriele; Amalteo, Cornelio Paolo; Ammonio, Andrea; Ariosto, Ludovico; Balbi, Girolamo; Bargeo; Bembo, Pietro; Berni, Francesco; Bonomo, Pietro; Canale, Matteo; Carbone, Girolamo; Casellio, Aurelio; Castiglione, Baldassarre; Cichino, Giorgio; Cotta, Giovanni; Della Casa, Giovanni; Di Natale, Francesco; Epicuro, Marcantonio; Flaminio, Marco Antonio; Geraldini, Alessandro; Gerolamo da Este; Luisini, Francesco; Luisini, Riccardo; Manuzio, Aldo; Michaelis Hospitalis; Molza, Francesco Maria; Molza, Tarquinia; Paolini, Alessandro; Sbruglio, Riccardo; Serarrighi, Cristofano; Sisgoreo, Giorgio; Sporeni, Giuseppe; Piatti, Pietro Antonio; Gadio, Giorgio; Stufa, Giulio; Vidroscio, Lorenzo; Rapicio, Andrea; Blosio, Palladio; Cancianini, Gian Domenico; Pontano, Giovanni Gioviano; Tilesio, Antonio; Augurelli, Giovanni Aurelio; Corsini, Amerigo; Calenzio, Elisio; Gambara, Lorenzo; Bon, Giacomo; Perisauli, Faustino; Zamberti, Bartolomeo; Rota, Berardino; Scaligero, Giulio Cesare; Beroaldo, Filippo; Parrasio, Paolo; Calcagnini, Celio; Veterano, Federico; Hercolani de Sarti, Gioanni; Pittiani, Francesco; Bencio, Trifone; Angeriano, Girolamo; Barignani, Fabio; Muzio, Girolamo; Ferreri, Zaccaria; Navagero, Andrea; Pico, Giovanni Francesco; D'Arco, Nicolò; Flaminio, Giannantonio; Pigna, Giovanni Battista; Johannes Leo Placentius; Landivar, Raphael; Vida, Marco Girolamo; Marso, Giovanni Armonio; Palingenio Stellato, Marcello; Intorcetta, Prospero; Ricci, Matteo; Boym, Michał Piotr; Couplet, Philippe; Martini, Martinus S.J; Noël, François; Ludvig Holberg; Theologi Duacenses1617 \""
      ]
     },
     "execution_count": 18,
     "metadata": {},
     "output_type": "execute_result"
    }
   ],
   "source": [
    "\"; \".join(list(cc_raw[cc_raw[\"is_earlymodern\"]][\"author\"].unique()))"
   ]
  },
  {
   "cell_type": "code",
   "execution_count": 19,
   "id": "e94512f2a2b50128",
   "metadata": {
    "ExecuteTime": {
     "end_time": "2024-03-04T10:57:49.822340Z",
     "start_time": "2024-03-04T10:57:47.252741Z"
    },
    "collapsed": false,
    "jupyter": {
     "outputs_hidden": false
    }
   },
   "outputs": [],
   "source": [
    "cc_raw[\"random_dates\"] = cc_raw.apply(lambda row: tempun.model_date(row[\"not_before\"], row[\"not_after\"], size=100), axis=1)"
   ]
  },
  {
   "cell_type": "code",
   "execution_count": 20,
   "id": "4bb8cc2aac759578",
   "metadata": {
    "ExecuteTime": {
     "end_time": "2024-03-04T10:57:50.595849Z",
     "start_time": "2024-03-04T10:57:49.823141Z"
    },
    "collapsed": false,
    "jupyter": {
     "outputs_hidden": false
    }
   },
   "outputs": [
    {
     "data": {
      "text/plain": [
       "[[<matplotlib.patches.Polygon at 0x15a0501f0>],\n",
       " [<matplotlib.patches.Polygon at 0x15a050970>]]"
      ]
     },
     "execution_count": 20,
     "metadata": {},
     "output_type": "execute_result"
    },
    {
     "data": {
      "image/png": "[encoded data removed]",
      "text/plain": [
       "<Figure size 640x480 with 1 Axes>"
      ]
     },
     "metadata": {},
     "output_type": "display_data"
    }
   ],
   "source": [
    "tempun.timeblocksplot_from_randoms(cc_raw[\"random_dates\"])"
   ]
  },
  {
   "cell_type": "code",
   "execution_count": 21,
   "id": "adcabb11f7e7a16d",
   "metadata": {
    "ExecuteTime": {
     "end_time": "2024-03-04T10:57:51.964721Z",
     "start_time": "2024-03-04T10:57:50.600464Z"
    },
    "collapsed": false,
    "jupyter": {
     "outputs_hidden": false
    }
   },
   "outputs": [],
   "source": [
    "def wordcount(timeblock_df, column=\"word_count\"):\n",
    "    \"\"\"number of words in inscriptions within timeblock\"\"\"\n",
    "    return timeblock_df[column].sum()\n",
    "wordcounts_data = tempun.sim_data_by_function(cc_raw, 100, [-200, 1900, 50], wordcount)"
   ]
  },
  {
   "cell_type": "code",
   "execution_count": 26,
   "id": "e00e96c248b4fed4",
   "metadata": {
    "ExecuteTime": {
     "end_time": "2024-03-04T10:58:29.661638Z",
     "start_time": "2024-03-04T10:58:29.654728Z"
    }
   },
   "outputs": [],
   "source": [
    "cc_raw[\"late-ant\"] = ((cc_raw[\"not_after\"]>=250)\n",
    "                            & (cc_raw[\"not_before\"]<=450))"
   ]
  },
  {
   "cell_type": "code",
   "execution_count": 31,
   "id": "bf95a43d69fa7631",
   "metadata": {
    "ExecuteTime": {
     "end_time": "2024-03-04T11:00:15.762976Z",
     "start_time": "2024-03-04T11:00:15.753813Z"
    }
   },
   "outputs": [
    {
     "data": {
      "text/plain": [
       "author\n",
       "Augustinus Hipponensis           199\n",
       "Hieronymus Stridonensis           99\n",
       "Ambrosius Mediolanensis           53\n",
       "Ausonius Burdigalensis            45\n",
       "Hilarius Pictaviensis             26\n",
       "                                ... \n",
       "Hegesippus Ps                      1\n",
       "Grillius                           1\n",
       "Favonius Eulogius                  1\n",
       "Faustus Reiensis                   1\n",
       "Zacchaeus Christianus360-430       1\n",
       "Length: 188, dtype: int64"
      ]
     },
     "execution_count": 31,
     "metadata": {},
     "output_type": "execute_result"
    }
   ],
   "source": [
    "cc_raw[cc_raw[\"late-ant\"]].groupby(\"author\").size().sort_values(ascending=False)"
   ]
  },
  {
   "cell_type": "code",
   "execution_count": 40,
   "id": "9ac4583265fadd60",
   "metadata": {
    "ExecuteTime": {
     "end_time": "2024-03-04T11:02:59.086115Z",
     "start_time": "2024-03-04T11:02:59.062181Z"
    }
   },
   "outputs": [
    {
     "data": {
      "text/html": [
       "<div>\n",
       "<style scoped>\n",
       "    .dataframe tbody tr th:only-of-type {\n",
       "        vertical-align: middle;\n",
       "    }\n",
       "\n",
       "    .dataframe tbody tr th {\n",
       "        vertical-align: top;\n",
       "    }\n",
       "\n",
       "    .dataframe thead th {\n",
       "        text-align: right;\n",
       "    }\n",
       "</style>\n",
       "<table border=\"1\" class=\"dataframe\">\n",
       "  <thead>\n",
       "    <tr style=\"text-align: right;\">\n",
       "      <th></th>\n",
       "      <th>Unnamed: 0</th>\n",
       "      <th>title</th>\n",
       "      <th>author</th>\n",
       "      <th>year</th>\n",
       "      <th>word_count</th>\n",
       "      <th>not_before</th>\n",
       "      <th>not_after</th>\n",
       "      <th>is_earlymodern</th>\n",
       "      <th>random_dates</th>\n",
       "      <th>late-ant</th>\n",
       "    </tr>\n",
       "  </thead>\n",
       "  <tbody>\n",
       "    <tr>\n",
       "      <th>564</th>\n",
       "      <td>latin_xmls\\10558.xml</td>\n",
       "      <td>Homiliae</td>\n",
       "      <td>Radulfus Ardens-c.1200</td>\n",
       "      <td>-c.1200</td>\n",
       "      <td>388054</td>\n",
       "      <td>1200.0</td>\n",
       "      <td>1200.0</td>\n",
       "      <td>False</td>\n",
       "      <td>[1200, 1200, 1200, 1200, 1200, 1200, 1200, 120...</td>\n",
       "      <td>False</td>\n",
       "    </tr>\n",
       "    <tr>\n",
       "      <th>629</th>\n",
       "      <td>latin_xmls\\10622.xml</td>\n",
       "      <td>Homiliae et exhortationes</td>\n",
       "      <td>Anselmus Cantuariensis</td>\n",
       "      <td>1033-1109</td>\n",
       "      <td>75062</td>\n",
       "      <td>1033.0</td>\n",
       "      <td>1109.0</td>\n",
       "      <td>False</td>\n",
       "      <td>[1055, 1059, 1048, 1089, 1036, 1106, 1084, 108...</td>\n",
       "      <td>False</td>\n",
       "    </tr>\n",
       "    <tr>\n",
       "      <th>711</th>\n",
       "      <td>latin_xmls\\10703.xml</td>\n",
       "      <td>Homilia de villico iniquitatis</td>\n",
       "      <td>Odo Cameracensis-1113</td>\n",
       "      <td>-1113</td>\n",
       "      <td>4268</td>\n",
       "      <td>1113.0</td>\n",
       "      <td>1113.0</td>\n",
       "      <td>False</td>\n",
       "      <td>[1113, 1113, 1113, 1113, 1113, 1113, 1113, 111...</td>\n",
       "      <td>False</td>\n",
       "    </tr>\n",
       "    <tr>\n",
       "      <th>1054</th>\n",
       "      <td>latin_xmls\\11042.xml</td>\n",
       "      <td>Homiliae dominicales</td>\n",
       "      <td>Godefridus Admontensis-1165</td>\n",
       "      <td>-1165</td>\n",
       "      <td>507076</td>\n",
       "      <td>1165.0</td>\n",
       "      <td>1165.0</td>\n",
       "      <td>False</td>\n",
       "      <td>[1165, 1165, 1165, 1165, 1165, 1165, 1165, 116...</td>\n",
       "      <td>False</td>\n",
       "    </tr>\n",
       "    <tr>\n",
       "      <th>1055</th>\n",
       "      <td>latin_xmls\\11043.xml</td>\n",
       "      <td>Homiliae festivales</td>\n",
       "      <td>Godefridus Admontensis-1165</td>\n",
       "      <td>-1165</td>\n",
       "      <td>348548</td>\n",
       "      <td>1165.0</td>\n",
       "      <td>1165.0</td>\n",
       "      <td>False</td>\n",
       "      <td>[1165, 1165, 1165, 1165, 1165, 1165, 1165, 116...</td>\n",
       "      <td>False</td>\n",
       "    </tr>\n",
       "    <tr>\n",
       "      <th>1056</th>\n",
       "      <td>latin_xmls\\11044.xml</td>\n",
       "      <td>Homiliae in diversos locos Scripturae</td>\n",
       "      <td>Godefridus Admontensis-1165</td>\n",
       "      <td>-1165</td>\n",
       "      <td>61134</td>\n",
       "      <td>1165.0</td>\n",
       "      <td>1165.0</td>\n",
       "      <td>False</td>\n",
       "      <td>[1165, 1165, 1165, 1165, 1165, 1165, 1165, 116...</td>\n",
       "      <td>False</td>\n",
       "    </tr>\n",
       "    <tr>\n",
       "      <th>1077</th>\n",
       "      <td>latin_xmls\\11065.xml</td>\n",
       "      <td>Homiliae in Ecclesiasten</td>\n",
       "      <td>Hugo de S. Victore</td>\n",
       "      <td>-1141</td>\n",
       "      <td>123390</td>\n",
       "      <td>1141.0</td>\n",
       "      <td>1141.0</td>\n",
       "      <td>False</td>\n",
       "      <td>[1141, 1141, 1141, 1141, 1141, 1141, 1141, 114...</td>\n",
       "      <td>False</td>\n",
       "    </tr>\n",
       "    <tr>\n",
       "      <th>1398</th>\n",
       "      <td>latin_xmls\\11383.xml</td>\n",
       "      <td>Homiliae de Maria Virginea Matre</td>\n",
       "      <td>Amedeus Lausannensis1144-1159</td>\n",
       "      <td>1144-1159</td>\n",
       "      <td>35440</td>\n",
       "      <td>1144.0</td>\n",
       "      <td>1159.0</td>\n",
       "      <td>False</td>\n",
       "      <td>[1144, 1147, 1156, 1149, 1147, 1149, 1150, 115...</td>\n",
       "      <td>False</td>\n",
       "    </tr>\n",
       "    <tr>\n",
       "      <th>1462</th>\n",
       "      <td>latin_xmls\\11446.xml</td>\n",
       "      <td>Homilia de natalitio martyris die</td>\n",
       "      <td>Herbertus de Boseham-1186</td>\n",
       "      <td>-1186</td>\n",
       "      <td>7956</td>\n",
       "      <td>1186.0</td>\n",
       "      <td>1186.0</td>\n",
       "      <td>False</td>\n",
       "      <td>[1186, 1186, 1186, 1186, 1186, 1186, 1186, 118...</td>\n",
       "      <td>False</td>\n",
       "    </tr>\n",
       "    <tr>\n",
       "      <th>3540</th>\n",
       "      <td>latin_xmls\\16830.xml</td>\n",
       "      <td>Homiliae</td>\n",
       "      <td>Alcimus Avitus</td>\n",
       "      <td>ca.450-518</td>\n",
       "      <td>57140</td>\n",
       "      <td>450.0</td>\n",
       "      <td>518.0</td>\n",
       "      <td>True</td>\n",
       "      <td>[499, 489, 518, 465, 469, 484, 460, 471, 469, ...</td>\n",
       "      <td>True</td>\n",
       "    </tr>\n",
       "    <tr>\n",
       "      <th>4476</th>\n",
       "      <td>latin_xmls\\21411.xml</td>\n",
       "      <td>Homiliae</td>\n",
       "      <td>Bruno Astensis1047–1123</td>\n",
       "      <td>1047–1123</td>\n",
       "      <td>146456</td>\n",
       "      <td>1047.0</td>\n",
       "      <td>1123.0</td>\n",
       "      <td>False</td>\n",
       "      <td>[1069, 1095, 1049, 1072, 1072, 1050, 1081, 105...</td>\n",
       "      <td>False</td>\n",
       "    </tr>\n",
       "    <tr>\n",
       "      <th>4477</th>\n",
       "      <td>latin_xmls\\21412.xml</td>\n",
       "      <td>Homiliae in Ezechielem</td>\n",
       "      <td>Gregorius I540-604</td>\n",
       "      <td>540-604</td>\n",
       "      <td>335500</td>\n",
       "      <td>540.0</td>\n",
       "      <td>604.0</td>\n",
       "      <td>False</td>\n",
       "      <td>[581, 542, 545, 548, 558, 571, 576, 588, 561, ...</td>\n",
       "      <td>False</td>\n",
       "    </tr>\n",
       "    <tr>\n",
       "      <th>4972</th>\n",
       "      <td>latin_xmls\\7182.xml</td>\n",
       "      <td>Translatio Homiliarum in Jeremiam et Ezechielem</td>\n",
       "      <td>Origenes; Hieronymus Stridonensis340-420</td>\n",
       "      <td>340-420</td>\n",
       "      <td>153676</td>\n",
       "      <td>340.0</td>\n",
       "      <td>420.0</td>\n",
       "      <td>True</td>\n",
       "      <td>[376, 378, 387, 387, 376, 401, 387, 350, 409, ...</td>\n",
       "      <td>True</td>\n",
       "    </tr>\n",
       "    <tr>\n",
       "      <th>4982</th>\n",
       "      <td>latin_xmls\\7192.xml</td>\n",
       "      <td>Translatio XXXIX Homiliarum</td>\n",
       "      <td>Origenes; Hieronymus Stridonensis340-420</td>\n",
       "      <td>340-420</td>\n",
       "      <td>65836</td>\n",
       "      <td>340.0</td>\n",
       "      <td>420.0</td>\n",
       "      <td>True</td>\n",
       "      <td>[371, 342, 372, 408, 407, 400, 350, 378, 377, ...</td>\n",
       "      <td>True</td>\n",
       "    </tr>\n",
       "    <tr>\n",
       "      <th>5055</th>\n",
       "      <td>latin_xmls\\7264.xml</td>\n",
       "      <td>Homilia ad monachos</td>\n",
       "      <td>Auctor incertus</td>\n",
       "      <td>NaN</td>\n",
       "      <td>6182</td>\n",
       "      <td>NaN</td>\n",
       "      <td>NaN</td>\n",
       "      <td>False</td>\n",
       "      <td>None</td>\n",
       "      <td>False</td>\n",
       "    </tr>\n",
       "    <tr>\n",
       "      <th>5305</th>\n",
       "      <td>latin_xmls\\7511.xml</td>\n",
       "      <td>Homilia in Dominica II Adventus</td>\n",
       "      <td>Augustinus Hipponensis</td>\n",
       "      <td>354-430</td>\n",
       "      <td>1918</td>\n",
       "      <td>354.0</td>\n",
       "      <td>430.0</td>\n",
       "      <td>True</td>\n",
       "      <td>[372, 398, 368, 390, 376, 365, 367, 429, 419, ...</td>\n",
       "      <td>True</td>\n",
       "    </tr>\n",
       "    <tr>\n",
       "      <th>5344</th>\n",
       "      <td>latin_xmls\\7550.xml</td>\n",
       "      <td>Homiliae</td>\n",
       "      <td>Eucherius Lugdunensisc.380–c.449</td>\n",
       "      <td>c.380–c.449</td>\n",
       "      <td>26772</td>\n",
       "      <td>380.0</td>\n",
       "      <td>449.0</td>\n",
       "      <td>True</td>\n",
       "      <td>[385, 388, 423, 416, 439, 427, 383, 400, 419, ...</td>\n",
       "      <td>True</td>\n",
       "    </tr>\n",
       "    <tr>\n",
       "      <th>5393</th>\n",
       "      <td>latin_xmls\\7599.xml</td>\n",
       "      <td>Homiliae</td>\n",
       "      <td>Valerianus Cemeliensisfl.450</td>\n",
       "      <td>fl.450</td>\n",
       "      <td>78431</td>\n",
       "      <td>450.0</td>\n",
       "      <td>450.0</td>\n",
       "      <td>True</td>\n",
       "      <td>[450, 450, 450, 450, 450, 450, 450, 450, 450, ...</td>\n",
       "      <td>True</td>\n",
       "    </tr>\n",
       "    <tr>\n",
       "      <th>5442</th>\n",
       "      <td>latin_xmls\\7647.xml</td>\n",
       "      <td>Homiliae</td>\n",
       "      <td>Auctor incertus (Maximus Taurinensis?)</td>\n",
       "      <td>NaN</td>\n",
       "      <td>5758</td>\n",
       "      <td>NaN</td>\n",
       "      <td>NaN</td>\n",
       "      <td>False</td>\n",
       "      <td>None</td>\n",
       "      <td>False</td>\n",
       "    </tr>\n",
       "    <tr>\n",
       "      <th>5447</th>\n",
       "      <td>latin_xmls\\7652.xml</td>\n",
       "      <td>Homiliae</td>\n",
       "      <td>Maximus Taurinensis-c.420</td>\n",
       "      <td>-c.420</td>\n",
       "      <td>311541</td>\n",
       "      <td>420.0</td>\n",
       "      <td>420.0</td>\n",
       "      <td>True</td>\n",
       "      <td>[420, 420, 420, 420, 420, 420, 420, 420, 420, ...</td>\n",
       "      <td>True</td>\n",
       "    </tr>\n",
       "    <tr>\n",
       "      <th>5452</th>\n",
       "      <td>latin_xmls\\7657.xml</td>\n",
       "      <td>Homilia</td>\n",
       "      <td>Auctor incertus (Victor Vitensis?)</td>\n",
       "      <td>NaN</td>\n",
       "      <td>1135</td>\n",
       "      <td>NaN</td>\n",
       "      <td>NaN</td>\n",
       "      <td>False</td>\n",
       "      <td>None</td>\n",
       "      <td>False</td>\n",
       "    </tr>\n",
       "    <tr>\n",
       "      <th>5487</th>\n",
       "      <td>latin_xmls\\7692.xml</td>\n",
       "      <td>Homilia de rogationibus</td>\n",
       "      <td>Avitus Viennensis460-518</td>\n",
       "      <td>460-518</td>\n",
       "      <td>3002</td>\n",
       "      <td>460.0</td>\n",
       "      <td>518.0</td>\n",
       "      <td>False</td>\n",
       "      <td>[492, 467, 462, 470, 463, 487, 490, 462, 462, ...</td>\n",
       "      <td>False</td>\n",
       "    </tr>\n",
       "    <tr>\n",
       "      <th>5490</th>\n",
       "      <td>latin_xmls\\7695.xml</td>\n",
       "      <td>Homilia de passione Domini</td>\n",
       "      <td>Faustinusfl.368-384</td>\n",
       "      <td>fl.368-384</td>\n",
       "      <td>1974</td>\n",
       "      <td>368.0</td>\n",
       "      <td>384.0</td>\n",
       "      <td>True</td>\n",
       "      <td>[384, 381, 374, 377, 380, 382, 382, 374, 382, ...</td>\n",
       "      <td>True</td>\n",
       "    </tr>\n",
       "    <tr>\n",
       "      <th>5634</th>\n",
       "      <td>latin_xmls\\7837.xml</td>\n",
       "      <td>Homiliae</td>\n",
       "      <td>Laurentius Novariensis</td>\n",
       "      <td>fl. 540</td>\n",
       "      <td>31900</td>\n",
       "      <td>540.0</td>\n",
       "      <td>540.0</td>\n",
       "      <td>False</td>\n",
       "      <td>[540, 540, 540, 540, 540, 540, 540, 540, 540, ...</td>\n",
       "      <td>False</td>\n",
       "    </tr>\n",
       "    <tr>\n",
       "      <th>5766</th>\n",
       "      <td>latin_xmls\\7969.xml</td>\n",
       "      <td>Homilia in laudem ecclesiae</td>\n",
       "      <td>Leandrus Hispalensis</td>\n",
       "      <td>NaN</td>\n",
       "      <td>2980</td>\n",
       "      <td>NaN</td>\n",
       "      <td>NaN</td>\n",
       "      <td>False</td>\n",
       "      <td>None</td>\n",
       "      <td>False</td>\n",
       "    </tr>\n",
       "    <tr>\n",
       "      <th>5784</th>\n",
       "      <td>latin_xmls\\7987.xml</td>\n",
       "      <td>Homilia de epiphania</td>\n",
       "      <td>Sedatus Bitterensis</td>\n",
       "      <td>NaN</td>\n",
       "      <td>2424</td>\n",
       "      <td>NaN</td>\n",
       "      <td>NaN</td>\n",
       "      <td>False</td>\n",
       "      <td>None</td>\n",
       "      <td>False</td>\n",
       "    </tr>\n",
       "    <tr>\n",
       "      <th>5852</th>\n",
       "      <td>latin_xmls\\8053.xml</td>\n",
       "      <td>Homiliae in Evangelia</td>\n",
       "      <td>Gregorius I</td>\n",
       "      <td>540-604</td>\n",
       "      <td>266846</td>\n",
       "      <td>540.0</td>\n",
       "      <td>604.0</td>\n",
       "      <td>False</td>\n",
       "      <td>[552, 590, 562, 554, 568, 591, 565, 570, 584, ...</td>\n",
       "      <td>False</td>\n",
       "    </tr>\n",
       "    <tr>\n",
       "      <th>6075</th>\n",
       "      <td>latin_xmls\\8274.xml</td>\n",
       "      <td>Homiliae</td>\n",
       "      <td>Eligius Noviomensis</td>\n",
       "      <td>fl. 659</td>\n",
       "      <td>52480</td>\n",
       "      <td>659.0</td>\n",
       "      <td>659.0</td>\n",
       "      <td>False</td>\n",
       "      <td>[659, 659, 659, 659, 659, 659, 659, 659, 659, ...</td>\n",
       "      <td>False</td>\n",
       "    </tr>\n",
       "    <tr>\n",
       "      <th>6151</th>\n",
       "      <td>latin_xmls\\8349.xml</td>\n",
       "      <td>Homilia in transfiguratione Domini</td>\n",
       "      <td>Ambrosius Autpertus</td>\n",
       "      <td>NaN</td>\n",
       "      <td>19056</td>\n",
       "      <td>NaN</td>\n",
       "      <td>NaN</td>\n",
       "      <td>False</td>\n",
       "      <td>None</td>\n",
       "      <td>False</td>\n",
       "    </tr>\n",
       "    <tr>\n",
       "      <th>6313</th>\n",
       "      <td>latin_xmls\\8509.xml</td>\n",
       "      <td>Homiliae</td>\n",
       "      <td>Beda</td>\n",
       "      <td>672-735</td>\n",
       "      <td>484528</td>\n",
       "      <td>672.0</td>\n",
       "      <td>735.0</td>\n",
       "      <td>False</td>\n",
       "      <td>[677, 707, 716, 685, 701, 704, 702, 692, 698, ...</td>\n",
       "      <td>False</td>\n",
       "    </tr>\n",
       "    <tr>\n",
       "      <th>6329</th>\n",
       "      <td>latin_xmls\\8525.xml</td>\n",
       "      <td>Homiliae de Sanctis</td>\n",
       "      <td>Auctores varii</td>\n",
       "      <td>NaN</td>\n",
       "      <td>90662</td>\n",
       "      <td>NaN</td>\n",
       "      <td>NaN</td>\n",
       "      <td>False</td>\n",
       "      <td>None</td>\n",
       "      <td>False</td>\n",
       "    </tr>\n",
       "    <tr>\n",
       "      <th>6330</th>\n",
       "      <td>latin_xmls\\8526.xml</td>\n",
       "      <td>Homiliae de tempore</td>\n",
       "      <td>Auctores varii</td>\n",
       "      <td>NaN</td>\n",
       "      <td>250700</td>\n",
       "      <td>NaN</td>\n",
       "      <td>NaN</td>\n",
       "      <td>False</td>\n",
       "      <td>None</td>\n",
       "      <td>False</td>\n",
       "    </tr>\n",
       "    <tr>\n",
       "      <th>6340</th>\n",
       "      <td>latin_xmls\\8536.xml</td>\n",
       "      <td>Homiliae</td>\n",
       "      <td>Paulus Vinfridusc.725-c.799</td>\n",
       "      <td>c.725-c.799</td>\n",
       "      <td>15172</td>\n",
       "      <td>725.0</td>\n",
       "      <td>799.0</td>\n",
       "      <td>False</td>\n",
       "      <td>[745, 762, 774, 736, 777, 745, 791, 780, 732, ...</td>\n",
       "      <td>False</td>\n",
       "    </tr>\n",
       "    <tr>\n",
       "      <th>6522</th>\n",
       "      <td>latin_xmls\\8716.xml</td>\n",
       "      <td>Homiliae</td>\n",
       "      <td>Auctor incertus (Alcuinus?)</td>\n",
       "      <td>NaN</td>\n",
       "      <td>8256</td>\n",
       "      <td>NaN</td>\n",
       "      <td>NaN</td>\n",
       "      <td>False</td>\n",
       "      <td>None</td>\n",
       "      <td>False</td>\n",
       "    </tr>\n",
       "    <tr>\n",
       "      <th>6721</th>\n",
       "      <td>latin_xmls\\8913.xml</td>\n",
       "      <td>Homiliae</td>\n",
       "      <td>Rabanus Maurus</td>\n",
       "      <td>780-856</td>\n",
       "      <td>381836</td>\n",
       "      <td>780.0</td>\n",
       "      <td>856.0</td>\n",
       "      <td>False</td>\n",
       "      <td>[815, 846, 811, 851, 832, 815, 816, 795, 792, ...</td>\n",
       "      <td>False</td>\n",
       "    </tr>\n",
       "    <tr>\n",
       "      <th>6829</th>\n",
       "      <td>latin_xmls\\9019.xml</td>\n",
       "      <td>Homilia in initium Evangelii S. Matthaei</td>\n",
       "      <td>Walafridus Strabo</td>\n",
       "      <td>808-849</td>\n",
       "      <td>8298</td>\n",
       "      <td>808.0</td>\n",
       "      <td>849.0</td>\n",
       "      <td>False</td>\n",
       "      <td>[827, 815, 808, 809, 816, 846, 818, 842, 822, ...</td>\n",
       "      <td>False</td>\n",
       "    </tr>\n",
       "    <tr>\n",
       "      <th>6858</th>\n",
       "      <td>latin_xmls\\9048.xml</td>\n",
       "      <td>Homilia</td>\n",
       "      <td>Leo IV</td>\n",
       "      <td>NaN</td>\n",
       "      <td>7614</td>\n",
       "      <td>NaN</td>\n",
       "      <td>NaN</td>\n",
       "      <td>False</td>\n",
       "      <td>None</td>\n",
       "      <td>False</td>\n",
       "    </tr>\n",
       "    <tr>\n",
       "      <th>6896</th>\n",
       "      <td>latin_xmls\\9086.xml</td>\n",
       "      <td>Homiliae</td>\n",
       "      <td>Haymo Halberstatensis</td>\n",
       "      <td>-853</td>\n",
       "      <td>704436</td>\n",
       "      <td>853.0</td>\n",
       "      <td>853.0</td>\n",
       "      <td>False</td>\n",
       "      <td>[853, 853, 853, 853, 853, 853, 853, 853, 853, ...</td>\n",
       "      <td>False</td>\n",
       "    </tr>\n",
       "    <tr>\n",
       "      <th>6912</th>\n",
       "      <td>latin_xmls\\9101.xml</td>\n",
       "      <td>Homiliae in solemnitate S. Wigberti</td>\n",
       "      <td>Lupus Ferrariensisc.805-c.862</td>\n",
       "      <td>c.805-c.862</td>\n",
       "      <td>3894</td>\n",
       "      <td>805.0</td>\n",
       "      <td>862.0</td>\n",
       "      <td>False</td>\n",
       "      <td>[811, 842, 813, 816, 859, 840, 858, 824, 826, ...</td>\n",
       "      <td>False</td>\n",
       "    </tr>\n",
       "    <tr>\n",
       "      <th>6993</th>\n",
       "      <td>latin_xmls\\9182.xml</td>\n",
       "      <td>Homilia in prologum Evangelii secundum Joannem</td>\n",
       "      <td>Joannes Scotus Erigena</td>\n",
       "      <td>810-877</td>\n",
       "      <td>10842</td>\n",
       "      <td>810.0</td>\n",
       "      <td>877.0</td>\n",
       "      <td>False</td>\n",
       "      <td>[815, 828, 853, 840, 876, 820, 864, 841, 816, ...</td>\n",
       "      <td>False</td>\n",
       "    </tr>\n",
       "    <tr>\n",
       "      <th>7110</th>\n",
       "      <td>latin_xmls\\9298.xml</td>\n",
       "      <td>Homilia de decimis et de jejunio</td>\n",
       "      <td>Auctor incertus</td>\n",
       "      <td>NaN</td>\n",
       "      <td>954</td>\n",
       "      <td>NaN</td>\n",
       "      <td>NaN</td>\n",
       "      <td>False</td>\n",
       "      <td>None</td>\n",
       "      <td>False</td>\n",
       "    </tr>\n",
       "    <tr>\n",
       "      <th>7163</th>\n",
       "      <td>latin_xmls\\9350.xml</td>\n",
       "      <td>Homiliae</td>\n",
       "      <td>Remigius Antissiodorensisc.841–908</td>\n",
       "      <td>c.841–908</td>\n",
       "      <td>57716</td>\n",
       "      <td>841.0</td>\n",
       "      <td>908.0</td>\n",
       "      <td>False</td>\n",
       "      <td>[853, 847, 855, 904, 867, 906, 870, 905, 849, ...</td>\n",
       "      <td>False</td>\n",
       "    </tr>\n",
       "    <tr>\n",
       "      <th>7324</th>\n",
       "      <td>latin_xmls\\9509.xml</td>\n",
       "      <td>Homilia in natale S. Alexi confessoris</td>\n",
       "      <td>Adalbertus Pragensis956-996</td>\n",
       "      <td>956-996</td>\n",
       "      <td>1726</td>\n",
       "      <td>956.0</td>\n",
       "      <td>996.0</td>\n",
       "      <td>False</td>\n",
       "      <td>[978, 995, 977, 988, 983, 976, 974, 987, 966, ...</td>\n",
       "      <td>False</td>\n",
       "    </tr>\n",
       "    <tr>\n",
       "      <th>7665</th>\n",
       "      <td>latin_xmls\\9847.xml</td>\n",
       "      <td>Homilia de octo beatitudinibus et S. Emmerammo.</td>\n",
       "      <td>Arnoldus Emmerammensis</td>\n",
       "      <td>NaN</td>\n",
       "      <td>3342</td>\n",
       "      <td>NaN</td>\n",
       "      <td>NaN</td>\n",
       "      <td>False</td>\n",
       "      <td>None</td>\n",
       "      <td>False</td>\n",
       "    </tr>\n",
       "  </tbody>\n",
       "</table>\n",
       "</div>"
      ],
      "text/plain": [
       "                Unnamed: 0                                            title  \\\n",
       "564   latin_xmls\\10558.xml                                         Homiliae   \n",
       "629   latin_xmls\\10622.xml                        Homiliae et exhortationes   \n",
       "711   latin_xmls\\10703.xml                   Homilia de villico iniquitatis   \n",
       "1054  latin_xmls\\11042.xml                             Homiliae dominicales   \n",
       "1055  latin_xmls\\11043.xml                              Homiliae festivales   \n",
       "1056  latin_xmls\\11044.xml            Homiliae in diversos locos Scripturae   \n",
       "1077  latin_xmls\\11065.xml                         Homiliae in Ecclesiasten   \n",
       "1398  latin_xmls\\11383.xml                 Homiliae de Maria Virginea Matre   \n",
       "1462  latin_xmls\\11446.xml                Homilia de natalitio martyris die   \n",
       "3540  latin_xmls\\16830.xml                                         Homiliae   \n",
       "4476  latin_xmls\\21411.xml                                         Homiliae   \n",
       "4477  latin_xmls\\21412.xml                           Homiliae in Ezechielem   \n",
       "4972   latin_xmls\\7182.xml  Translatio Homiliarum in Jeremiam et Ezechielem   \n",
       "4982   latin_xmls\\7192.xml                      Translatio XXXIX Homiliarum   \n",
       "5055   latin_xmls\\7264.xml                              Homilia ad monachos   \n",
       "5305   latin_xmls\\7511.xml                  Homilia in Dominica II Adventus   \n",
       "5344   latin_xmls\\7550.xml                                         Homiliae   \n",
       "5393   latin_xmls\\7599.xml                                         Homiliae   \n",
       "5442   latin_xmls\\7647.xml                                         Homiliae   \n",
       "5447   latin_xmls\\7652.xml                                         Homiliae   \n",
       "5452   latin_xmls\\7657.xml                                          Homilia   \n",
       "5487   latin_xmls\\7692.xml                          Homilia de rogationibus   \n",
       "5490   latin_xmls\\7695.xml                       Homilia de passione Domini   \n",
       "5634   latin_xmls\\7837.xml                                         Homiliae   \n",
       "5766   latin_xmls\\7969.xml                      Homilia in laudem ecclesiae   \n",
       "5784   latin_xmls\\7987.xml                             Homilia de epiphania   \n",
       "5852   latin_xmls\\8053.xml                            Homiliae in Evangelia   \n",
       "6075   latin_xmls\\8274.xml                                         Homiliae   \n",
       "6151   latin_xmls\\8349.xml               Homilia in transfiguratione Domini   \n",
       "6313   latin_xmls\\8509.xml                                         Homiliae   \n",
       "6329   latin_xmls\\8525.xml                              Homiliae de Sanctis   \n",
       "6330   latin_xmls\\8526.xml                              Homiliae de tempore   \n",
       "6340   latin_xmls\\8536.xml                                         Homiliae   \n",
       "6522   latin_xmls\\8716.xml                                         Homiliae   \n",
       "6721   latin_xmls\\8913.xml                                         Homiliae   \n",
       "6829   latin_xmls\\9019.xml         Homilia in initium Evangelii S. Matthaei   \n",
       "6858   latin_xmls\\9048.xml                                          Homilia   \n",
       "6896   latin_xmls\\9086.xml                                         Homiliae   \n",
       "6912   latin_xmls\\9101.xml              Homiliae in solemnitate S. Wigberti   \n",
       "6993   latin_xmls\\9182.xml   Homilia in prologum Evangelii secundum Joannem   \n",
       "7110   latin_xmls\\9298.xml                 Homilia de decimis et de jejunio   \n",
       "7163   latin_xmls\\9350.xml                                         Homiliae   \n",
       "7324   latin_xmls\\9509.xml           Homilia in natale S. Alexi confessoris   \n",
       "7665   latin_xmls\\9847.xml  Homilia de octo beatitudinibus et S. Emmerammo.   \n",
       "\n",
       "                                         author         year  word_count  \\\n",
       "564                     Radulfus Ardens-c.1200       -c.1200      388054   \n",
       "629                      Anselmus Cantuariensis    1033-1109       75062   \n",
       "711                      Odo Cameracensis-1113         -1113        4268   \n",
       "1054               Godefridus Admontensis-1165         -1165      507076   \n",
       "1055               Godefridus Admontensis-1165         -1165      348548   \n",
       "1056               Godefridus Admontensis-1165         -1165       61134   \n",
       "1077                         Hugo de S. Victore        -1141      123390   \n",
       "1398             Amedeus Lausannensis1144-1159     1144-1159       35440   \n",
       "1462                 Herbertus de Boseham-1186         -1186        7956   \n",
       "3540                             Alcimus Avitus   ca.450-518       57140   \n",
       "4476                   Bruno Astensis1047–1123     1047–1123      146456   \n",
       "4477                        Gregorius I540-604       540-604      335500   \n",
       "4972  Origenes; Hieronymus Stridonensis340-420       340-420      153676   \n",
       "4982  Origenes; Hieronymus Stridonensis340-420       340-420       65836   \n",
       "5055                           Auctor incertus           NaN        6182   \n",
       "5305                     Augustinus Hipponensis      354-430        1918   \n",
       "5344          Eucherius Lugdunensisc.380–c.449   c.380–c.449       26772   \n",
       "5393              Valerianus Cemeliensisfl.450        fl.450       78431   \n",
       "5442    Auctor incertus (Maximus Taurinensis?)           NaN        5758   \n",
       "5447                 Maximus Taurinensis-c.420        -c.420      311541   \n",
       "5452        Auctor incertus (Victor Vitensis?)           NaN        1135   \n",
       "5487                  Avitus Viennensis460-518       460-518        3002   \n",
       "5490                       Faustinusfl.368-384    fl.368-384        1974   \n",
       "5634                     Laurentius Novariensis      fl. 540       31900   \n",
       "5766                      Leandrus Hispalensis           NaN        2980   \n",
       "5784                       Sedatus Bitterensis           NaN        2424   \n",
       "5852                                Gregorius I      540-604      266846   \n",
       "6075                        Eligius Noviomensis      fl. 659       52480   \n",
       "6151                       Ambrosius Autpertus           NaN       19056   \n",
       "6313                                       Beda      672-735      484528   \n",
       "6329                            Auctores varii           NaN       90662   \n",
       "6330                            Auctores varii           NaN      250700   \n",
       "6340               Paulus Vinfridusc.725-c.799   c.725-c.799       15172   \n",
       "6522               Auctor incertus (Alcuinus?)           NaN        8256   \n",
       "6721                             Rabanus Maurus      780-856      381836   \n",
       "6829                          Walafridus Strabo      808-849        8298   \n",
       "6858                                    Leo IV           NaN        7614   \n",
       "6896                      Haymo Halberstatensis         -853      704436   \n",
       "6912             Lupus Ferrariensisc.805-c.862   c.805-c.862        3894   \n",
       "6993                     Joannes Scotus Erigena      810-877       10842   \n",
       "7110                           Auctor incertus           NaN         954   \n",
       "7163        Remigius Antissiodorensisc.841–908     c.841–908       57716   \n",
       "7324               Adalbertus Pragensis956-996       956-996        1726   \n",
       "7665                    Arnoldus Emmerammensis           NaN        3342   \n",
       "\n",
       "      not_before  not_after  is_earlymodern  \\\n",
       "564       1200.0     1200.0           False   \n",
       "629       1033.0     1109.0           False   \n",
       "711       1113.0     1113.0           False   \n",
       "1054      1165.0     1165.0           False   \n",
       "1055      1165.0     1165.0           False   \n",
       "1056      1165.0     1165.0           False   \n",
       "1077      1141.0     1141.0           False   \n",
       "1398      1144.0     1159.0           False   \n",
       "1462      1186.0     1186.0           False   \n",
       "3540       450.0      518.0            True   \n",
       "4476      1047.0     1123.0           False   \n",
       "4477       540.0      604.0           False   \n",
       "4972       340.0      420.0            True   \n",
       "4982       340.0      420.0            True   \n",
       "5055         NaN        NaN           False   \n",
       "5305       354.0      430.0            True   \n",
       "5344       380.0      449.0            True   \n",
       "5393       450.0      450.0            True   \n",
       "5442         NaN        NaN           False   \n",
       "5447       420.0      420.0            True   \n",
       "5452         NaN        NaN           False   \n",
       "5487       460.0      518.0           False   \n",
       "5490       368.0      384.0            True   \n",
       "5634       540.0      540.0           False   \n",
       "5766         NaN        NaN           False   \n",
       "5784         NaN        NaN           False   \n",
       "5852       540.0      604.0           False   \n",
       "6075       659.0      659.0           False   \n",
       "6151         NaN        NaN           False   \n",
       "6313       672.0      735.0           False   \n",
       "6329         NaN        NaN           False   \n",
       "6330         NaN        NaN           False   \n",
       "6340       725.0      799.0           False   \n",
       "6522         NaN        NaN           False   \n",
       "6721       780.0      856.0           False   \n",
       "6829       808.0      849.0           False   \n",
       "6858         NaN        NaN           False   \n",
       "6896       853.0      853.0           False   \n",
       "6912       805.0      862.0           False   \n",
       "6993       810.0      877.0           False   \n",
       "7110         NaN        NaN           False   \n",
       "7163       841.0      908.0           False   \n",
       "7324       956.0      996.0           False   \n",
       "7665         NaN        NaN           False   \n",
       "\n",
       "                                           random_dates  late-ant  \n",
       "564   [1200, 1200, 1200, 1200, 1200, 1200, 1200, 120...     False  \n",
       "629   [1055, 1059, 1048, 1089, 1036, 1106, 1084, 108...     False  \n",
       "711   [1113, 1113, 1113, 1113, 1113, 1113, 1113, 111...     False  \n",
       "1054  [1165, 1165, 1165, 1165, 1165, 1165, 1165, 116...     False  \n",
       "1055  [1165, 1165, 1165, 1165, 1165, 1165, 1165, 116...     False  \n",
       "1056  [1165, 1165, 1165, 1165, 1165, 1165, 1165, 116...     False  \n",
       "1077  [1141, 1141, 1141, 1141, 1141, 1141, 1141, 114...     False  \n",
       "1398  [1144, 1147, 1156, 1149, 1147, 1149, 1150, 115...     False  \n",
       "1462  [1186, 1186, 1186, 1186, 1186, 1186, 1186, 118...     False  \n",
       "3540  [499, 489, 518, 465, 469, 484, 460, 471, 469, ...      True  \n",
       "4476  [1069, 1095, 1049, 1072, 1072, 1050, 1081, 105...     False  \n",
       "4477  [581, 542, 545, 548, 558, 571, 576, 588, 561, ...     False  \n",
       "4972  [376, 378, 387, 387, 376, 401, 387, 350, 409, ...      True  \n",
       "4982  [371, 342, 372, 408, 407, 400, 350, 378, 377, ...      True  \n",
       "5055                                               None     False  \n",
       "5305  [372, 398, 368, 390, 376, 365, 367, 429, 419, ...      True  \n",
       "5344  [385, 388, 423, 416, 439, 427, 383, 400, 419, ...      True  \n",
       "5393  [450, 450, 450, 450, 450, 450, 450, 450, 450, ...      True  \n",
       "5442                                               None     False  \n",
       "5447  [420, 420, 420, 420, 420, 420, 420, 420, 420, ...      True  \n",
       "5452                                               None     False  \n",
       "5487  [492, 467, 462, 470, 463, 487, 490, 462, 462, ...     False  \n",
       "5490  [384, 381, 374, 377, 380, 382, 382, 374, 382, ...      True  \n",
       "5634  [540, 540, 540, 540, 540, 540, 540, 540, 540, ...     False  \n",
       "5766                                               None     False  \n",
       "5784                                               None     False  \n",
       "5852  [552, 590, 562, 554, 568, 591, 565, 570, 584, ...     False  \n",
       "6075  [659, 659, 659, 659, 659, 659, 659, 659, 659, ...     False  \n",
       "6151                                               None     False  \n",
       "6313  [677, 707, 716, 685, 701, 704, 702, 692, 698, ...     False  \n",
       "6329                                               None     False  \n",
       "6330                                               None     False  \n",
       "6340  [745, 762, 774, 736, 777, 745, 791, 780, 732, ...     False  \n",
       "6522                                               None     False  \n",
       "6721  [815, 846, 811, 851, 832, 815, 816, 795, 792, ...     False  \n",
       "6829  [827, 815, 808, 809, 816, 846, 818, 842, 822, ...     False  \n",
       "6858                                               None     False  \n",
       "6896  [853, 853, 853, 853, 853, 853, 853, 853, 853, ...     False  \n",
       "6912  [811, 842, 813, 816, 859, 840, 858, 824, 826, ...     False  \n",
       "6993  [815, 828, 853, 840, 876, 820, 864, 841, 816, ...     False  \n",
       "7110                                               None     False  \n",
       "7163  [853, 847, 855, 904, 867, 906, 870, 905, 849, ...     False  \n",
       "7324  [978, 995, 977, 988, 983, 976, 974, 987, 966, ...     False  \n",
       "7665                                               None     False  "
      ]
     },
     "execution_count": 40,
     "metadata": {},
     "output_type": "execute_result"
    }
   ],
   "source": [
    "cc_raw[cc_raw[\"title\"].str.contains(\"Homili\")]"
   ]
  },
  {
   "cell_type": "code",
   "execution_count": 22,
   "id": "a07e00f4b1764267",
   "metadata": {
    "ExecuteTime": {
     "end_time": "2024-03-04T10:57:51.970895Z",
     "start_time": "2024-03-04T10:57:51.965997Z"
    },
    "collapsed": false,
    "jupyter": {
     "outputs_hidden": false
    }
   },
   "outputs": [
    {
     "data": {
      "text/plain": [
       "[((-200, -151), 301448),\n",
       " ((-150, -101), 48746),\n",
       " ((-100, -51), 5083713),\n",
       " ((-50, -1), 4316579),\n",
       " ((1, 50), 3474897),\n",
       " ((51, 100), 2327542),\n",
       " ((101, 150), 694991),\n",
       " ((151, 200), 2012929),\n",
       " ((201, 250), 2647487),\n",
       " ((251, 300), 3622931),\n",
       " ((301, 350), 6528018),\n",
       " ((351, 400), 42257017),\n",
       " ((401, 450), 22794014),\n",
       " ((451, 500), 9206354),\n",
       " ((501, 550), 8978426),\n",
       " ((551, 600), 10320938),\n",
       " ((601, 650), 2417805),\n",
       " ((651, 700), 3274005),\n",
       " ((701, 750), 4095932),\n",
       " ((751, 800), 6701073),\n",
       " ((801, 850), 16228254),\n",
       " ((851, 900), 9967806),\n",
       " ((901, 950), 3092321),\n",
       " ((951, 1000), 3537632),\n",
       " ((1001, 1050), 6404099),\n",
       " ((1051, 1100), 21837059),\n",
       " ((1101, 1150), 41558422),\n",
       " ((1151, 1200), 21878256),\n",
       " ((1201, 1250), 27728057),\n",
       " ((1251, 1300), 25142327),\n",
       " ((1301, 1350), 8765904),\n",
       " ((1351, 1400), 8328090),\n",
       " ((1401, 1450), 2878127),\n",
       " ((1451, 1500), 9611674),\n",
       " ((1501, 1550), 8071808),\n",
       " ((1551, 1600), 24637600),\n",
       " ((1601, 1650), 13108677),\n",
       " ((1651, 1700), 3833412),\n",
       " ((1701, 1750), 3102426),\n",
       " ((1751, 1800), 1762219),\n",
       " ((1801, 1850), 791430),\n",
       " ((1851, 1900), 53318)]"
      ]
     },
     "execution_count": 22,
     "metadata": {},
     "output_type": "execute_result"
    }
   ],
   "source": [
    "wordcounts_data[0]"
   ]
  },
  {
   "cell_type": "code",
   "execution_count": 23,
   "id": "a5d9f17ce9e0fd12",
   "metadata": {
    "ExecuteTime": {
     "end_time": "2024-03-04T10:57:52.334586Z",
     "start_time": "2024-03-04T10:57:51.973667Z"
    },
    "collapsed": false,
    "jupyter": {
     "outputs_hidden": false
    }
   },
   "outputs": [
    {
     "data": {
      "text/plain": [
       "[Text(0, 10000000, '10M'),\n",
       " Text(0, 20000000, '20M'),\n",
       " Text(0, 30000000, '30M'),\n",
       " Text(0, 40000000, '40M'),\n",
       " Text(0, 50000000, '50M')]"
      ]
     },
     "execution_count": 23,
     "metadata": {},
     "output_type": "execute_result"
    },
    {
     "data": {
      "image/png": "[encoded data removed]",
      "text/plain": [
       "<Figure size 1560x900 with 1 Axes>"
      ]
     },
     "metadata": {},
     "output_type": "display_data"
    }
   ],
   "source": [
    "fig, ax = plt.subplots(figsize=(5.2, 3), dpi=300, tight_layout=True)\n",
    "tempun.plot_timeblocks_data(wordcounts_data, ax=ax, color=\"darkblue\")\n",
    "ax.set_xticks(range(-200,2000,100))\n",
    "ax.set_xticklabels([str(el) for el in range(-200,2000,100)], rotation=90)\n",
    "ax.set_xlim(-250, 1950)\n",
    "\n",
    "ax.set_ylim(0,55000000)\n",
    "ax.set_yticks(range(10000000, 60000000, 10000000))\n",
    "ax.set_yticklabels([str(el) + \"M\" for el in range(10, 60, 10)])\n"
   ]
  },
  {
   "cell_type": "code",
   "execution_count": 24,
   "id": "6fb8b716ce976a2b",
   "metadata": {
    "ExecuteTime": {
     "end_time": "2024-03-04T10:57:52.345608Z",
     "start_time": "2024-03-04T10:57:52.338463Z"
    },
    "collapsed": false,
    "jupyter": {
     "outputs_hidden": false
    }
   },
   "outputs": [
    {
     "data": {
      "text/plain": [
       "0.11851851851851852"
      ]
     },
     "execution_count": 24,
     "metadata": {},
     "output_type": "execute_result"
    }
   ],
   "source": [
    "80 / 675"
   ]
  },
  {
   "cell_type": "code",
   "execution_count": 24,
   "id": "3e5aae02bdcbac37",
   "metadata": {
    "ExecuteTime": {
     "end_time": "2024-03-04T10:57:52.349555Z",
     "start_time": "2024-03-04T10:57:52.347414Z"
    },
    "collapsed": false,
    "jupyter": {
     "outputs_hidden": false
    }
   },
   "outputs": [],
   "source": []
  },
  {
   "cell_type": "code",
   "execution_count": 63,
   "id": "bb9e8a42c18a9fc4",
   "metadata": {
    "ExecuteTime": {
     "end_time": "2023-12-08T11:34:54.057834Z",
     "start_time": "2023-12-08T11:34:53.888519Z"
    },
    "collapsed": false,
    "jupyter": {
     "outputs_hidden": false
    }
   },
   "outputs": [],
   "source": [
    "fig.savefig(\"../figures/corpus-corporum_tempdist.png\")"
   ]
  },
  {
   "cell_type": "code",
   "execution_count": 73,
   "id": "bdc3502ce0af0d0f",
   "metadata": {
    "ExecuteTime": {
     "end_time": "2023-12-11T10:48:44.307471Z",
     "start_time": "2023-12-11T10:48:44.288436Z"
    },
    "collapsed": false,
    "jupyter": {
     "outputs_hidden": false
    }
   },
   "outputs": [],
   "source": [
    "cc_raw.drop(\"random_dates\", axis=1, inplace=True)"
   ]
  },
  {
   "cell_type": "code",
   "execution_count": 74,
   "id": "db074f3da213f6cf",
   "metadata": {
    "ExecuteTime": {
     "end_time": "2023-12-11T10:49:00.418292Z",
     "start_time": "2023-12-11T10:49:00.403183Z"
    },
    "collapsed": false,
    "jupyter": {
     "outputs_hidden": false
    }
   },
   "outputs": [
    {
     "data": {
      "text/html": [
       "<div>\n",
       "<style scoped>\n",
       "    .dataframe tbody tr th:only-of-type {\n",
       "        vertical-align: middle;\n",
       "    }\n",
       "\n",
       "    .dataframe tbody tr th {\n",
       "        vertical-align: top;\n",
       "    }\n",
       "\n",
       "    .dataframe thead th {\n",
       "        text-align: right;\n",
       "    }\n",
       "</style>\n",
       "<table border=\"1\" class=\"dataframe\">\n",
       "  <thead>\n",
       "    <tr style=\"text-align: right;\">\n",
       "      <th></th>\n",
       "      <th>Unnamed: 0</th>\n",
       "      <th>title</th>\n",
       "      <th>author</th>\n",
       "      <th>year</th>\n",
       "      <th>word_count</th>\n",
       "      <th>not_before</th>\n",
       "      <th>not_after</th>\n",
       "      <th>is_earlymodern</th>\n",
       "    </tr>\n",
       "  </thead>\n",
       "  <tbody>\n",
       "    <tr>\n",
       "      <th>0</th>\n",
       "      <td>latin_xmls\\10.xml</td>\n",
       "      <td>De facto Ungarie magne1236\\n</td>\n",
       "      <td>Riccardus OFM</td>\n",
       "      <td>fl.1236</td>\n",
       "      <td>3340</td>\n",
       "      <td>1236.0</td>\n",
       "      <td>1236.0</td>\n",
       "      <td>False</td>\n",
       "    </tr>\n",
       "    <tr>\n",
       "      <th>1</th>\n",
       "      <td>latin_xmls\\100.xml</td>\n",
       "      <td>De trinitate</td>\n",
       "      <td>Novatianus</td>\n",
       "      <td>fl. 260</td>\n",
       "      <td>44792</td>\n",
       "      <td>260.0</td>\n",
       "      <td>260.0</td>\n",
       "      <td>False</td>\n",
       "    </tr>\n",
       "    <tr>\n",
       "      <th>2</th>\n",
       "      <td>latin_xmls\\10000.xml</td>\n",
       "      <td>De quadratura circuli</td>\n",
       "      <td>Franco Leodiensis</td>\n",
       "      <td>NaN</td>\n",
       "      <td>1648</td>\n",
       "      <td>NaN</td>\n",
       "      <td>NaN</td>\n",
       "      <td>False</td>\n",
       "    </tr>\n",
       "    <tr>\n",
       "      <th>3</th>\n",
       "      <td>latin_xmls\\10001.xml</td>\n",
       "      <td>Epistola ad Berengarium</td>\n",
       "      <td>Frollandus Sylvanectensis</td>\n",
       "      <td>NaN</td>\n",
       "      <td>518</td>\n",
       "      <td>NaN</td>\n",
       "      <td>NaN</td>\n",
       "      <td>False</td>\n",
       "    </tr>\n",
       "    <tr>\n",
       "      <th>4</th>\n",
       "      <td>latin_xmls\\10002.xml</td>\n",
       "      <td>Diplomata</td>\n",
       "      <td>Gervasius Remensis1055-1067</td>\n",
       "      <td>1055-1067</td>\n",
       "      <td>1532</td>\n",
       "      <td>1055.0</td>\n",
       "      <td>1067.0</td>\n",
       "      <td>False</td>\n",
       "    </tr>\n",
       "    <tr>\n",
       "      <th>5</th>\n",
       "      <td>latin_xmls\\10003.xml</td>\n",
       "      <td>Epistola ad Valcherum</td>\n",
       "      <td>Gozechinus Scholasticus</td>\n",
       "      <td>fl. 1059</td>\n",
       "      <td>26012</td>\n",
       "      <td>1059.0</td>\n",
       "      <td>1059.0</td>\n",
       "      <td>False</td>\n",
       "    </tr>\n",
       "    <tr>\n",
       "      <th>6</th>\n",
       "      <td>latin_xmls\\10004.xml</td>\n",
       "      <td>Carmen de conflictu ovis et lini</td>\n",
       "      <td>Hermannus Contractus1013-1054</td>\n",
       "      <td>1013-1054</td>\n",
       "      <td>8816</td>\n",
       "      <td>1013.0</td>\n",
       "      <td>1054.0</td>\n",
       "      <td>False</td>\n",
       "    </tr>\n",
       "    <tr>\n",
       "      <th>7</th>\n",
       "      <td>latin_xmls\\10005.xml</td>\n",
       "      <td>Chronicon</td>\n",
       "      <td>Hermannus Contractus1013-1054</td>\n",
       "      <td>1013-1054</td>\n",
       "      <td>161493</td>\n",
       "      <td>1013.0</td>\n",
       "      <td>1054.0</td>\n",
       "      <td>False</td>\n",
       "    </tr>\n",
       "    <tr>\n",
       "      <th>8</th>\n",
       "      <td>latin_xmls\\10006.xml</td>\n",
       "      <td>De mensura astrolabii</td>\n",
       "      <td>Hermannus Contractus1013-1054</td>\n",
       "      <td>1013-1054</td>\n",
       "      <td>9363</td>\n",
       "      <td>1013.0</td>\n",
       "      <td>1054.0</td>\n",
       "      <td>False</td>\n",
       "    </tr>\n",
       "    <tr>\n",
       "      <th>9</th>\n",
       "      <td>latin_xmls\\10007.xml</td>\n",
       "      <td>De utilitatibus astrolabii</td>\n",
       "      <td>Hermannus Contractus1013-1054</td>\n",
       "      <td>1013-1054</td>\n",
       "      <td>24633</td>\n",
       "      <td>1013.0</td>\n",
       "      <td>1054.0</td>\n",
       "      <td>False</td>\n",
       "    </tr>\n",
       "  </tbody>\n",
       "</table>\n",
       "</div>"
      ],
      "text/plain": [
       "             Unnamed: 0                             title  \\\n",
       "0     latin_xmls\\10.xml      De facto Ungarie magne1236\\n   \n",
       "1    latin_xmls\\100.xml                      De trinitate   \n",
       "2  latin_xmls\\10000.xml             De quadratura circuli   \n",
       "3  latin_xmls\\10001.xml           Epistola ad Berengarium   \n",
       "4  latin_xmls\\10002.xml                         Diplomata   \n",
       "5  latin_xmls\\10003.xml             Epistola ad Valcherum   \n",
       "6  latin_xmls\\10004.xml  Carmen de conflictu ovis et lini   \n",
       "7  latin_xmls\\10005.xml                         Chronicon   \n",
       "8  latin_xmls\\10006.xml             De mensura astrolabii   \n",
       "9  latin_xmls\\10007.xml        De utilitatibus astrolabii   \n",
       "\n",
       "                           author       year  word_count  not_before  \\\n",
       "0                   Riccardus OFM    fl.1236        3340      1236.0   \n",
       "1                      Novatianus    fl. 260       44792       260.0   \n",
       "2              Franco Leodiensis         NaN        1648         NaN   \n",
       "3      Frollandus Sylvanectensis         NaN         518         NaN   \n",
       "4    Gervasius Remensis1055-1067   1055-1067        1532      1055.0   \n",
       "5         Gozechinus Scholasticus   fl. 1059       26012      1059.0   \n",
       "6  Hermannus Contractus1013-1054   1013-1054        8816      1013.0   \n",
       "7  Hermannus Contractus1013-1054   1013-1054      161493      1013.0   \n",
       "8  Hermannus Contractus1013-1054   1013-1054        9363      1013.0   \n",
       "9  Hermannus Contractus1013-1054   1013-1054       24633      1013.0   \n",
       "\n",
       "   not_after  is_earlymodern  \n",
       "0     1236.0           False  \n",
       "1      260.0           False  \n",
       "2        NaN           False  \n",
       "3        NaN           False  \n",
       "4     1067.0           False  \n",
       "5     1059.0           False  \n",
       "6     1054.0           False  \n",
       "7     1054.0           False  \n",
       "8     1054.0           False  \n",
       "9     1054.0           False  "
      ]
     },
     "execution_count": 74,
     "metadata": {},
     "output_type": "execute_result"
    }
   ],
   "source": [
    "cc_raw.head(10)"
   ]
  },
  {
   "cell_type": "code",
   "execution_count": 75,
   "id": "9b25f82d1e5dc94e",
   "metadata": {
    "ExecuteTime": {
     "end_time": "2023-12-11T10:50:38.870692Z",
     "start_time": "2023-12-11T10:50:33.086971Z"
    },
    "collapsed": false,
    "jupyter": {
     "outputs_hidden": false
    }
   },
   "outputs": [],
   "source": [
    "set_with_dataframe(noscemus_gs.add_worksheet(\"corpus-corporum\", 1,1), cc_raw)"
   ]
  },
  {
   "cell_type": "code",
   "execution_count": null,
   "id": "4ddf412b68acf702",
   "metadata": {
    "collapsed": false,
    "jupyter": {
     "outputs_hidden": false
    }
   },
   "outputs": [],
   "source": []
  }
 ],
 "metadata": {
  "kernelspec": {
   "display_name": "latin_global_kernel",
   "language": "python",
   "name": "latin_global_kernel"
  },
  "language_info": {
   "codemirror_mode": {
    "name": "ipython",
    "version": 3
   },
   "file_extension": ".py",
   "mimetype": "text/x-python",
   "name": "python",
   "nbconvert_exporter": "python",
   "pygments_lexer": "ipython3",
   "version": "3.10.12"
  }
 },
 "nbformat": 4,
 "nbformat_minor": 5
}
