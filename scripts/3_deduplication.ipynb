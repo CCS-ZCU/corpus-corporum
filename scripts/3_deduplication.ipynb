{
 "cells": [
  {
   "metadata": {
    "ExecuteTime": {
     "end_time": "2025-06-20T13:11:57.909421Z",
     "start_time": "2025-06-20T13:11:57.906922Z"
    }
   },
   "cell_type": "code",
   "source": [
    "import os\n",
    "import json"
   ],
   "id": "318e4ff477bbc997",
   "outputs": [],
   "execution_count": 42
  },
  {
   "metadata": {
    "ExecuteTime": {
     "end_time": "2025-06-20T13:11:58.193776Z",
     "start_time": "2025-06-20T13:11:58.190659Z"
    }
   },
   "cell_type": "code",
   "source": [
    "# load an example text with duplicated content\n",
    "path = \"/srv/data/corpus-corporum/cc_sents_jsons_duplicated/\"\n",
    "id = 10787\n",
    "fn = str(id) + \".json\""
   ],
   "id": "c1da1bd83926acb6",
   "outputs": [],
   "execution_count": 43
  },
  {
   "metadata": {
    "ExecuteTime": {
     "end_time": "2025-06-20T13:11:58.602938Z",
     "start_time": "2025-06-20T13:11:58.599823Z"
    }
   },
   "cell_type": "code",
   "source": "sents_data = json.load(open(path + fn, \"rb\"))",
   "id": "3b154303c77e0ab4",
   "outputs": [],
   "execution_count": 44
  },
  {
   "metadata": {
    "ExecuteTime": {
     "end_time": "2025-06-20T13:12:09.235838Z",
     "start_time": "2025-06-20T13:12:09.228834Z"
    }
   },
   "cell_type": "code",
   "source": "sents_data[:2]",
   "id": "52e8dac8cdddc601",
   "outputs": [
    {
     "data": {
      "text/plain": [
       "[['10787',\n",
       "  0,\n",
       "  'Epistola ad Gaufridum Richardum et monachos Sauignienses Reuerendissimo domino et Dei seruo abbati Sauigniensi Gaufrido, nec non et ejusdem coenobii uenerando priori Richardo, uniuersoque conuentui, Joannes Constantiensis sic de uirtute in uirtutem proficere, ut Deum deorum mereantur in Sion uidere.',\n",
       "  [['Epistola', 'epistola', 'NOUN', [0, 8]],\n",
       "   ['ad', 'ad', 'ADP', [9, 11]],\n",
       "   ['Gaufridum', 'Gaufridus', 'PROPN', [12, 21]],\n",
       "   ['Richardum', 'Richardus', 'PROPN', [22, 31]],\n",
       "   ['et', 'et', 'CCONJ', [32, 34]],\n",
       "   ['monachos', 'monachus', 'NOUN', [35, 43]],\n",
       "   ['Sauignienses', 'Sauignienses', 'PROPN', [44, 56]],\n",
       "   ['Reuerendissimo', 'Reuerendus', 'ADJ', [57, 71]],\n",
       "   ['domino', 'dominus', 'NOUN', [72, 78]],\n",
       "   ['et', 'et', 'CCONJ', [79, 81]],\n",
       "   ['Dei', 'Deus', 'PROPN', [82, 85]],\n",
       "   ['seruo', 'seruus', 'NOUN', [86, 91]],\n",
       "   ['abbati', 'abbas', 'NOUN', [92, 98]],\n",
       "   ['Sauigniensi', 'Sauigniensus', 'PROPN', [99, 110]],\n",
       "   ['Gaufrido', 'Gaufridum', 'PROPN', [111, 119]],\n",
       "   [',', ',', 'PUNCT', [119, 120]],\n",
       "   ['nec', 'neque', 'CCONJ', [121, 124]],\n",
       "   ['non', 'non', 'PART', [125, 128]],\n",
       "   ['et', 'et', 'CCONJ', [129, 131]],\n",
       "   ['ejusdem', 'jdem', 'DET', [132, 139]],\n",
       "   ['coenobii', 'coenobium', 'NOUN', [140, 148]],\n",
       "   ['uenerando', 'uenero', 'VERB', [149, 158]],\n",
       "   ['priori', 'prior', 'ADJ', [159, 165]],\n",
       "   ['Richardo', 'Richardus', 'PROPN', [166, 174]],\n",
       "   [',', ',', 'PUNCT', [174, 175]],\n",
       "   ['uniuerso', 'uniuersus', 'DET', [176, 184]],\n",
       "   ['que', 'que', 'CCONJ', [184, 187]],\n",
       "   ['conuentui', 'conuentus', 'NOUN', [188, 197]],\n",
       "   [',', ',', 'PUNCT', [197, 198]],\n",
       "   ['Joannes', 'Joannes', 'PROPN', [199, 206]],\n",
       "   ['Constantiensis', 'constantiensis', 'PROPN', [207, 221]],\n",
       "   ['sic', 'sic', 'ADV', [222, 225]],\n",
       "   ['de', 'de', 'ADP', [226, 228]],\n",
       "   ['uirtute', 'uirtus', 'NOUN', [229, 236]],\n",
       "   ['in', 'in', 'ADP', [237, 239]],\n",
       "   ['uirtutem', 'uirtus', 'NOUN', [240, 248]],\n",
       "   ['proficere', 'proficio', 'VERB', [249, 258]],\n",
       "   [',', ',', 'PUNCT', [258, 259]],\n",
       "   ['ut', 'ut', 'SCONJ', [260, 262]],\n",
       "   ['Deum', 'Deus', 'NOUN', [263, 267]],\n",
       "   ['deorum', 'deus', 'NOUN', [268, 274]],\n",
       "   ['mereantur', 'mereo', 'VERB', [275, 284]],\n",
       "   ['in', 'in', 'ADP', [285, 287]],\n",
       "   ['Sion', 'Sion', 'PROPN', [288, 292]],\n",
       "   ['uidere', 'uideo', 'VERB', [293, 299]],\n",
       "   ['.', '.', 'PUNCT', [299, 300]]]],\n",
       " ['10787',\n",
       "  1,\n",
       "  'Gratias et laudes diuinae misericordiae refero, quoniam oliuae fructiferae domus Domini, nec non et altitudo cedrorum Libani, quinimo et montis Sion cupressi, me seruum pigrum, arborem pene inutilem et ulmi similitudine infructuosam, saltem ad Domini uineam sustinendam inuitare et supponere gratia sua dignantur.',\n",
       "  [['Gratias', 'gratia', 'NOUN', [0, 7]],\n",
       "   ['et', 'et', 'CCONJ', [8, 10]],\n",
       "   ['laudes', 'laus', 'NOUN', [11, 17]],\n",
       "   ['diuinae', 'diuinus', 'ADJ', [18, 25]],\n",
       "   ['misericordiae', 'misericordia', 'NOUN', [26, 39]],\n",
       "   ['refero', 'refero', 'VERB', [40, 46]],\n",
       "   [',', ',', 'PUNCT', [46, 47]],\n",
       "   ['quoniam', 'quoniam', 'SCONJ', [48, 55]],\n",
       "   ['oliuae', 'oliuus', 'NOUN', [56, 62]],\n",
       "   ['fructiferae', 'fructiferus', 'ADJ', [63, 74]],\n",
       "   ['domus', 'domus', 'NOUN', [75, 80]],\n",
       "   ['Domini', 'Dominus', 'NOUN', [81, 87]],\n",
       "   [',', ',', 'PUNCT', [87, 88]],\n",
       "   ['nec', 'neque', 'CCONJ', [89, 92]],\n",
       "   ['non', 'non', 'PART', [93, 96]],\n",
       "   ['et', 'et', 'CCONJ', [97, 99]],\n",
       "   ['altitudo', 'altitudo', 'NOUN', [100, 108]],\n",
       "   ['cedrorum', 'cedrus', 'NOUN', [109, 117]],\n",
       "   ['Libani', '', 'NOUN', [118, 124]],\n",
       "   [',', ',', 'PUNCT', [124, 125]],\n",
       "   ['quinimo', 'quinimus', 'ADJ', [126, 133]],\n",
       "   ['et', 'et', 'CCONJ', [134, 136]],\n",
       "   ['montis', 'mons', 'NOUN', [137, 143]],\n",
       "   ['Sion', 'Sion', 'PROPN', [144, 148]],\n",
       "   ['cupressi', 'cupredior', 'VERB', [149, 157]],\n",
       "   [',', ',', 'PUNCT', [157, 158]],\n",
       "   ['me', 'ego', 'PRON', [159, 161]],\n",
       "   ['seruum', 'seruus', 'NOUN', [162, 168]],\n",
       "   ['pigrum', 'piger', 'ADJ', [169, 175]],\n",
       "   [',', ',', 'PUNCT', [175, 176]],\n",
       "   ['arborem', 'arbor', 'NOUN', [177, 184]],\n",
       "   ['pene', 'penis', 'VERB', [185, 189]],\n",
       "   ['inutilem', 'inutilis', 'ADJ', [190, 198]],\n",
       "   ['et', 'et', 'CCONJ', [199, 201]],\n",
       "   ['ulmi', 'ulmus', 'ADJ', [202, 206]],\n",
       "   ['similitudine', 'similitudo', 'NOUN', [207, 219]],\n",
       "   ['infructuosam', 'infructuosus', 'ADJ', [220, 232]],\n",
       "   [',', ',', 'PUNCT', [232, 233]],\n",
       "   ['saltem', 'salto', 'ADV', [234, 240]],\n",
       "   ['ad', 'ad', 'ADP', [241, 243]],\n",
       "   ['Domini', 'Dominus', 'NOUN', [244, 250]],\n",
       "   ['uineam', 'uineus', 'NOUN', [251, 257]],\n",
       "   ['sustinendam', 'sustineo', 'VERB', [258, 269]],\n",
       "   ['inuitare', 'inuito', 'VERB', [270, 278]],\n",
       "   ['et', 'et', 'CCONJ', [279, 281]],\n",
       "   ['supponere', 'suppono', 'VERB', [282, 291]],\n",
       "   ['gratia', 'gratia', 'NOUN', [292, 298]],\n",
       "   ['sua', 'suus', 'DET', [299, 302]],\n",
       "   ['dignantur', 'digno', 'VERB', [303, 312]],\n",
       "   ['.', '.', 'PUNCT', [312, 313]]]]]"
      ]
     },
     "execution_count": 46,
     "metadata": {},
     "output_type": "execute_result"
    }
   ],
   "execution_count": 46
  },
  {
   "metadata": {
    "ExecuteTime": {
     "end_time": "2025-06-20T13:15:10.408243Z",
     "start_time": "2025-06-20T13:15:10.176008Z"
    }
   },
   "cell_type": "code",
   "source": [
    "path = \"/srv/data/corpus-corporum/cc_sents_jsons_duplicated/\"\n",
    "id = 10012\n",
    "fn = str(id) + \".json\"\n",
    "sents_data = json.load(open(path + fn, \"rb\"))\n",
    "len(sents_data)"
   ],
   "id": "b38928acdb9545e2",
   "outputs": [
    {
     "data": {
      "text/plain": [
       "13992"
      ]
     },
     "execution_count": 52,
     "metadata": {},
     "output_type": "execute_result"
    }
   ],
   "execution_count": 52
  },
  {
   "metadata": {
    "ExecuteTime": {
     "end_time": "2025-06-20T13:15:11.140103Z",
     "start_time": "2025-06-20T13:15:11.134009Z"
    }
   },
   "cell_type": "code",
   "source": "sents_data[:3]",
   "id": "4260b5c999eb71bb",
   "outputs": [
    {
     "data": {
      "text/plain": [
       "[['10012',\n",
       "  0,\n",
       "  'Admonitio Praeuia.',\n",
       "  [['Admonitio', 'admonitio', 'NOUN', [0, 9]],\n",
       "   ['Praeuia', 'praeuius', 'PROPN', [10, 17]],\n",
       "   ['.', '.', 'PUNCT', [17, 18]]]],\n",
       " ['10012',\n",
       "  1,\n",
       "  'Postquam simoniam cum ipso parente suo Simone Mago spirituali jaculo confodit princeps apostolorum, tam horrendi monstri ne nomen quidem apud Christianos audiri deberet.',\n",
       "  [['Postquam', 'postquam', 'SCONJ', [0, 8]],\n",
       "   ['simoniam', 'simonia', 'NOUN', [9, 17]],\n",
       "   ['cum', 'cum', 'ADP', [18, 21]],\n",
       "   ['ipso', 'ipse', 'DET', [22, 26]],\n",
       "   ['parente', 'parens', 'NOUN', [27, 34]],\n",
       "   ['suo', 'suus', 'DET', [35, 38]],\n",
       "   ['Simone', 'Simo', 'PROPN', [39, 45]],\n",
       "   ['Mago', 'Mago', 'PROPN', [46, 50]],\n",
       "   ['spirituali', 'spiritualis', 'ADJ', [51, 61]],\n",
       "   ['jaculo', 'iaculus', 'NOUN', [62, 68]],\n",
       "   ['confodit', 'confodio', 'VERB', [69, 77]],\n",
       "   ['princeps', 'princeps', 'NOUN', [78, 86]],\n",
       "   ['apostolorum', 'apostolus', 'NOUN', [87, 98]],\n",
       "   [',', ',', 'PUNCT', [98, 99]],\n",
       "   ['tam', 'tam', 'ADV', [100, 103]],\n",
       "   ['horrendi', 'horreo', 'VERB', [104, 112]],\n",
       "   ['monstri', 'monstrum', 'NOUN', [113, 120]],\n",
       "   ['ne', 'ne', 'SCONJ', [121, 123]],\n",
       "   ['nomen', 'nomen', 'NOUN', [124, 129]],\n",
       "   ['quidem', 'quidem', 'PART', [130, 136]],\n",
       "   ['apud', 'apud', 'ADP', [137, 141]],\n",
       "   ['Christianos', 'Christianus', 'PROPN', [142, 153]],\n",
       "   ['audiri', 'audio', 'VERB', [154, 160]],\n",
       "   ['deberet', 'debeo', 'VERB', [161, 168]],\n",
       "   ['.', '.', 'PUNCT', [168, 169]]]],\n",
       " ['10012',\n",
       "  2,\n",
       "  'Uerum ea est ejus malitia ut, quamuis nihil eo in Ecclesia perniciosius, nihil tamen in ea eo frequentius;',\n",
       "  [['Uerum', 'uerus', 'ADJ', [0, 5]],\n",
       "   ['ea', 'is', 'PRON', [6, 8]],\n",
       "   ['est', 'sum', 'AUX', [9, 12]],\n",
       "   ['ejus', 'ejus', 'DET', [13, 17]],\n",
       "   ['malitia', 'malitia', 'NOUN', [18, 25]],\n",
       "   ['ut', 'ut', 'SCONJ', [26, 28]],\n",
       "   [',', ',', 'PUNCT', [28, 29]],\n",
       "   ['quamuis', 'quamuis', 'SCONJ', [30, 37]],\n",
       "   ['nihil', 'nihil', 'PRON', [38, 43]],\n",
       "   ['eo', 'is', 'PRON', [44, 46]],\n",
       "   ['in', 'in', 'ADP', [47, 49]],\n",
       "   ['Ecclesia', 'ecclesia', 'NOUN', [50, 58]],\n",
       "   ['perniciosius', 'perniciosior', 'ADV', [59, 71]],\n",
       "   [',', ',', 'PUNCT', [71, 72]],\n",
       "   ['nihil', 'nihil', 'PRON', [73, 78]],\n",
       "   ['tamen', 'tamen', 'ADV', [79, 84]],\n",
       "   ['in', 'in', 'ADP', [85, 87]],\n",
       "   ['ea', 'is', 'PRON', [88, 90]],\n",
       "   ['eo', 'is', 'PRON', [91, 93]],\n",
       "   ['frequentius', 'frequenter', 'ADV', [94, 105]],\n",
       "   [';', ';', 'PUNCT', [105, 106]]]]]"
      ]
     },
     "execution_count": 53,
     "metadata": {},
     "output_type": "execute_result"
    }
   ],
   "execution_count": 53
  },
  {
   "metadata": {
    "ExecuteTime": {
     "end_time": "2025-06-20T13:15:01.399671Z",
     "start_time": "2025-06-20T13:15:01.396017Z"
    }
   },
   "cell_type": "code",
   "source": [
    "def deduplicate_sents_data(sents_data):\n",
    "    block_size = 3\n",
    "    i = 0\n",
    "    while i <= len(sents_data) - block_size:\n",
    "        current_block = [s[2] for s in sents_data[i:i + block_size]]\n",
    "\n",
    "        # Search for repeating block\n",
    "        found_duplicate = False\n",
    "        for j in range(i + 1, len(sents_data) - block_size + 1):\n",
    "            comparison_block = [s[2] for s in sents_data[j:j + block_size]]\n",
    "            if current_block == comparison_block:\n",
    "                # Delete the second block\n",
    "                del sents_data[j:j + block_size]\n",
    "                found_duplicate = True\n",
    "                break  # Stop scanning once one duplicate is removed\n",
    "\n",
    "        if not found_duplicate:\n",
    "            i += 1  # Advance if no match was found\n",
    "    return sents_data"
   ],
   "id": "40e00950600619e7",
   "outputs": [],
   "execution_count": 51
  },
  {
   "metadata": {
    "ExecuteTime": {
     "end_time": "2025-06-20T13:15:14.878450Z",
     "start_time": "2025-06-20T13:15:14.874131Z"
    }
   },
   "cell_type": "code",
   "source": "len(sents_data)",
   "id": "371c2d0fbed79447",
   "outputs": [
    {
     "data": {
      "text/plain": [
       "13992"
      ]
     },
     "execution_count": 54,
     "metadata": {},
     "output_type": "execute_result"
    }
   ],
   "execution_count": 54
  },
  {
   "metadata": {
    "ExecuteTime": {
     "end_time": "2025-06-20T13:15:56.461796Z",
     "start_time": "2025-06-20T13:15:49.955247Z"
    }
   },
   "cell_type": "code",
   "source": [
    "deduplicated_sents_data = deduplicate_sents_data(sents_data)\n",
    "len(deduplicated_sents_data)"
   ],
   "id": "d0aaa565799af1fe",
   "outputs": [
    {
     "data": {
      "text/plain": [
       "4755"
      ]
     },
     "execution_count": 55,
     "metadata": {},
     "output_type": "execute_result"
    }
   ],
   "execution_count": 55
  },
  {
   "metadata": {
    "ExecuteTime": {
     "end_time": "2025-06-20T13:17:07.047491Z",
     "start_time": "2025-06-20T13:17:07.044187Z"
    }
   },
   "cell_type": "code",
   "source": [
    "# make a new dir, but skip if it already exists\n",
    "target_path = \"/srv/data/corpus-corporum/cc_sents_jsons/\"\n",
    "os.makedirs(target_path, exist_ok=True)"
   ],
   "id": "be12442fe0e6a5a8",
   "outputs": [],
   "execution_count": 56
  },
  {
   "metadata": {
    "ExecuteTime": {
     "end_time": "2025-06-21T20:55:24.494516Z",
     "start_time": "2025-06-20T13:17:14.204910Z"
    }
   },
   "cell_type": "code",
   "source": [
    "%%time\n",
    "source_path = \"/srv/data/corpus-corporum/cc_sents_jsons_duplicated/\"\n",
    "fns = os.listdir(source_path)\n",
    "for fn in fns:\n",
    "    sents_data = json.load(open(path + fn, \"rb\"))\n",
    "    sents_data = deduplicate_sents_data(sents_data)\n",
    "    with open(target_path + fn, \"w\") as f:\n",
    "        json.dump(sents_data, f)\n"
   ],
   "id": "f51808313645517f",
   "outputs": [
    {
     "name": "stdout",
     "output_type": "stream",
     "text": [
      "CPU times: user 1d 7h 36min 34s, sys: 57.3 s, total: 1d 7h 37min 31s\n",
      "Wall time: 1d 7h 38min 10s\n"
     ]
    }
   ],
   "execution_count": 57
  },
  {
   "metadata": {},
   "cell_type": "code",
   "outputs": [],
   "execution_count": null,
   "source": "",
   "id": "5c97bc79ff1e38f2"
  }
 ],
 "metadata": {
  "kernelspec": {
   "display_name": "Python 3",
   "language": "python",
   "name": "python3"
  },
  "language_info": {
   "codemirror_mode": {
    "name": "ipython",
    "version": 2
   },
   "file_extension": ".py",
   "mimetype": "text/x-python",
   "name": "python",
   "nbconvert_exporter": "python",
   "pygments_lexer": "ipython2",
   "version": "2.7.6"
  }
 },
 "nbformat": 4,
 "nbformat_minor": 5
}
